{
 "cells": [
  {
   "cell_type": "markdown",
   "metadata": {},
   "source": [
    "# Map Matching Project - Phase 1\n",
    "<div style=\"text-align: center\">\n",
    "<h1 style = \"color: red\"> Sharif University Of Technology</h1>\n",
    "<h2 style = \"color: green\"> DR. Mahdieh Soleymani | DR. MohammadHossein Rohban </h2>\n",
    "<h3 style = \"color: cyan\"> Head of Project: AmirHossein Razlighi <h3>\n",
    "<h3 style = \"color: cyan\"> Designed By: AmirHossein Razlighi - Hamidreza Yaghoubi - Alireza Heidari - Reza Vahidi Majd - Parham Rezaei<h3>\n",
    "<h3 style = \"color: cyan\"> Documents Designed by: Mohammad Moshtaghi Far<h3>\n",
    "<h4 style = \"color: white\"> Ask your questions via quera</h4>\n",
    "<h5> Save your file with format: STUDENT NUMBER_Phase1.ipynb or .zip </h5>\n",
    "</div>"
   ]
  },
  {
   "cell_type": "markdown",
   "metadata": {
    "id": "NwJh3NuumTZT"
   },
   "source": [
    "Setting up the environment"
   ]
  },
  {
   "cell_type": "code",
   "execution_count": 6,
   "metadata": {
    "colab": {
     "base_uri": "https://localhost:8080/"
    },
    "id": "JTKl9O5glmbP",
    "outputId": "e0087573-d26c-4f57-9616-e4a98b4605fd"
   },
   "outputs": [
    {
     "name": "stdout",
     "output_type": "stream",
     "text": [
      "Collecting pyrosm\n",
      "  Using cached pyrosm-0.6.2.tar.gz (2.5 MB)\n",
      "  Installing build dependencies ... \u001b[?25ldone\n",
      "\u001b[?25h  Getting requirements to build wheel ... \u001b[?25ldone\n",
      "\u001b[?25h  Preparing metadata (pyproject.toml) ... \u001b[?25ldone\n",
      "\u001b[?25hRequirement already satisfied: keplergl in /Users/hamidreza/opt/anaconda3/lib/python3.9/site-packages (0.3.2)\n",
      "Collecting haversine\n",
      "  Using cached haversine-2.8.0-py2.py3-none-any.whl (7.7 kB)\n",
      "Requirement already satisfied: pandas in /Users/hamidreza/opt/anaconda3/lib/python3.9/site-packages (1.4.4)\n",
      "Requirement already satisfied: numpy in /Users/hamidreza/opt/anaconda3/lib/python3.9/site-packages (1.21.5)\n",
      "Requirement already satisfied: geopandas>=0.12.0 in /Users/hamidreza/opt/anaconda3/lib/python3.9/site-packages (from pyrosm) (0.14.2)\n",
      "Collecting cykhash\n",
      "  Using cached cykhash-2.0.1.tar.gz (44 kB)\n",
      "  Installing build dependencies ... \u001b[?25ldone\n",
      "\u001b[?25h  Getting requirements to build wheel ... \u001b[?25ldone\n",
      "\u001b[?25h  Preparing metadata (pyproject.toml) ... \u001b[?25ldone\n",
      "\u001b[?25hCollecting python-rapidjson\n",
      "  Downloading python_rapidjson-1.14-cp39-cp39-macosx_10_9_x86_64.whl (226 kB)\n",
      "\u001b[2K     \u001b[90m━━━━━━━━━━━━━━━━━━━━━━━━━━━━━━━━━━━━━\u001b[0m \u001b[32m226.5/226.5 kB\u001b[0m \u001b[31m632.3 kB/s\u001b[0m eta \u001b[36m0:00:00\u001b[0m00:01\u001b[0m00:01\u001b[0m\n",
      "\u001b[?25hRequirement already satisfied: shapely>=2.0.1 in /Users/hamidreza/opt/anaconda3/lib/python3.9/site-packages (from pyrosm) (2.0.2)\n",
      "Requirement already satisfied: setuptools>=18.0 in /Users/hamidreza/opt/anaconda3/lib/python3.9/site-packages (from pyrosm) (63.4.1)\n",
      "Collecting pyrobuf\n",
      "  Using cached pyrobuf-0.9.3-cp39-cp39-macosx_10_9_x86_64.whl\n",
      "Requirement already satisfied: traittypes>=0.2.1 in /Users/hamidreza/opt/anaconda3/lib/python3.9/site-packages (from keplergl) (0.2.1)\n",
      "Requirement already satisfied: ipywidgets<8,>=7.0.0 in /Users/hamidreza/opt/anaconda3/lib/python3.9/site-packages (from keplergl) (7.6.5)\n",
      "Requirement already satisfied: python-dateutil>=2.8.1 in /Users/hamidreza/opt/anaconda3/lib/python3.9/site-packages (from pandas) (2.8.2)\n",
      "Requirement already satisfied: pytz>=2020.1 in /Users/hamidreza/opt/anaconda3/lib/python3.9/site-packages (from pandas) (2022.7.1)\n",
      "Requirement already satisfied: packaging in /Users/hamidreza/opt/anaconda3/lib/python3.9/site-packages (from geopandas>=0.12.0->pyrosm) (21.3)\n",
      "Requirement already satisfied: pyproj>=3.3.0 in /Users/hamidreza/opt/anaconda3/lib/python3.9/site-packages (from geopandas>=0.12.0->pyrosm) (3.6.1)\n",
      "Requirement already satisfied: fiona>=1.8.21 in /Users/hamidreza/opt/anaconda3/lib/python3.9/site-packages (from geopandas>=0.12.0->pyrosm) (1.9.5)\n",
      "Requirement already satisfied: ipython-genutils~=0.2.0 in /Users/hamidreza/opt/anaconda3/lib/python3.9/site-packages (from ipywidgets<8,>=7.0.0->keplergl) (0.2.0)\n",
      "Requirement already satisfied: traitlets>=4.3.1 in /Users/hamidreza/opt/anaconda3/lib/python3.9/site-packages (from ipywidgets<8,>=7.0.0->keplergl) (5.1.1)\n",
      "Requirement already satisfied: ipython>=4.0.0 in /Users/hamidreza/opt/anaconda3/lib/python3.9/site-packages (from ipywidgets<8,>=7.0.0->keplergl) (7.31.1)\n",
      "Requirement already satisfied: nbformat>=4.2.0 in /Users/hamidreza/opt/anaconda3/lib/python3.9/site-packages (from ipywidgets<8,>=7.0.0->keplergl) (5.5.0)\n",
      "Requirement already satisfied: ipykernel>=4.5.1 in /Users/hamidreza/opt/anaconda3/lib/python3.9/site-packages (from ipywidgets<8,>=7.0.0->keplergl) (6.15.2)\n",
      "Requirement already satisfied: widgetsnbextension~=3.5.0 in /Users/hamidreza/opt/anaconda3/lib/python3.9/site-packages (from ipywidgets<8,>=7.0.0->keplergl) (3.5.2)\n",
      "Requirement already satisfied: jupyterlab-widgets>=1.0.0 in /Users/hamidreza/opt/anaconda3/lib/python3.9/site-packages (from ipywidgets<8,>=7.0.0->keplergl) (1.0.0)\n",
      "Requirement already satisfied: six>=1.5 in /Users/hamidreza/opt/anaconda3/lib/python3.9/site-packages (from python-dateutil>=2.8.1->pandas) (1.16.0)\n",
      "Requirement already satisfied: jinja2>=2.8 in /Users/hamidreza/opt/anaconda3/lib/python3.9/site-packages (from pyrobuf->pyrosm) (2.11.3)\n",
      "Requirement already satisfied: cython>=0.23 in /Users/hamidreza/opt/anaconda3/lib/python3.9/site-packages (from pyrobuf->pyrosm) (0.29.32)\n",
      "Requirement already satisfied: click~=8.0 in /Users/hamidreza/opt/anaconda3/lib/python3.9/site-packages (from fiona>=1.8.21->geopandas>=0.12.0->pyrosm) (8.0.4)\n",
      "Requirement already satisfied: cligj>=0.5 in /Users/hamidreza/opt/anaconda3/lib/python3.9/site-packages (from fiona>=1.8.21->geopandas>=0.12.0->pyrosm) (0.7.2)\n",
      "Requirement already satisfied: importlib-metadata in /Users/hamidreza/opt/anaconda3/lib/python3.9/site-packages (from fiona>=1.8.21->geopandas>=0.12.0->pyrosm) (4.11.3)\n",
      "Requirement already satisfied: certifi in /Users/hamidreza/opt/anaconda3/lib/python3.9/site-packages (from fiona>=1.8.21->geopandas>=0.12.0->pyrosm) (2022.9.24)\n",
      "Requirement already satisfied: click-plugins>=1.0 in /Users/hamidreza/opt/anaconda3/lib/python3.9/site-packages (from fiona>=1.8.21->geopandas>=0.12.0->pyrosm) (1.1.1)\n",
      "Requirement already satisfied: attrs>=19.2.0 in /Users/hamidreza/opt/anaconda3/lib/python3.9/site-packages (from fiona>=1.8.21->geopandas>=0.12.0->pyrosm) (21.4.0)\n",
      "Requirement already satisfied: jupyter-client>=6.1.12 in /Users/hamidreza/opt/anaconda3/lib/python3.9/site-packages (from ipykernel>=4.5.1->ipywidgets<8,>=7.0.0->keplergl) (7.3.4)\n",
      "Requirement already satisfied: nest-asyncio in /Users/hamidreza/opt/anaconda3/lib/python3.9/site-packages (from ipykernel>=4.5.1->ipywidgets<8,>=7.0.0->keplergl) (1.5.5)\n",
      "Requirement already satisfied: pyzmq>=17 in /Users/hamidreza/opt/anaconda3/lib/python3.9/site-packages (from ipykernel>=4.5.1->ipywidgets<8,>=7.0.0->keplergl) (23.2.0)\n",
      "Requirement already satisfied: debugpy>=1.0 in /Users/hamidreza/opt/anaconda3/lib/python3.9/site-packages (from ipykernel>=4.5.1->ipywidgets<8,>=7.0.0->keplergl) (1.5.1)\n",
      "Requirement already satisfied: tornado>=6.1 in /Users/hamidreza/opt/anaconda3/lib/python3.9/site-packages (from ipykernel>=4.5.1->ipywidgets<8,>=7.0.0->keplergl) (6.1)\n",
      "Requirement already satisfied: psutil in /Users/hamidreza/opt/anaconda3/lib/python3.9/site-packages (from ipykernel>=4.5.1->ipywidgets<8,>=7.0.0->keplergl) (5.9.0)\n",
      "Requirement already satisfied: matplotlib-inline>=0.1 in /Users/hamidreza/opt/anaconda3/lib/python3.9/site-packages (from ipykernel>=4.5.1->ipywidgets<8,>=7.0.0->keplergl) (0.1.6)\n",
      "Requirement already satisfied: appnope in /Users/hamidreza/opt/anaconda3/lib/python3.9/site-packages (from ipykernel>=4.5.1->ipywidgets<8,>=7.0.0->keplergl) (0.1.2)\n",
      "Requirement already satisfied: decorator in /Users/hamidreza/opt/anaconda3/lib/python3.9/site-packages (from ipython>=4.0.0->ipywidgets<8,>=7.0.0->keplergl) (5.1.1)\n",
      "Requirement already satisfied: pexpect>4.3 in /Users/hamidreza/opt/anaconda3/lib/python3.9/site-packages (from ipython>=4.0.0->ipywidgets<8,>=7.0.0->keplergl) (4.8.0)\n",
      "Requirement already satisfied: pickleshare in /Users/hamidreza/opt/anaconda3/lib/python3.9/site-packages (from ipython>=4.0.0->ipywidgets<8,>=7.0.0->keplergl) (0.7.5)\n",
      "Requirement already satisfied: backcall in /Users/hamidreza/opt/anaconda3/lib/python3.9/site-packages (from ipython>=4.0.0->ipywidgets<8,>=7.0.0->keplergl) (0.2.0)\n",
      "Requirement already satisfied: prompt-toolkit!=3.0.0,!=3.0.1,<3.1.0,>=2.0.0 in /Users/hamidreza/opt/anaconda3/lib/python3.9/site-packages (from ipython>=4.0.0->ipywidgets<8,>=7.0.0->keplergl) (3.0.20)\n",
      "Requirement already satisfied: jedi>=0.16 in /Users/hamidreza/opt/anaconda3/lib/python3.9/site-packages (from ipython>=4.0.0->ipywidgets<8,>=7.0.0->keplergl) (0.18.1)\n",
      "Requirement already satisfied: pygments in /Users/hamidreza/opt/anaconda3/lib/python3.9/site-packages (from ipython>=4.0.0->ipywidgets<8,>=7.0.0->keplergl) (2.11.2)\n",
      "Requirement already satisfied: MarkupSafe>=0.23 in /Users/hamidreza/opt/anaconda3/lib/python3.9/site-packages (from jinja2>=2.8->pyrobuf->pyrosm) (2.0.1)\n",
      "Requirement already satisfied: jsonschema>=2.6 in /Users/hamidreza/opt/anaconda3/lib/python3.9/site-packages (from nbformat>=4.2.0->ipywidgets<8,>=7.0.0->keplergl) (4.16.0)\n",
      "Requirement already satisfied: fastjsonschema in /Users/hamidreza/opt/anaconda3/lib/python3.9/site-packages (from nbformat>=4.2.0->ipywidgets<8,>=7.0.0->keplergl) (2.16.2)\n",
      "Requirement already satisfied: jupyter_core in /Users/hamidreza/opt/anaconda3/lib/python3.9/site-packages (from nbformat>=4.2.0->ipywidgets<8,>=7.0.0->keplergl) (4.11.1)\n",
      "Requirement already satisfied: notebook>=4.4.1 in /Users/hamidreza/opt/anaconda3/lib/python3.9/site-packages (from widgetsnbextension~=3.5.0->ipywidgets<8,>=7.0.0->keplergl) (6.4.12)\n",
      "Requirement already satisfied: pyparsing!=3.0.5,>=2.0.2 in /Users/hamidreza/opt/anaconda3/lib/python3.9/site-packages (from packaging->geopandas>=0.12.0->pyrosm) (3.0.9)\n"
     ]
    },
    {
     "name": "stdout",
     "output_type": "stream",
     "text": [
      "Requirement already satisfied: parso<0.9.0,>=0.8.0 in /Users/hamidreza/opt/anaconda3/lib/python3.9/site-packages (from jedi>=0.16->ipython>=4.0.0->ipywidgets<8,>=7.0.0->keplergl) (0.8.3)\n",
      "Requirement already satisfied: pyrsistent!=0.17.0,!=0.17.1,!=0.17.2,>=0.14.0 in /Users/hamidreza/opt/anaconda3/lib/python3.9/site-packages (from jsonschema>=2.6->nbformat>=4.2.0->ipywidgets<8,>=7.0.0->keplergl) (0.18.0)\n",
      "Requirement already satisfied: entrypoints in /Users/hamidreza/opt/anaconda3/lib/python3.9/site-packages (from jupyter-client>=6.1.12->ipykernel>=4.5.1->ipywidgets<8,>=7.0.0->keplergl) (0.4)\n",
      "Requirement already satisfied: prometheus-client in /Users/hamidreza/opt/anaconda3/lib/python3.9/site-packages (from notebook>=4.4.1->widgetsnbextension~=3.5.0->ipywidgets<8,>=7.0.0->keplergl) (0.14.1)\n",
      "Requirement already satisfied: nbconvert>=5 in /Users/hamidreza/opt/anaconda3/lib/python3.9/site-packages (from notebook>=4.4.1->widgetsnbextension~=3.5.0->ipywidgets<8,>=7.0.0->keplergl) (6.4.4)\n",
      "Requirement already satisfied: terminado>=0.8.3 in /Users/hamidreza/opt/anaconda3/lib/python3.9/site-packages (from notebook>=4.4.1->widgetsnbextension~=3.5.0->ipywidgets<8,>=7.0.0->keplergl) (0.13.1)\n",
      "Requirement already satisfied: argon2-cffi in /Users/hamidreza/opt/anaconda3/lib/python3.9/site-packages (from notebook>=4.4.1->widgetsnbextension~=3.5.0->ipywidgets<8,>=7.0.0->keplergl) (21.3.0)\n",
      "Requirement already satisfied: Send2Trash>=1.8.0 in /Users/hamidreza/opt/anaconda3/lib/python3.9/site-packages (from notebook>=4.4.1->widgetsnbextension~=3.5.0->ipywidgets<8,>=7.0.0->keplergl) (1.8.0)\n",
      "Requirement already satisfied: ptyprocess>=0.5 in /Users/hamidreza/opt/anaconda3/lib/python3.9/site-packages (from pexpect>4.3->ipython>=4.0.0->ipywidgets<8,>=7.0.0->keplergl) (0.7.0)\n",
      "Requirement already satisfied: wcwidth in /Users/hamidreza/opt/anaconda3/lib/python3.9/site-packages (from prompt-toolkit!=3.0.0,!=3.0.1,<3.1.0,>=2.0.0->ipython>=4.0.0->ipywidgets<8,>=7.0.0->keplergl) (0.2.5)\n",
      "Requirement already satisfied: zipp>=0.5 in /Users/hamidreza/opt/anaconda3/lib/python3.9/site-packages (from importlib-metadata->fiona>=1.8.21->geopandas>=0.12.0->pyrosm) (3.8.0)\n",
      "Requirement already satisfied: mistune<2,>=0.8.1 in /Users/hamidreza/opt/anaconda3/lib/python3.9/site-packages (from nbconvert>=5->notebook>=4.4.1->widgetsnbextension~=3.5.0->ipywidgets<8,>=7.0.0->keplergl) (0.8.4)\n",
      "Requirement already satisfied: nbclient<0.6.0,>=0.5.0 in /Users/hamidreza/opt/anaconda3/lib/python3.9/site-packages (from nbconvert>=5->notebook>=4.4.1->widgetsnbextension~=3.5.0->ipywidgets<8,>=7.0.0->keplergl) (0.5.13)\n",
      "Requirement already satisfied: bleach in /Users/hamidreza/opt/anaconda3/lib/python3.9/site-packages (from nbconvert>=5->notebook>=4.4.1->widgetsnbextension~=3.5.0->ipywidgets<8,>=7.0.0->keplergl) (4.1.0)\n",
      "Requirement already satisfied: testpath in /Users/hamidreza/opt/anaconda3/lib/python3.9/site-packages (from nbconvert>=5->notebook>=4.4.1->widgetsnbextension~=3.5.0->ipywidgets<8,>=7.0.0->keplergl) (0.6.0)\n",
      "Requirement already satisfied: defusedxml in /Users/hamidreza/opt/anaconda3/lib/python3.9/site-packages (from nbconvert>=5->notebook>=4.4.1->widgetsnbextension~=3.5.0->ipywidgets<8,>=7.0.0->keplergl) (0.7.1)\n",
      "Requirement already satisfied: pandocfilters>=1.4.1 in /Users/hamidreza/opt/anaconda3/lib/python3.9/site-packages (from nbconvert>=5->notebook>=4.4.1->widgetsnbextension~=3.5.0->ipywidgets<8,>=7.0.0->keplergl) (1.5.0)\n",
      "Requirement already satisfied: beautifulsoup4 in /Users/hamidreza/opt/anaconda3/lib/python3.9/site-packages (from nbconvert>=5->notebook>=4.4.1->widgetsnbextension~=3.5.0->ipywidgets<8,>=7.0.0->keplergl) (4.11.1)\n",
      "Requirement already satisfied: jupyterlab-pygments in /Users/hamidreza/opt/anaconda3/lib/python3.9/site-packages (from nbconvert>=5->notebook>=4.4.1->widgetsnbextension~=3.5.0->ipywidgets<8,>=7.0.0->keplergl) (0.1.2)\n",
      "Requirement already satisfied: argon2-cffi-bindings in /Users/hamidreza/opt/anaconda3/lib/python3.9/site-packages (from argon2-cffi->notebook>=4.4.1->widgetsnbextension~=3.5.0->ipywidgets<8,>=7.0.0->keplergl) (21.2.0)\n",
      "Requirement already satisfied: cffi>=1.0.1 in /Users/hamidreza/opt/anaconda3/lib/python3.9/site-packages (from argon2-cffi-bindings->argon2-cffi->notebook>=4.4.1->widgetsnbextension~=3.5.0->ipywidgets<8,>=7.0.0->keplergl) (1.15.1)\n",
      "Requirement already satisfied: soupsieve>1.2 in /Users/hamidreza/opt/anaconda3/lib/python3.9/site-packages (from beautifulsoup4->nbconvert>=5->notebook>=4.4.1->widgetsnbextension~=3.5.0->ipywidgets<8,>=7.0.0->keplergl) (2.3.1)\n",
      "Requirement already satisfied: webencodings in /Users/hamidreza/opt/anaconda3/lib/python3.9/site-packages (from bleach->nbconvert>=5->notebook>=4.4.1->widgetsnbextension~=3.5.0->ipywidgets<8,>=7.0.0->keplergl) (0.5.1)\n",
      "Requirement already satisfied: pycparser in /Users/hamidreza/opt/anaconda3/lib/python3.9/site-packages (from cffi>=1.0.1->argon2-cffi-bindings->argon2-cffi->notebook>=4.4.1->widgetsnbextension~=3.5.0->ipywidgets<8,>=7.0.0->keplergl) (2.21)\n",
      "Building wheels for collected packages: pyrosm, cykhash\n",
      "  Building wheel for pyrosm (pyproject.toml) ... \u001b[?25ldone\n",
      "\u001b[?25h  Created wheel for pyrosm: filename=pyrosm-0.6.2-cp39-cp39-macosx_10_9_x86_64.whl size=2716321 sha256=9fcfe1457e30f080a9872a1a1525854e946e45c332d4b289406f98cbf00636d2\n",
      "  Stored in directory: /Users/hamidreza/Library/Caches/pip/wheels/e7/60/b4/9103ec8817e936dc79720d9673cd29876b62620e288e734388\n",
      "  Building wheel for cykhash (pyproject.toml) ... \u001b[?25ldone\n",
      "\u001b[?25h  Created wheel for cykhash: filename=cykhash-2.0.1-cp39-cp39-macosx_10_9_x86_64.whl size=623851 sha256=45f58cd904e360b8647ba959a3cc3f4e2fe9a00e97b2219b86034d28e41925f8\n",
      "  Stored in directory: /Users/hamidreza/Library/Caches/pip/wheels/c1/fc/84/88e9b54ebff42d5d236d19bb1c5d12026565c8a133790f08c2\n",
      "Successfully built pyrosm cykhash\n",
      "Installing collected packages: cykhash, python-rapidjson, haversine, pyrobuf, pyrosm\n",
      "Successfully installed cykhash-2.0.1 haversine-2.8.0 pyrobuf-0.9.3 pyrosm-0.6.2 python-rapidjson-1.14\n",
      "Note: you may need to restart the kernel to use updated packages.\n"
     ]
    }
   ],
   "source": [
    "%pip install pyrosm keplergl haversine pandas numpy"
   ]
  },
  {
   "cell_type": "code",
   "execution_count": 7,
   "metadata": {
    "id": "SbtVTMtTlmbQ"
   },
   "outputs": [],
   "source": [
    "import datetime\n",
    "import numpy as np\n",
    "import pandas as pd\n",
    "import pyrosm\n",
    "import random\n",
    "import ssl\n",
    "import time\n",
    "\n",
    "from keplergl import KeplerGl\n",
    "from pyrosm import OSM, get_data"
   ]
  },
  {
   "cell_type": "code",
   "execution_count": 3,
   "metadata": {},
   "outputs": [
    {
     "ename": "ModuleNotFoundError",
     "evalue": "No module named 'google.colab'",
     "output_type": "error",
     "traceback": [
      "\u001b[0;31m---------------------------------------------------------------------------\u001b[0m",
      "\u001b[0;31mModuleNotFoundError\u001b[0m                       Traceback (most recent call last)",
      "Cell \u001b[0;32mIn[3], line 2\u001b[0m\n\u001b[1;32m      1\u001b[0m \u001b[38;5;66;03m# If you are using colab, you need to run this cell\u001b[39;00m\n\u001b[0;32m----> 2\u001b[0m \u001b[38;5;28;01mfrom\u001b[39;00m \u001b[38;5;21;01mgoogle\u001b[39;00m\u001b[38;5;21;01m.\u001b[39;00m\u001b[38;5;21;01mcolab\u001b[39;00m \u001b[38;5;28;01mimport\u001b[39;00m output\n\u001b[1;32m      3\u001b[0m output\u001b[38;5;241m.\u001b[39menable_custom_widget_manager()\n",
      "\u001b[0;31mModuleNotFoundError\u001b[0m: No module named 'google.colab'"
     ]
    }
   ],
   "source": [
    "# If you are using colab, you need to run this cell\n",
    "from google.colab import output\n",
    "output.enable_custom_widget_manager()"
   ]
  },
  {
   "cell_type": "markdown",
   "metadata": {},
   "source": [
    "## Introduction\n",
    "In this phase of project, you are going to implement a *denoising algorithm*. In many cases, when an application is dealing with _user GPS location_, in many urban areas and the places with tall towers, the GPS signal gets too noisy! This is the reason of why when you open \"google maps\", you see your current location with a blue circle around it. The radius of this circle shows the accuracy of your location. Sometimes, this radius is around 10m and in other areas, it goes in scale of km, making the GPS location totally unstable and unreliable! This amount of noise makes it impossible to use the data for any kind of analysis. In \"ride hailing\" applications like Uber, many of functionalities rely on the accuracy of GPS data. E.g. ETA estimation (Estimated time of arrival) is highly dependent on the accuracy of GPS data. In this phase, you are going to implement a denoising algorithm to make the GPS data more reliable. You will use your kowledge of Hidden Markov Models to implement this algorithm.\n",
    "\n",
    "<div style=\"text-align: center\">\n",
    "<img src=\"./Images/blue_dot.jpg\" height=\"500\" width=\"auto\" /> </br>\n",
    "(Sample of GPS data with blue dot)\n",
    "</div>"
   ]
  },
  {
   "cell_type": "markdown",
   "metadata": {},
   "source": [
    "# Loading Pasdaran streets dataset"
   ]
  },
  {
   "cell_type": "markdown",
   "metadata": {},
   "source": [
    "In this section, you will load a dataset that is prepared for you. The dataset contains some GPS locations (nodes) from Pasdaran Streets and also another dataset which contains the \"streets\" in Pasdaran area. By \"street\" we mean a pair of nodes, representing two end-points of a street in the map. These datasets are in `Data/` folder with names `pasdaran_streets.csv` and `pasdaran_nodes.csv`."
   ]
  },
  {
   "cell_type": "code",
   "execution_count": 8,
   "metadata": {},
   "outputs": [],
   "source": [
    "# Load the data\n",
    "pasdaran_streets = pd.read_csv('pasdaran_streets.csv')\n",
    "pasdaran_nodes = pd.read_csv('pasdaran_nodes.csv')"
   ]
  },
  {
   "cell_type": "code",
   "execution_count": 9,
   "metadata": {},
   "outputs": [
    {
     "data": {
      "text/html": [
       "<div>\n",
       "<style scoped>\n",
       "    .dataframe tbody tr th:only-of-type {\n",
       "        vertical-align: middle;\n",
       "    }\n",
       "\n",
       "    .dataframe tbody tr th {\n",
       "        vertical-align: top;\n",
       "    }\n",
       "\n",
       "    .dataframe thead th {\n",
       "        text-align: right;\n",
       "    }\n",
       "</style>\n",
       "<table border=\"1\" class=\"dataframe\">\n",
       "  <thead>\n",
       "    <tr style=\"text-align: right;\">\n",
       "      <th></th>\n",
       "      <th>street_id</th>\n",
       "      <th>u</th>\n",
       "      <th>v</th>\n",
       "      <th>length</th>\n",
       "      <th>oneway</th>\n",
       "      <th>u_lat</th>\n",
       "      <th>u_lon</th>\n",
       "      <th>v_lat</th>\n",
       "      <th>v_lon</th>\n",
       "    </tr>\n",
       "  </thead>\n",
       "  <tbody>\n",
       "    <tr>\n",
       "      <th>0</th>\n",
       "      <td>5003747</td>\n",
       "      <td>423833948</td>\n",
       "      <td>423793584</td>\n",
       "      <td>90.570</td>\n",
       "      <td>no</td>\n",
       "      <td>35.772419</td>\n",
       "      <td>51.465652</td>\n",
       "      <td>35.771748</td>\n",
       "      <td>51.465084</td>\n",
       "    </tr>\n",
       "    <tr>\n",
       "      <th>1</th>\n",
       "      <td>17099043</td>\n",
       "      <td>177540293</td>\n",
       "      <td>423832815</td>\n",
       "      <td>296.273</td>\n",
       "      <td>yes</td>\n",
       "      <td>35.771034</td>\n",
       "      <td>51.464462</td>\n",
       "      <td>35.772175</td>\n",
       "      <td>51.461494</td>\n",
       "    </tr>\n",
       "    <tr>\n",
       "      <th>2</th>\n",
       "      <td>787945693</td>\n",
       "      <td>4429684144</td>\n",
       "      <td>423832815</td>\n",
       "      <td>62.573</td>\n",
       "      <td>no</td>\n",
       "      <td>35.772636</td>\n",
       "      <td>51.461891</td>\n",
       "      <td>35.772175</td>\n",
       "      <td>51.461494</td>\n",
       "    </tr>\n",
       "    <tr>\n",
       "      <th>3</th>\n",
       "      <td>687277053</td>\n",
       "      <td>177540293</td>\n",
       "      <td>423793585</td>\n",
       "      <td>97.898</td>\n",
       "      <td>no</td>\n",
       "      <td>35.771034</td>\n",
       "      <td>51.464462</td>\n",
       "      <td>35.770317</td>\n",
       "      <td>51.463833</td>\n",
       "    </tr>\n",
       "    <tr>\n",
       "      <th>4</th>\n",
       "      <td>36333153</td>\n",
       "      <td>9339973930</td>\n",
       "      <td>423793585</td>\n",
       "      <td>296.275</td>\n",
       "      <td>yes</td>\n",
       "      <td>35.771458</td>\n",
       "      <td>51.460865</td>\n",
       "      <td>35.770317</td>\n",
       "      <td>51.463833</td>\n",
       "    </tr>\n",
       "  </tbody>\n",
       "</table>\n",
       "</div>"
      ],
      "text/plain": [
       "   street_id           u          v   length oneway      u_lat      u_lon  \\\n",
       "0    5003747   423833948  423793584   90.570     no  35.772419  51.465652   \n",
       "1   17099043   177540293  423832815  296.273    yes  35.771034  51.464462   \n",
       "2  787945693  4429684144  423832815   62.573     no  35.772636  51.461891   \n",
       "3  687277053   177540293  423793585   97.898     no  35.771034  51.464462   \n",
       "4   36333153  9339973930  423793585  296.275    yes  35.771458  51.460865   \n",
       "\n",
       "       v_lat      v_lon  \n",
       "0  35.771748  51.465084  \n",
       "1  35.772175  51.461494  \n",
       "2  35.772175  51.461494  \n",
       "3  35.770317  51.463833  \n",
       "4  35.770317  51.463833  "
      ]
     },
     "execution_count": 9,
     "metadata": {},
     "output_type": "execute_result"
    }
   ],
   "source": [
    "pasdaran_streets.head()"
   ]
  },
  {
   "cell_type": "code",
   "execution_count": 10,
   "metadata": {},
   "outputs": [
    {
     "data": {
      "text/html": [
       "<div>\n",
       "<style scoped>\n",
       "    .dataframe tbody tr th:only-of-type {\n",
       "        vertical-align: middle;\n",
       "    }\n",
       "\n",
       "    .dataframe tbody tr th {\n",
       "        vertical-align: top;\n",
       "    }\n",
       "\n",
       "    .dataframe thead th {\n",
       "        text-align: right;\n",
       "    }\n",
       "</style>\n",
       "<table border=\"1\" class=\"dataframe\">\n",
       "  <thead>\n",
       "    <tr style=\"text-align: right;\">\n",
       "      <th></th>\n",
       "      <th>id</th>\n",
       "      <th>lat</th>\n",
       "      <th>lon</th>\n",
       "    </tr>\n",
       "  </thead>\n",
       "  <tbody>\n",
       "    <tr>\n",
       "      <th>0</th>\n",
       "      <td>423833948</td>\n",
       "      <td>35.772419</td>\n",
       "      <td>51.465652</td>\n",
       "    </tr>\n",
       "    <tr>\n",
       "      <th>1</th>\n",
       "      <td>423793584</td>\n",
       "      <td>35.771748</td>\n",
       "      <td>51.465084</td>\n",
       "    </tr>\n",
       "    <tr>\n",
       "      <th>2</th>\n",
       "      <td>177536927</td>\n",
       "      <td>35.776230</td>\n",
       "      <td>51.465034</td>\n",
       "    </tr>\n",
       "    <tr>\n",
       "      <th>3</th>\n",
       "      <td>177540293</td>\n",
       "      <td>35.771034</td>\n",
       "      <td>51.464462</td>\n",
       "    </tr>\n",
       "    <tr>\n",
       "      <th>4</th>\n",
       "      <td>423832815</td>\n",
       "      <td>35.772175</td>\n",
       "      <td>51.461494</td>\n",
       "    </tr>\n",
       "  </tbody>\n",
       "</table>\n",
       "</div>"
      ],
      "text/plain": [
       "          id        lat        lon\n",
       "0  423833948  35.772419  51.465652\n",
       "1  423793584  35.771748  51.465084\n",
       "2  177536927  35.776230  51.465034\n",
       "3  177540293  35.771034  51.464462\n",
       "4  423832815  35.772175  51.461494"
      ]
     },
     "execution_count": 10,
     "metadata": {},
     "output_type": "execute_result"
    }
   ],
   "source": [
    "pasdaran_nodes.head()"
   ]
  },
  {
   "cell_type": "code",
   "execution_count": 11,
   "metadata": {},
   "outputs": [
    {
     "name": "stdout",
     "output_type": "stream",
     "text": [
      "Requirement already satisfied: keplergl in /Users/hamidreza/opt/anaconda3/lib/python3.9/site-packages (0.3.2)\n",
      "Requirement already satisfied: pandas in /Users/hamidreza/opt/anaconda3/lib/python3.9/site-packages (1.4.4)\n",
      "Requirement already satisfied: traittypes>=0.2.1 in /Users/hamidreza/opt/anaconda3/lib/python3.9/site-packages (from keplergl) (0.2.1)\n",
      "Requirement already satisfied: Shapely>=1.6.4.post2 in /Users/hamidreza/opt/anaconda3/lib/python3.9/site-packages (from keplergl) (2.0.2)\n",
      "Requirement already satisfied: geopandas>=0.5.0 in /Users/hamidreza/opt/anaconda3/lib/python3.9/site-packages (from keplergl) (0.14.2)\n",
      "Requirement already satisfied: ipywidgets<8,>=7.0.0 in /Users/hamidreza/opt/anaconda3/lib/python3.9/site-packages (from keplergl) (7.6.5)\n",
      "Requirement already satisfied: python-dateutil>=2.8.1 in /Users/hamidreza/opt/anaconda3/lib/python3.9/site-packages (from pandas) (2.8.2)\n",
      "Requirement already satisfied: pytz>=2020.1 in /Users/hamidreza/opt/anaconda3/lib/python3.9/site-packages (from pandas) (2022.7.1)\n",
      "Requirement already satisfied: numpy>=1.18.5 in /Users/hamidreza/opt/anaconda3/lib/python3.9/site-packages (from pandas) (1.21.5)\n",
      "Requirement already satisfied: packaging in /Users/hamidreza/opt/anaconda3/lib/python3.9/site-packages (from geopandas>=0.5.0->keplergl) (21.3)\n",
      "Requirement already satisfied: pyproj>=3.3.0 in /Users/hamidreza/opt/anaconda3/lib/python3.9/site-packages (from geopandas>=0.5.0->keplergl) (3.6.1)\n",
      "Requirement already satisfied: fiona>=1.8.21 in /Users/hamidreza/opt/anaconda3/lib/python3.9/site-packages (from geopandas>=0.5.0->keplergl) (1.9.5)\n",
      "Requirement already satisfied: nbformat>=4.2.0 in /Users/hamidreza/opt/anaconda3/lib/python3.9/site-packages (from ipywidgets<8,>=7.0.0->keplergl) (5.5.0)\n",
      "Requirement already satisfied: ipython-genutils~=0.2.0 in /Users/hamidreza/opt/anaconda3/lib/python3.9/site-packages (from ipywidgets<8,>=7.0.0->keplergl) (0.2.0)\n",
      "Requirement already satisfied: traitlets>=4.3.1 in /Users/hamidreza/opt/anaconda3/lib/python3.9/site-packages (from ipywidgets<8,>=7.0.0->keplergl) (5.1.1)\n",
      "Requirement already satisfied: ipykernel>=4.5.1 in /Users/hamidreza/opt/anaconda3/lib/python3.9/site-packages (from ipywidgets<8,>=7.0.0->keplergl) (6.15.2)\n",
      "Requirement already satisfied: jupyterlab-widgets>=1.0.0 in /Users/hamidreza/opt/anaconda3/lib/python3.9/site-packages (from ipywidgets<8,>=7.0.0->keplergl) (1.0.0)\n",
      "Requirement already satisfied: widgetsnbextension~=3.5.0 in /Users/hamidreza/opt/anaconda3/lib/python3.9/site-packages (from ipywidgets<8,>=7.0.0->keplergl) (3.5.2)\n",
      "Requirement already satisfied: ipython>=4.0.0 in /Users/hamidreza/opt/anaconda3/lib/python3.9/site-packages (from ipywidgets<8,>=7.0.0->keplergl) (7.31.1)\n",
      "Requirement already satisfied: six>=1.5 in /Users/hamidreza/opt/anaconda3/lib/python3.9/site-packages (from python-dateutil>=2.8.1->pandas) (1.16.0)\n",
      "Requirement already satisfied: cligj>=0.5 in /Users/hamidreza/opt/anaconda3/lib/python3.9/site-packages (from fiona>=1.8.21->geopandas>=0.5.0->keplergl) (0.7.2)\n",
      "Requirement already satisfied: certifi in /Users/hamidreza/opt/anaconda3/lib/python3.9/site-packages (from fiona>=1.8.21->geopandas>=0.5.0->keplergl) (2022.9.24)\n",
      "Requirement already satisfied: importlib-metadata in /Users/hamidreza/opt/anaconda3/lib/python3.9/site-packages (from fiona>=1.8.21->geopandas>=0.5.0->keplergl) (4.11.3)\n",
      "Requirement already satisfied: attrs>=19.2.0 in /Users/hamidreza/opt/anaconda3/lib/python3.9/site-packages (from fiona>=1.8.21->geopandas>=0.5.0->keplergl) (21.4.0)\n",
      "Requirement already satisfied: click~=8.0 in /Users/hamidreza/opt/anaconda3/lib/python3.9/site-packages (from fiona>=1.8.21->geopandas>=0.5.0->keplergl) (8.0.4)\n",
      "Requirement already satisfied: click-plugins>=1.0 in /Users/hamidreza/opt/anaconda3/lib/python3.9/site-packages (from fiona>=1.8.21->geopandas>=0.5.0->keplergl) (1.1.1)\n",
      "Requirement already satisfied: setuptools in /Users/hamidreza/opt/anaconda3/lib/python3.9/site-packages (from fiona>=1.8.21->geopandas>=0.5.0->keplergl) (63.4.1)\n",
      "Requirement already satisfied: nest-asyncio in /Users/hamidreza/opt/anaconda3/lib/python3.9/site-packages (from ipykernel>=4.5.1->ipywidgets<8,>=7.0.0->keplergl) (1.5.5)\n",
      "Requirement already satisfied: psutil in /Users/hamidreza/opt/anaconda3/lib/python3.9/site-packages (from ipykernel>=4.5.1->ipywidgets<8,>=7.0.0->keplergl) (5.9.0)\n",
      "Requirement already satisfied: debugpy>=1.0 in /Users/hamidreza/opt/anaconda3/lib/python3.9/site-packages (from ipykernel>=4.5.1->ipywidgets<8,>=7.0.0->keplergl) (1.5.1)\n",
      "Requirement already satisfied: jupyter-client>=6.1.12 in /Users/hamidreza/opt/anaconda3/lib/python3.9/site-packages (from ipykernel>=4.5.1->ipywidgets<8,>=7.0.0->keplergl) (7.3.4)\n",
      "Requirement already satisfied: matplotlib-inline>=0.1 in /Users/hamidreza/opt/anaconda3/lib/python3.9/site-packages (from ipykernel>=4.5.1->ipywidgets<8,>=7.0.0->keplergl) (0.1.6)\n",
      "Requirement already satisfied: pyzmq>=17 in /Users/hamidreza/opt/anaconda3/lib/python3.9/site-packages (from ipykernel>=4.5.1->ipywidgets<8,>=7.0.0->keplergl) (23.2.0)\n",
      "Requirement already satisfied: tornado>=6.1 in /Users/hamidreza/opt/anaconda3/lib/python3.9/site-packages (from ipykernel>=4.5.1->ipywidgets<8,>=7.0.0->keplergl) (6.1)\n",
      "Requirement already satisfied: appnope in /Users/hamidreza/opt/anaconda3/lib/python3.9/site-packages (from ipykernel>=4.5.1->ipywidgets<8,>=7.0.0->keplergl) (0.1.2)\n",
      "Requirement already satisfied: backcall in /Users/hamidreza/opt/anaconda3/lib/python3.9/site-packages (from ipython>=4.0.0->ipywidgets<8,>=7.0.0->keplergl) (0.2.0)\n",
      "Requirement already satisfied: decorator in /Users/hamidreza/opt/anaconda3/lib/python3.9/site-packages (from ipython>=4.0.0->ipywidgets<8,>=7.0.0->keplergl) (5.1.1)\n",
      "Requirement already satisfied: pexpect>4.3 in /Users/hamidreza/opt/anaconda3/lib/python3.9/site-packages (from ipython>=4.0.0->ipywidgets<8,>=7.0.0->keplergl) (4.8.0)\n",
      "Requirement already satisfied: pygments in /Users/hamidreza/opt/anaconda3/lib/python3.9/site-packages (from ipython>=4.0.0->ipywidgets<8,>=7.0.0->keplergl) (2.11.2)\n",
      "Requirement already satisfied: jedi>=0.16 in /Users/hamidreza/opt/anaconda3/lib/python3.9/site-packages (from ipython>=4.0.0->ipywidgets<8,>=7.0.0->keplergl) (0.18.1)\n",
      "Requirement already satisfied: pickleshare in /Users/hamidreza/opt/anaconda3/lib/python3.9/site-packages (from ipython>=4.0.0->ipywidgets<8,>=7.0.0->keplergl) (0.7.5)\n",
      "Requirement already satisfied: prompt-toolkit!=3.0.0,!=3.0.1,<3.1.0,>=2.0.0 in /Users/hamidreza/opt/anaconda3/lib/python3.9/site-packages (from ipython>=4.0.0->ipywidgets<8,>=7.0.0->keplergl) (3.0.20)\n",
      "Requirement already satisfied: jupyter_core in /Users/hamidreza/opt/anaconda3/lib/python3.9/site-packages (from nbformat>=4.2.0->ipywidgets<8,>=7.0.0->keplergl) (4.11.1)\n",
      "Requirement already satisfied: fastjsonschema in /Users/hamidreza/opt/anaconda3/lib/python3.9/site-packages (from nbformat>=4.2.0->ipywidgets<8,>=7.0.0->keplergl) (2.16.2)\n",
      "Requirement already satisfied: jsonschema>=2.6 in /Users/hamidreza/opt/anaconda3/lib/python3.9/site-packages (from nbformat>=4.2.0->ipywidgets<8,>=7.0.0->keplergl) (4.16.0)\n",
      "Requirement already satisfied: notebook>=4.4.1 in /Users/hamidreza/opt/anaconda3/lib/python3.9/site-packages (from widgetsnbextension~=3.5.0->ipywidgets<8,>=7.0.0->keplergl) (6.4.12)\n",
      "Requirement already satisfied: pyparsing!=3.0.5,>=2.0.2 in /Users/hamidreza/opt/anaconda3/lib/python3.9/site-packages (from packaging->geopandas>=0.5.0->keplergl) (3.0.9)\n",
      "Requirement already satisfied: parso<0.9.0,>=0.8.0 in /Users/hamidreza/opt/anaconda3/lib/python3.9/site-packages (from jedi>=0.16->ipython>=4.0.0->ipywidgets<8,>=7.0.0->keplergl) (0.8.3)\n",
      "Requirement already satisfied: pyrsistent!=0.17.0,!=0.17.1,!=0.17.2,>=0.14.0 in /Users/hamidreza/opt/anaconda3/lib/python3.9/site-packages (from jsonschema>=2.6->nbformat>=4.2.0->ipywidgets<8,>=7.0.0->keplergl) (0.18.0)\n",
      "Requirement already satisfied: entrypoints in /Users/hamidreza/opt/anaconda3/lib/python3.9/site-packages (from jupyter-client>=6.1.12->ipykernel>=4.5.1->ipywidgets<8,>=7.0.0->keplergl) (0.4)\n",
      "Requirement already satisfied: terminado>=0.8.3 in /Users/hamidreza/opt/anaconda3/lib/python3.9/site-packages (from notebook>=4.4.1->widgetsnbextension~=3.5.0->ipywidgets<8,>=7.0.0->keplergl) (0.13.1)\n",
      "Requirement already satisfied: prometheus-client in /Users/hamidreza/opt/anaconda3/lib/python3.9/site-packages (from notebook>=4.4.1->widgetsnbextension~=3.5.0->ipywidgets<8,>=7.0.0->keplergl) (0.14.1)\n",
      "Requirement already satisfied: Send2Trash>=1.8.0 in /Users/hamidreza/opt/anaconda3/lib/python3.9/site-packages (from notebook>=4.4.1->widgetsnbextension~=3.5.0->ipywidgets<8,>=7.0.0->keplergl) (1.8.0)\n",
      "Requirement already satisfied: argon2-cffi in /Users/hamidreza/opt/anaconda3/lib/python3.9/site-packages (from notebook>=4.4.1->widgetsnbextension~=3.5.0->ipywidgets<8,>=7.0.0->keplergl) (21.3.0)\n",
      "Requirement already satisfied: jinja2 in /Users/hamidreza/opt/anaconda3/lib/python3.9/site-packages (from notebook>=4.4.1->widgetsnbextension~=3.5.0->ipywidgets<8,>=7.0.0->keplergl) (2.11.3)\n",
      "Requirement already satisfied: nbconvert>=5 in /Users/hamidreza/opt/anaconda3/lib/python3.9/site-packages (from notebook>=4.4.1->widgetsnbextension~=3.5.0->ipywidgets<8,>=7.0.0->keplergl) (6.4.4)\n",
      "Requirement already satisfied: ptyprocess>=0.5 in /Users/hamidreza/opt/anaconda3/lib/python3.9/site-packages (from pexpect>4.3->ipython>=4.0.0->ipywidgets<8,>=7.0.0->keplergl) (0.7.0)\n",
      "Requirement already satisfied: wcwidth in /Users/hamidreza/opt/anaconda3/lib/python3.9/site-packages (from prompt-toolkit!=3.0.0,!=3.0.1,<3.1.0,>=2.0.0->ipython>=4.0.0->ipywidgets<8,>=7.0.0->keplergl) (0.2.5)\n"
     ]
    },
    {
     "name": "stdout",
     "output_type": "stream",
     "text": [
      "Requirement already satisfied: zipp>=0.5 in /Users/hamidreza/opt/anaconda3/lib/python3.9/site-packages (from importlib-metadata->fiona>=1.8.21->geopandas>=0.5.0->keplergl) (3.8.0)\n",
      "Requirement already satisfied: jupyterlab-pygments in /Users/hamidreza/opt/anaconda3/lib/python3.9/site-packages (from nbconvert>=5->notebook>=4.4.1->widgetsnbextension~=3.5.0->ipywidgets<8,>=7.0.0->keplergl) (0.1.2)\n",
      "Requirement already satisfied: beautifulsoup4 in /Users/hamidreza/opt/anaconda3/lib/python3.9/site-packages (from nbconvert>=5->notebook>=4.4.1->widgetsnbextension~=3.5.0->ipywidgets<8,>=7.0.0->keplergl) (4.11.1)\n",
      "Requirement already satisfied: testpath in /Users/hamidreza/opt/anaconda3/lib/python3.9/site-packages (from nbconvert>=5->notebook>=4.4.1->widgetsnbextension~=3.5.0->ipywidgets<8,>=7.0.0->keplergl) (0.6.0)\n",
      "Requirement already satisfied: bleach in /Users/hamidreza/opt/anaconda3/lib/python3.9/site-packages (from nbconvert>=5->notebook>=4.4.1->widgetsnbextension~=3.5.0->ipywidgets<8,>=7.0.0->keplergl) (4.1.0)\n",
      "Requirement already satisfied: pandocfilters>=1.4.1 in /Users/hamidreza/opt/anaconda3/lib/python3.9/site-packages (from nbconvert>=5->notebook>=4.4.1->widgetsnbextension~=3.5.0->ipywidgets<8,>=7.0.0->keplergl) (1.5.0)\n",
      "Requirement already satisfied: mistune<2,>=0.8.1 in /Users/hamidreza/opt/anaconda3/lib/python3.9/site-packages (from nbconvert>=5->notebook>=4.4.1->widgetsnbextension~=3.5.0->ipywidgets<8,>=7.0.0->keplergl) (0.8.4)\n",
      "Requirement already satisfied: defusedxml in /Users/hamidreza/opt/anaconda3/lib/python3.9/site-packages (from nbconvert>=5->notebook>=4.4.1->widgetsnbextension~=3.5.0->ipywidgets<8,>=7.0.0->keplergl) (0.7.1)\n",
      "Requirement already satisfied: nbclient<0.6.0,>=0.5.0 in /Users/hamidreza/opt/anaconda3/lib/python3.9/site-packages (from nbconvert>=5->notebook>=4.4.1->widgetsnbextension~=3.5.0->ipywidgets<8,>=7.0.0->keplergl) (0.5.13)\n",
      "Requirement already satisfied: MarkupSafe>=0.23 in /Users/hamidreza/opt/anaconda3/lib/python3.9/site-packages (from jinja2->notebook>=4.4.1->widgetsnbextension~=3.5.0->ipywidgets<8,>=7.0.0->keplergl) (2.0.1)\n",
      "Requirement already satisfied: argon2-cffi-bindings in /Users/hamidreza/opt/anaconda3/lib/python3.9/site-packages (from argon2-cffi->notebook>=4.4.1->widgetsnbextension~=3.5.0->ipywidgets<8,>=7.0.0->keplergl) (21.2.0)\n",
      "Requirement already satisfied: cffi>=1.0.1 in /Users/hamidreza/opt/anaconda3/lib/python3.9/site-packages (from argon2-cffi-bindings->argon2-cffi->notebook>=4.4.1->widgetsnbextension~=3.5.0->ipywidgets<8,>=7.0.0->keplergl) (1.15.1)\n",
      "Requirement already satisfied: soupsieve>1.2 in /Users/hamidreza/opt/anaconda3/lib/python3.9/site-packages (from beautifulsoup4->nbconvert>=5->notebook>=4.4.1->widgetsnbextension~=3.5.0->ipywidgets<8,>=7.0.0->keplergl) (2.3.1)\n",
      "Requirement already satisfied: webencodings in /Users/hamidreza/opt/anaconda3/lib/python3.9/site-packages (from bleach->nbconvert>=5->notebook>=4.4.1->widgetsnbextension~=3.5.0->ipywidgets<8,>=7.0.0->keplergl) (0.5.1)\n",
      "Requirement already satisfied: pycparser in /Users/hamidreza/opt/anaconda3/lib/python3.9/site-packages (from cffi>=1.0.1->argon2-cffi-bindings->argon2-cffi->notebook>=4.4.1->widgetsnbextension~=3.5.0->ipywidgets<8,>=7.0.0->keplergl) (2.21)\n"
     ]
    }
   ],
   "source": [
    "# Visualize pasdaran_streets using kepler\n",
    "!pip install keplergl pandas"
   ]
  },
  {
   "cell_type": "code",
   "execution_count": 29,
   "metadata": {},
   "outputs": [
    {
     "name": "stdout",
     "output_type": "stream",
     "text": [
      "User Guide: https://docs.kepler.gl/docs/keplergl-jupyter\n",
      "Map saved to pasdaran_streets_map.html!\n"
     ]
    }
   ],
   "source": [
    "map_streets = KeplerGl()\n",
    "map_streets.add_data(data=pasdaran_streets, name='streets')\n",
    "map_streets.save_to_html(file_name='pasdaran_streets_map.html')\n"
   ]
  },
  {
   "cell_type": "code",
   "execution_count": null,
   "metadata": {},
   "outputs": [],
   "source": []
  },
  {
   "cell_type": "markdown",
   "metadata": {
    "id": "osSfUikvvQ6Q"
   },
   "source": [
    "# Creating dataset for trip"
   ]
  },
  {
   "cell_type": "markdown",
   "metadata": {
    "id": "HR3QM8DKvWWt"
   },
   "source": [
    "As you understood, until now, we loaded 2 datasets, `pasdaran_nodes` and `pasdaran_streets`. Now, we should create a dataset from these, such that we can use it for our trip. Each item in this dataset is called a `ride`. We will explain more as we go on."
   ]
  },
  {
   "cell_type": "markdown",
   "metadata": {},
   "source": [
    "First, we should create a **trip** for a driver. For this sake, we should choose 2 random points in our map as the source and destination of the trip. Now, we should find the streets that connect these 2 points. Each street has a length. You should find the shortest path between these 2 points (source and destination) which are in the `pasdaran_streets`. Note that this path should be the **shortest path** meaning that the sum of the lengths of streets should be minimum.\n",
    "\n",
    "**NOTE**: You cannot use any library for finding the shortest path. You should implement it yourself, from scratch. Feel free to use any algorithm and heuristic that you want. Be creative!\n",
    "\n",
    "**NOTE**: Be aware of \"length of streets\" and whether or not they are \"one_way\"!"
   ]
  },
  {
   "cell_type": "code",
   "execution_count": 25,
   "metadata": {},
   "outputs": [],
   "source": [
    "def find_shortest_path(start_node, end_node, graph):\n",
    "    \"\"\"\n",
    "    Find the shortest path between two nodes in a graph.\n",
    "    :param start_node: The start node\n",
    "    :param end_node: The end node\n",
    "    :param graph: The graph\n",
    "    :return: The shortest path. It is a list of node_ids from start_node to end_node.\n",
    "    Note that you use all of the data in \"pasdaran_streets\" dataset appropriately such as \"street_length\" and \"one_way\".\n",
    "    \"\"\"\n",
    "    distances = {node_id: float('inf') for node_id in graph['u'].append(graph['v']).unique()}\n",
    "    previous_node = {node_id: None for node_id in graph['u'].append(graph['v']).unique()}\n",
    "#     start_node_id = graph[(graph['u_lat'] == start_node[0]) & (graph['u_lon'] == start_node[1])]['u'].values\n",
    "#     end_node_id = graph[(graph['v_lat'] == end_node[0]) & (graph['v_lon'] == end_node[1])]['v'].values\n",
    "    start_node_id = start_node\n",
    "    end_node_id = end_node\n",
    "    distances[start_node_id] = 0\n",
    "    visited_nodes = set()\n",
    "    while end_node_id not in visited_nodes:\n",
    "        current_node = min((node_id for node_id in set(distances.keys()) - visited_nodes), key=distances.get)\n",
    "        visited_nodes.add(current_node)\n",
    "        for _, row in graph.iterrows():\n",
    "            if row['u'] == current_node:\n",
    "                neighbor = row['v']\n",
    "            elif row['v'] == current_node:\n",
    "                neighbor = row['u']\n",
    "            else:\n",
    "                continue\n",
    "\n",
    "            new_distance = distances[current_node] + row['length']\n",
    "\n",
    "            if new_distance < distances[neighbor]:\n",
    "                distances[neighbor] = new_distance\n",
    "                previous_node[neighbor] = current_node\n",
    "\n",
    "                \n",
    "    path = []\n",
    "    current_node = end_node_id\n",
    "    while current_node is not None:\n",
    "        path.insert(0, current_node)\n",
    "        current_node = previous_node[current_node]\n",
    "\n",
    "    return path"
   ]
  },
  {
   "cell_type": "code",
   "execution_count": 26,
   "metadata": {},
   "outputs": [],
   "source": [
    "import networkx as nx\n",
    "\n",
    "def shortest_path_networkx(start_node,end_node,graph):\n",
    "    G = nx.DiGraph()\n",
    "    for _, row in graph.iterrows():\n",
    "        G.add_edge(row['u'], row['v'], weight=row['length'])\n",
    "        G.add_edge(row['v'], row['u'], weight=row['length'])\n",
    "\n",
    "    start_node_id = start_node\n",
    "    end_node_id = end_node\n",
    "    shortest_path = nx.shortest_path(G, source=start_node_id, target=end_node_id, weight='weight')\n",
    "\n",
    "    return shortest_path"
   ]
  },
  {
   "cell_type": "code",
   "execution_count": null,
   "metadata": {
    "id": "w909XhNelmbT"
   },
   "outputs": [],
   "source": []
  },
  {
   "cell_type": "markdown",
   "metadata": {},
   "source": [
    "You should **upload** this cell (`find_shortest_path` function) as a .py file to quera. Your code will be verified if it is actually finding the shortest path and only if it's correct, you will get the grades of this section. Be sure that you put the approriate `import ...` statements at the first of your `.py` file. Remember, you **can not** use any library that does the \"shortest path\" for you. (like networkx) You should implement it yourself.\n",
    "\n",
    "**Note**: You can add other functions and codes to above cell, but you code should have the `find_shortest_path` function with exactly same signature that we have provided. Your code will be tested with calling this function. So, using other functions is not a problem, but keep in mind that the main entry for your code when we test it is the `find_shortest_path` function. Nothing else!"
   ]
  },
  {
   "cell_type": "code",
   "execution_count": 27,
   "metadata": {},
   "outputs": [],
   "source": [
    "# Create a trip: Choose 2 random points as start and end points and find the shortest path between them.\n",
    "# A trip is a list of node_ids from start_node to end_node.\n",
    "\n",
    "# TODO: Implement and print out a sample trip\n",
    "set1 = set (pasdaran_streets['v'])\n",
    "set2 = set (pasdaran_streets['u'])\n",
    "\n",
    "nodes = set1.union(set2)"
   ]
  },
  {
   "cell_type": "code",
   "execution_count": 40,
   "metadata": {},
   "outputs": [
    {
     "name": "stdout",
     "output_type": "stream",
     "text": [
      "4695529119 4695735787\n"
     ]
    },
    {
     "name": "stderr",
     "output_type": "stream",
     "text": [
      "/var/folders/w_/ktm169bx72l270xpfjd5sljh0000gn/T/ipykernel_27174/1693435415.py:10: FutureWarning: The series.append method is deprecated and will be removed from pandas in a future version. Use pandas.concat instead.\n",
      "  distances = {node_id: float('inf') for node_id in graph['u'].append(graph['v']).unique()}\n",
      "/var/folders/w_/ktm169bx72l270xpfjd5sljh0000gn/T/ipykernel_27174/1693435415.py:11: FutureWarning: The series.append method is deprecated and will be removed from pandas in a future version. Use pandas.concat instead.\n",
      "  previous_node = {node_id: None for node_id in graph['u'].append(graph['v']).unique()}\n"
     ]
    },
    {
     "name": "stdout",
     "output_type": "stream",
     "text": [
      "shortest path from scratch\n",
      "[4695529119, 4695567371, 4664780472, 4695567369, 9751562375, 9441587469, 1725415333, 1725415336, 9900349188, 9441587429, 9900349189, 9900349190, 9900349193, 9900349191, 9847389529, 9569441693, 4412258444, 4695567367, 3405484850, 4412258440, 3405484852, 4692533035, 3405484865, 423816747, 4695737210, 4695737204, 4695737198, 4695737196, 4695737194, 4695737195, 4695735788, 4695735787]\n",
      "shortest path with networkx\n",
      "[4695529119, 4695567371, 4664780472, 4695567369, 9751562375, 9441587469, 1725415333, 1725415336, 9900349188, 9441587429, 9900349189, 9900349190, 9900349193, 9900349191, 9847389529, 9569441693, 4412258444, 4695567367, 3405484850, 4412258440, 3405484852, 4692533035, 3405484865, 423816747, 4695737210, 4695737204, 4695737198, 4695737196, 4695737194, 4695737195, 4695735788, 4695735787]\n"
     ]
    }
   ],
   "source": [
    "import random\n",
    "\n",
    "\n",
    "start_node = random.choice(list(nodes))\n",
    "end_node = random.choice(list(nodes))\n",
    "print(start_node,end_node )\n",
    "\n",
    "# A trip is a list of node_ids from start_node to end_node.\n",
    "scratch_trip = find_shortest_path(start_node, end_node, pasdaran_streets)\n",
    "print(\"shortest path from scratch\")\n",
    "print(scratch_trip)\n",
    "nx_trip = shortest_path_networkx(start_node, end_node, pasdaran_streets)\n",
    "print(\"shortest path with networkx\")\n",
    "print(nx_trip)"
   ]
  },
  {
   "cell_type": "code",
   "execution_count": 44,
   "metadata": {},
   "outputs": [],
   "source": [
    "#convert trip to df\n",
    "trip_df = []\n",
    "for i in range(len(scratch_trip)):\n",
    "    for _, row in pasdaran_nodes.iterrows():\n",
    "        if row['id'] == scratch_trip[i]:\n",
    "            trip_df.append(row)\n",
    "            break\n",
    "\n",
    "trip_df = pd.DataFrame(trip_df)"
   ]
  },
  {
   "cell_type": "markdown",
   "metadata": {
    "id": "YP2kS2GHx02G"
   },
   "source": [
    "Visualize the sampled trip (in the previous cell) on the map. Use `kepler` library for this purpose. Notice that you use keplers \"timestep\" attributes to create a timeline, so you can see the trip's process from _start\\_node_ to _end\\_node_. (You can see an output sample in the next cell)"
   ]
  },
  {
   "cell_type": "code",
   "execution_count": 45,
   "metadata": {
    "colab": {
     "base_uri": "https://localhost:8080/",
     "height": 511
    },
    "id": "kWhW3mIizZ0_",
    "outputId": "1a3319b9-fac1-42ef-e666-8072a9e6ab5f"
   },
   "outputs": [
    {
     "name": "stdout",
     "output_type": "stream",
     "text": [
      "User Guide: https://docs.kepler.gl/docs/keplergl-jupyter\n",
      "Map saved to trip_map.html!\n"
     ]
    }
   ],
   "source": [
    "#TODO: Visualize the sampled trip using kepler\n",
    "map_trip = KeplerGl()\n",
    "map_trip.add_data(data=trip_df, name='trip')\n",
    "map_trip.save_to_html(file_name='trip_map.html')"
   ]
  },
  {
   "cell_type": "markdown",
   "metadata": {
    "id": "2GRdEUrF7EgN"
   },
   "source": [
    "Now, we are going to get the points in the middle of the streets. Before, we only had the intersections of the streets(start and end nodes of a section). But we know in real life, we get gps locations also in between and not necessarily in the intersections. So, we should add these points to our data. We call every entity of this type as `Ride`. A ride is defined by 3 parameters:\n",
    "1. `ride_speed`: The speed of the ride which driver is driving with. We assume that the driver is driving with a constant speed.\n",
    "2. `driver_gps_time`: The time interval that the driver sends his/her gps location to the server. (e.g. every 5 seconds)\n",
    "3. `trip`: The specific trip that the driver is driving in. (we created this in the previous cells)\n",
    "\n",
    "Now, you should define a function that gets these parameters and returns the locations (lat/longs) in the ride regarding the given parameters."
   ]
  },
  {
   "cell_type": "code",
   "execution_count": 187,
   "metadata": {},
   "outputs": [],
   "source": [
    "def trip_details(trip):\n",
    "    lats = []\n",
    "    lons = []\n",
    "    lengths = []\n",
    "    for i in range(len(trip)-1):\n",
    "        street = pasdaran_streets.loc[((pasdaran_streets['v'] == trip[i]) & (pasdaran_streets['u'] == trip[i+1])) | ((pasdaran_streets['u'] == trip[i]) & (pasdaran_streets['v'] == trip[i+1]))].head(1)\n",
    "        if i == 0:\n",
    "            if street['u'].values[0] == trip[0]:\n",
    "                lats.append(street['u_lat'].values[0])\n",
    "                lons.append(street['u_lon'].values[0])\n",
    "                lats.append(street['v_lat'].values[0])\n",
    "                lons.append(street['v_lon'].values[0])\n",
    "            else:\n",
    "                lats.append(street['v_lat'].values[0])\n",
    "                lons.append(street['v_lon'].values[0])\n",
    "                lats.append(street['u_lat'].values[0])\n",
    "                lons.append(street['u_lon'].values[0])\n",
    "        else:\n",
    "            if street['u_lat'].values[0] == lats[i] and street['u_lon'].values[0] == lons[i]:\n",
    "                lats.append(street['v_lat'].values[0])\n",
    "                lons.append(street['v_lon'].values[0])\n",
    "            else:\n",
    "                lats.append(street['u_lat'].values[0])\n",
    "                lons.append(street['u_lon'].values[0])\n",
    "        lengths.append(street['length'].values[0])\n",
    "    return lats, lons, lengths"
   ]
  },
  {
   "cell_type": "code",
   "execution_count": 188,
   "metadata": {},
   "outputs": [],
   "source": [
    "def calculate_current_loc(previous_loc, ride_speed, ride_gps_time, lats, lons, starting_index):\n",
    "    length = ((previous_loc[0]-lats[starting_index+1])**2 + (previous_loc[1]-lons[starting_index+1])**2)**0.5\n",
    "    movement = ride_speed*ride_gps_time\n",
    "    indices_to_go = 0\n",
    "#     print(length)\n",
    "#     print(movement)\n",
    "#     print(previous_loc)\n",
    "    while length < movement:\n",
    "        indices_to_go += 1\n",
    "        if starting_index + indices_to_go == len(lats) - 1:\n",
    "            return indices_to_go, [lats[-1], lons[-1]]\n",
    "        movement -= length\n",
    "        length = ((lats[starting_index+indices_to_go]-lats[starting_index+indices_to_go+1])**2 + (lons[starting_index+indices_to_go]-lons[starting_index+indices_to_go+1])**2)**0.5\n",
    "    next_loc = []\n",
    "    if indices_to_go == 0:\n",
    "        next_loc = [previous_loc[0] + movement*(lats[starting_index+1]-previous_loc[0])/length, previous_loc[1] + movement*(lons[starting_index+1]-previous_loc[1])/length]\n",
    "    else:\n",
    "        next_loc = [lats[starting_index+indices_to_go] + movement*(lats[starting_index+indices_to_go+1]-lats[starting_index+indices_to_go])/length, lons[starting_index+indices_to_go] + movement*(lons[starting_index+indices_to_go+1]-lons[starting_index+indices_to_go])/length]\n",
    "        \n",
    "    return indices_to_go, next_loc\n",
    "        "
   ]
  },
  {
   "cell_type": "code",
   "execution_count": 189,
   "metadata": {
    "id": "WSkJzEmelmbU"
   },
   "outputs": [],
   "source": [
    "#TODO\n",
    "def visualize_a_ride(ride_speed, ride_gps_time, trip):\n",
    "    lats, lons, _= trip_details(trip)\n",
    "    starting_index = 0\n",
    "    time = 0\n",
    "    ride = []\n",
    "    ride.append([lats[0], lons[0]])\n",
    "    while starting_index != len(trip) - 1:\n",
    "#         print(starting_index)\n",
    "        indices_to_go, next_loc = calculate_current_loc(ride[-1], ride_speed, ride_gps_time, lats, lons, starting_index)\n",
    "#         print(next_loc)\n",
    "        ride.append(next_loc)\n",
    "        time += ride_gps_time\n",
    "        starting_index += indices_to_go\n",
    "    return ride\n",
    "        "
   ]
  },
  {
   "cell_type": "markdown",
   "metadata": {
    "id": "WuXoo-N37JS8"
   },
   "source": [
    "See a sample ride, printed out."
   ]
  },
  {
   "cell_type": "code",
   "execution_count": 190,
   "metadata": {},
   "outputs": [
    {
     "name": "stdout",
     "output_type": "stream",
     "text": [
      "[35.76219940185547, 35.76223373413086, 35.762550354003906, 35.76288604736328, 35.76299285888672, 35.76324462890625, 35.76333999633789, 35.7636604309082, 35.76377487182617, 35.76381301879883, 35.763797760009766, 35.76380157470703, 35.76381301879883, 35.76383590698242, 35.76389694213867, 35.76393508911133, 35.76483154296875, 35.765316009521484, 35.76616668701172, 35.766475677490234, 35.766727447509766, 35.766700744628906, 35.7667350769043, 35.766990661621094, 35.7673225402832, 35.76761245727539, 35.76797866821289, 35.768043518066406, 35.768428802490234, 35.76858139038086, 35.76847839355469, 35.76810073852539]\n",
      "[51.45186614990234, 51.45110702514648, 51.45111846923828, 51.45112609863281, 51.45107650756836, 51.45101547241211, 51.45099258422852, 51.45094680786133, 51.45093536376953, 51.450931549072266, 51.45087814331055, 51.4508171081543, 51.45075988769531, 51.450714111328125, 51.45068359375, 51.4507064819336, 51.45121765136719, 51.45149230957031, 51.44985961914063, 51.44917297363281, 51.44848251342773, 51.447731018066406, 51.44758605957031, 51.44710922241211, 51.44620132446289, 51.44608688354492, 51.44594955444336, 51.4459228515625, 51.445777893066406, 51.44572067260742, 51.445343017578125, 51.44549560546875]\n",
      "[68.602, 35.222, 37.334, 12.692, 28.532, 10.804, 35.869, 12.767, 4.256, 5.109, 5.523, 5.317, 4.851, 7.324, 4.718, 109.834, 59.297, 175.065, 70.842, 68.298, 67.868, 13.625, 51.561, 89.843, 33.851, 42.564, 7.603, 44.794, 17.735, 35.946, 44.192]\n"
     ]
    }
   ],
   "source": [
    "lats, lons, lengths = trip_details(scratch_trip)\n",
    "print(lats)\n",
    "print(lons)\n",
    "print(lengths)\n",
    "# print(scratch_trip[0])\n",
    "# street = pasdaran_streets.loc[((pasdaran_streets['v'] == scratch_trip[0]) & (pasdaran_streets['u'] == scratch_trip[1])) | ((pasdaran_streets['u'] == scratch_trip[0]) & (pasdaran_streets['v'] == scratch_trip[1]))].head(1)\n",
    "# print(street['v'].values[0])"
   ]
  },
  {
   "cell_type": "code",
   "execution_count": 192,
   "metadata": {
    "colab": {
     "base_uri": "https://localhost:8080/"
    },
    "id": "dMtD7q7TlmbU",
    "outputId": "0842e970-ff9a-492a-d0aa-31c44f8a6103"
   },
   "outputs": [
    {
     "name": "stdout",
     "output_type": "stream",
     "text": [
      "[[35.76219940185547, 51.45186614990234], [35.7622219918298, 51.45136666046996], [35.762473676730586, 51.45111569777057], [35.762965403945536, 51.451089254505334], [35.76345145680638, 51.45097666130445], [35.763805273117505, 51.45079861610194], [35.76419274405677, 51.4508534000727], [35.76462709292753, 51.451101071343686], [35.765061766386175, 51.45134817172982], [35.765412000482236, 51.45130807579811], [35.765643035602274, 51.45086465413275], [35.76587407072231, 51.45042123246739], [35.76610510584234, 51.44997781080203], [35.766317179100916, 51.44952519227574], [35.76651464970794, 51.44906609527818], [35.76668593793195, 51.44859635030022], [35.766713994992585, 51.44810392115849], [35.76672998195611, 51.44760757157377], [35.76696084165707, 51.44716485667335], [35.76714065353073, 51.446698899716786], [35.76731231695711, 51.44622929172277], [35.76776089923344, 51.446031217810656], [35.76822817146232, 51.4458533780076], [35.76854911252741, 51.44560232047811], [35.768264005085896, 51.445429639181675], [35.76810073852539, 51.44549560546875]]\n"
     ]
    }
   ],
   "source": [
    "#TODO\n",
    "ride = visualize_a_ride(0.0005, 1, scratch_trip)\n",
    "print(ride)"
   ]
  },
  {
   "cell_type": "markdown",
   "metadata": {
    "id": "_Bi1o_2o7Q3r"
   },
   "source": [
    "Visualize the sample ride on the map using `kepler` library. You should define an animation based on the order of the points in the ride, so you can play the animation in the visualization and see the ride!"
   ]
  },
  {
   "cell_type": "code",
   "execution_count": 193,
   "metadata": {
    "colab": {
     "base_uri": "https://localhost:8080/",
     "height": 511
    },
    "id": "lSqTVxIqlmbU",
    "outputId": "7835933e-d766-4b60-ed5e-732ed19fdd77"
   },
   "outputs": [
    {
     "name": "stdout",
     "output_type": "stream",
     "text": [
      "User Guide: https://docs.kepler.gl/docs/keplergl-jupyter\n",
      "Map saved to ride_map.html!\n"
     ]
    }
   ],
   "source": [
    "#TODO: Visualize the sampled ride using kepler\n",
    "ride_df = pd.DataFrame(ride, columns=['lat', 'lon'])\n",
    "map_ride = KeplerGl()\n",
    "map_ride.add_data(data=ride_df, name='ride')\n",
    "map_ride.save_to_html(file_name='ride_map.html')"
   ]
  },
  {
   "cell_type": "markdown",
   "metadata": {
    "id": "DMixk41z8Zil"
   },
   "source": [
    "Now, to complete our dataset, we need to put some random noise on the gps locations. For this sake, we easily add some random noise to the lat/longs of a created `ride`. You should define a function that gets a `ride` and adds some random noise to the lat/longs of the ride. Your function should take in 2 parameters: _ride_ and _gps\\_noise\\_radius_ which is the radius of the circle that you want to add noise to the gps locations. (e.g. 10 meters). The gps noise in assumed to be a normal distribution. So, assume `standard deviation` of the noise to be `gps_noise_radius`."
   ]
  },
  {
   "cell_type": "code",
   "execution_count": 208,
   "metadata": {
    "colab": {
     "base_uri": "https://localhost:8080/"
    },
    "id": "-ghTr5-IlmbU",
    "outputId": "69044cc2-556d-4ee2-93aa-b05ed36e9444"
   },
   "outputs": [
    {
     "name": "stdout",
     "output_type": "stream",
     "text": [
      "[[35.76213231620898, 51.45186067734206], [35.76215738492399, 51.451479831676906], [35.76241658282654, 51.45115868610336], [35.76276054852419, 51.450902228074604], [35.76347490402466, 51.4511069049567], [35.7638419566483, 51.45037066020229], [35.76402392375561, 51.45054814513422], [35.76460941821581, 51.4510394246452], [35.76495950834631, 51.45152158973675], [35.765058824242175, 51.451221076378246], [35.76578581285263, 51.450651626610586], [35.76584616150351, 51.45050836104812], [35.76628254150943, 51.450032702643675], [35.765891490824416, 51.44945765580814], [35.76642820756103, 51.44884753792059], [35.766601290335075, 51.44840924616214], [35.766654520788, 51.44791726532063], [35.76673943928129, 51.44775711729469], [35.76687743306244, 51.44686308568729], [35.76710563966188, 51.446868491177455], [35.7669548572003, 51.44612788994769], [35.76796075528116, 51.445642933151206], [35.7681116828562, 51.44566868748801], [35.768505535843985, 51.44539771657202], [35.76855032905724, 51.44523657962798], [35.76783947294829, 51.44568879322765]]\n"
     ]
    }
   ],
   "source": [
    "# put a random noise on each (lat, lon) location to simulate the GPS noise (suppoes GPS radius is 3 - 8 meters)\n",
    "# TODO\n",
    "# Print out a sample\n",
    "def put_noise_normal(ride, gps_noise_radius):\n",
    "    noise_lat = np.random.normal(0, gps_noise_radius, len(ride))\n",
    "    noise_lon = np.random.normal(0, gps_noise_radius, len(ride))\n",
    "    noisy_ride = []\n",
    "    for i in range(len(ride)):\n",
    "        noisy_ride.append([ride[i][0] + noise_lat[i], ride[i][1] + noise_lon[i]])\n",
    "    return noisy_ride\n",
    "noisy_ride_normal = put_noise_normal(ride, 0.0002)\n",
    "print(noisy_ride_normal)"
   ]
  },
  {
   "cell_type": "markdown",
   "metadata": {},
   "source": [
    "### Different noise models\n",
    "Experiment adding noise to rides using different models (PDFs) of noise. For example, you can use a uniform distribution for noise. Or you can use a normal distribution for noise. Or you can use a mixture of different distributions. You can also use a distribution that is dependent on the speed of the ride.\n",
    "1. Visualize each noise model (PDF) on a plot. (You can use `matplotlib` library for this purpose)\n",
    "2. Visualize the rides with different noise models on the map. (You can use `kepler` library for this purpose)\n",
    "3. Compare the results of different noise models. Which one is more descriptive of the real world? Why?\n",
    "4. Choose one model that you find appropriate for training your HMM on it. We will use that model for the rest of the project."
   ]
  },
  {
   "cell_type": "code",
   "execution_count": 209,
   "metadata": {},
   "outputs": [
    {
     "name": "stdout",
     "output_type": "stream",
     "text": [
      "[[35.76205962253485, 51.451878863721866], [35.762040239586504, 51.45136592923818], [35.762436483299965, 51.45126839777511], [35.762864288983295, 51.450896420040365], [35.76331678313231, 51.450816750771956], [35.76373000767578, 51.45067752260169], [35.76417736302827, 51.45077711229757], [35.764767601448746, 51.45092202577362], [35.76487763800226, 51.45129976668104], [35.76546826998888, 51.451480108891694], [35.765695691201365, 51.45080136434171], [35.76592248531455, 51.450562100055464], [35.7661289391747, 51.44990554046293], [35.7664831007969, 51.449590226152566], [35.76667073129093, 51.44910788116714], [35.766814096906266, 51.44847728347407], [35.76691148905053, 51.447913193957305], [35.766839076938076, 51.447496130064735], [35.7670521287269, 51.447117985195504], [35.76706648797425, 51.44677076937135], [35.767363825153275, 51.44633049785994], [35.76759001055273, 51.446049261972384], [35.768279143259726, 51.44599132655189], [35.768415378906106, 51.445746532152945], [35.76816857903269, 51.445386943839566], [35.76824416387607, 51.4454907964844]]\n",
      "[[35.76227473091301, 51.451883942953586], [35.76229413447912, 51.451405506452375], [35.76280302460734, 51.45121841153229], [35.76297929935874, 51.45174363293583], [35.764224229006096, 51.4510220738861], [35.7638243110779, 51.45080761026184], [35.76427300794702, 51.45106332494854], [35.76511231178966, 51.451282653642735], [35.76526264305436, 51.45138945048803], [35.76578838818823, 51.45137946600137], [35.765683365176365, 51.450921165099686], [35.766024320233996, 51.450642539815874], [35.76690130567774, 51.450001175781196], [35.76633667308228, 51.44984376698432], [35.76665904258001, 51.44925925274956], [35.76671389832083, 51.448614696025764], [35.76697496675791, 51.44818551439613], [35.76692482626508, 51.44761428179], [35.76714825241819, 51.447275497013464], [35.7671516839979, 51.44694343128729], [35.767403000659144, 51.446252739880414], [35.767895551113384, 51.44637409063268], [35.76825696014406, 51.445916118549874], [35.76860301148387, 51.446145527625234], [35.76828413338522, 51.44586564422134], [35.76815412344464, 51.44562552446326]]\n"
     ]
    }
   ],
   "source": [
    "#TODO: Experimenting with different GPS noise radiuses\n",
    "def put_noise_uniform(ride, gps_noise_radius):\n",
    "    noise_lat = np.random.uniform(-gps_noise_radius, gps_noise_radius, len(ride))\n",
    "    noise_lon = np.random.uniform(-gps_noise_radius, gps_noise_radius, len(ride))\n",
    "    noisy_ride = []\n",
    "    for i in range(len(ride)):\n",
    "        noisy_ride.append([ride[i][0] + noise_lat[i], ride[i][1] + noise_lon[i]])\n",
    "    return noisy_ride\n",
    "noisy_ride_uniform = put_noise_uniform(ride, 0.0002)\n",
    "print(noisy_ride_uniform)\n",
    "def put_noise_exp(ride, gps_noise_radius):\n",
    "    noise_lat = np.random.exponential(gps_noise_radius, len(ride))\n",
    "    noise_lon = np.random.exponential(gps_noise_radius, len(ride))\n",
    "    noisy_ride = []\n",
    "    for i in range(len(ride)):\n",
    "        noisy_ride.append([ride[i][0] + noise_lat[i], ride[i][1] + noise_lon[i]])\n",
    "    return noisy_ride\n",
    "noisy_ride_exp = put_noise_exp(ride, 0.0002)\n",
    "print(noisy_ride_exp)"
   ]
  },
  {
   "cell_type": "code",
   "execution_count": 210,
   "metadata": {},
   "outputs": [
    {
     "data": {
      "image/png": "[encoded data removed]",
      "text/plain": [
       "<Figure size 640x480 with 1 Axes>"
      ]
     },
     "metadata": {},
     "output_type": "display_data"
    }
   ],
   "source": [
    "#TODO: Visualize the noise models using matplotlib\n",
    "import matplotlib.pyplot as plt\n",
    "\n",
    "lat_nor, lon_nor = zip(*noisy_ride_normal)\n",
    "lat_uni, lon_uni = zip(*noisy_ride_uniform)\n",
    "lat_exp, lon_exp = zip(*noisy_ride_exp)\n",
    "lat, lon = zip(*ride)\n",
    "\n",
    "# Plot the locations using scatter\n",
    "plt.scatter(lon_nor, lat_nor, label='normal', color='blue')\n",
    "plt.scatter(lon_uni, lat_uni, label='uniform', color='green')\n",
    "plt.scatter(lon_exp, lat_exp, label='exponential', color='red')\n",
    "plt.scatter(lon, lat, label='original data', color='yellow')\n",
    "\n",
    "# Add labels and legend\n",
    "plt.xlabel('Longitude')\n",
    "plt.ylabel('Latitude')\n",
    "plt.legend()\n",
    "\n",
    "# Show the plot\n",
    "plt.show()"
   ]
  },
  {
   "cell_type": "code",
   "execution_count": 211,
   "metadata": {},
   "outputs": [
    {
     "name": "stdout",
     "output_type": "stream",
     "text": [
      "User Guide: https://docs.kepler.gl/docs/keplergl-jupyter\n",
      "Map saved to ride_noise_normal_map.html!\n"
     ]
    }
   ],
   "source": [
    "#TODO: Visualize the noise models using kepler\n",
    "ride_df = pd.DataFrame(ride, columns=['lat', 'lon'])\n",
    "ride_nor_df = pd.DataFrame(noisy_ride_normal, columns=['lat', 'lon'])\n",
    "map_ride_noise_normal = KeplerGl()\n",
    "map_ride_noise_normal.add_data(data=ride_df, name='ride')\n",
    "map_ride_noise_normal.add_data(data=ride_nor_df, name='normal')\n",
    "map_ride_noise_normal.save_to_html(file_name='ride_noise_normal_map.html')"
   ]
  },
  {
   "cell_type": "code",
   "execution_count": 212,
   "metadata": {},
   "outputs": [
    {
     "name": "stdout",
     "output_type": "stream",
     "text": [
      "User Guide: https://docs.kepler.gl/docs/keplergl-jupyter\n",
      "Map saved to ride_noise_uniform_map.html!\n"
     ]
    }
   ],
   "source": [
    "ride_uni_df = pd.DataFrame(noisy_ride_uniform, columns=['lat', 'lon'])\n",
    "map_ride_noise_uniform = KeplerGl()\n",
    "map_ride_noise_uniform.add_data(data=ride_df, name='ride')\n",
    "map_ride_noise_uniform.add_data(data=ride_uni_df, name='uniform')\n",
    "map_ride_noise_uniform.save_to_html(file_name='ride_noise_uniform_map.html')"
   ]
  },
  {
   "cell_type": "code",
   "execution_count": 213,
   "metadata": {},
   "outputs": [
    {
     "name": "stdout",
     "output_type": "stream",
     "text": [
      "User Guide: https://docs.kepler.gl/docs/keplergl-jupyter\n",
      "Map saved to ride_noise_exp_map.html!\n"
     ]
    }
   ],
   "source": [
    "ride_exp_df = pd.DataFrame(noisy_ride_exp, columns=['lat', 'lon'])\n",
    "map_ride_noise_exp = KeplerGl()\n",
    "map_ride_noise_exp.add_data(data=ride_df, name='ride')\n",
    "map_ride_noise_exp.add_data(data=ride_exp_df, name='exponential')\n",
    "map_ride_noise_exp.save_to_html(file_name='ride_noise_exp_map.html')"
   ]
  },
  {
   "cell_type": "markdown",
   "metadata": {},
   "source": [
    "#TODO: Choose the best model (while you explain why you chose it)\n",
    "بهترین انتخاب نرمال است چون به احتمال بالاتر خطا برابر ۰ است و به احتمال کمتری خطا وجود دارد. همچنین معمولا در مثال ها نمودار نرمال بهتر جواب میدهد و در طبیعت هم در تعداد بالا تمام نمودار ها به نرمال میل میکنند. همچنین در نمودار نمایی ما فقط خطای مثبت داریم که خوب نیست. در نمودار یونیفرم هم به احتمال تمام خطا ها یکی است که خوب نیست."
   ]
  },
  {
   "cell_type": "markdown",
   "metadata": {},
   "source": [
    "**Explanation of my noise model:**\n",
    "\n",
    "..."
   ]
  },
  {
   "cell_type": "markdown",
   "metadata": {
    "id": "ijwtglf39JyI"
   },
   "source": [
    "Visualize a sample `ride` and its corresponding `noisy_ride` (using your selected noise model) on the map."
   ]
  },
  {
   "cell_type": "markdown",
   "metadata": {
    "colab": {
     "base_uri": "https://localhost:8080/",
     "height": 511
    },
    "id": "abyNFZqElmbV",
    "outputId": "b811a58a-6289-406e-afd7-c96e8c1d20b2"
   },
   "source": [
    "#TODO: Visualize using kepler\n",
    "در قسمت های قبل انجام شد"
   ]
  },
  {
   "cell_type": "markdown",
   "metadata": {
    "id": "PrNNSj6x-DWd"
   },
   "source": [
    "Now, we create our dataset, We create 20 noisy_rides for each trip."
   ]
  },
  {
   "cell_type": "code",
   "execution_count": 214,
   "metadata": {
    "id": "FxA8kZXP-DHE"
   },
   "outputs": [
    {
     "name": "stderr",
     "output_type": "stream",
     "text": [
      "/var/folders/w_/ktm169bx72l270xpfjd5sljh0000gn/T/ipykernel_27174/1693435415.py:10: FutureWarning: The series.append method is deprecated and will be removed from pandas in a future version. Use pandas.concat instead.\n",
      "  distances = {node_id: float('inf') for node_id in graph['u'].append(graph['v']).unique()}\n",
      "/var/folders/w_/ktm169bx72l270xpfjd5sljh0000gn/T/ipykernel_27174/1693435415.py:11: FutureWarning: The series.append method is deprecated and will be removed from pandas in a future version. Use pandas.concat instead.\n",
      "  previous_node = {node_id: None for node_id in graph['u'].append(graph['v']).unique()}\n"
     ]
    },
    {
     "name": "stdout",
     "output_type": "stream",
     "text": [
      "[423793590, 423833951, 4429692925, 423832943, 4482481112, 423832942, 423832817, 423832941, 1707151179, 423833040, 4657965378, 423833041, 423833042, 4696632873, 4698562496, 6089414139]\n",
      "++++++++++++++++++++++++++\n",
      "[4698367362, 4698367361, 4698367363, 423816890, 423815710, 4698380304, 4698380301, 423815709, 4548912086, 4548912079, 423813731, 987522525, 423815705, 987522495, 423815704, 4695818007, 987522473, 423813741, 423816751, 9645503552, 423815702, 3405484867, 423815701, 4695735782, 423815687, 1762129786, 4695666775, 4695737209, 3405484866, 3405484864, 1762129778, 423816408, 4752577815, 4695666785, 5258869797, 423816409, 5244624163, 1725415355, 5254232803, 5257384708, 4695818020, 423793628, 1864300666, 1864300712, 3405485396, 1864300721, 4998084444, 4998084446, 9512321115, 33238927, 4450941429, 7266382968, 7266382969, 7710025071]\n",
      "++++++++++++++++++++++++++\n",
      "[423816409, 4695667391, 4695666779, 4695667389, 4379726016, 4695667393, 806589358, 4695818010, 4695818011, 423832591, 4879764419, 10882786110, 1864300723, 10882786107, 423832805, 423793656, 423832793, 423793595, 4379726019, 30772620, 4379726029, 429412485, 4429680695, 423793594, 423832802, 423793593, 423832796, 9339973930, 4429680702, 423832815, 4429684144]\n",
      "++++++++++++++++++++++++++\n",
      "[5289254243, 2813223401, 423816032, 4695666782, 806589535, 4379726017, 4379726016, 4695667389, 4695666779, 4695667391, 423816409, 5244624163, 4695567367, 4412258444, 9569441693, 9847389529, 9900349192, 1725415347, 4695567365, 423793631, 4683436115, 4268219995, 424055339, 4412258447, 424055336, 424055334, 424055331, 424055328, 4268219996, 11158587866, 11158587867, 11158587869, 11158587868, 2170382009, 2170381717, 4278550131, 4695529112, 4705509291]\n",
      "++++++++++++++++++++++++++\n",
      "[429412523, 30772620, 4379726019, 423793595, 423832793, 423793656, 423832805, 10882786107, 1864300723, 10882786110, 4879764419, 423832591, 2860485036, 423816032, 4695666787, 423815684, 423816034, 423816037, 1762129790, 1762129792, 423815702, 9645503552, 9645503551, 4695735781, 423816750, 9097167169, 4695735774, 987527854, 987527838, 423816753, 423816752, 9357300680, 9357300679, 2170381701, 2170382317, 2170381978]\n",
      "++++++++++++++++++++++++++\n",
      "[423821146, 4705474456, 423813740, 4698523036, 4493669624, 4698523043, 3798184981, 2918357569, 5667400230, 5667400228, 1721683045, 5667400227, 4698536185, 1864321886, 1721683049, 4698536186, 423832812, 423832813, 4698544220, 4698544218, 4695975713, 423793661, 4695969098, 806589258, 1707151175, 423793624, 6096557785, 10922701617, 10922701619, 10922701618, 6096557786, 6434310435, 423833953, 423832811, 4698557150, 423832952, 1707151184, 4696632863]\n",
      "++++++++++++++++++++++++++\n",
      "[1864271565, 4705509188, 424065302, 11194352485, 11194352481, 11194352482, 4695529113, 4695529111, 4695529109, 4695529112, 4278550131, 2170381717, 2170382009, 11158587868, 11158587869, 11158587867, 11158587866, 4268219996, 424055328, 424055331, 424055334, 424055336, 4412258447, 424055339, 4268219995, 4683436115, 423793631, 1725415330, 9751562375, 4695567369, 4664780472, 1864300702, 1864300696, 3405484889, 429412268, 4658772356, 5289114994, 4998084443, 4998084444, 4998084446, 9512321115, 33238927, 4450941429, 7266382968, 6049896585]\n",
      "++++++++++++++++++++++++++\n",
      "[423815701, 3405484867, 423815702, 9645503552, 423816751, 423813741, 987522473, 4695818007, 423815704, 987522495, 423815705, 987522525, 423813731, 4548912083, 4548912081, 4698385304]\n",
      "++++++++++++++++++++++++++\n",
      "[424055398, 424055394, 4268219991, 4268219992, 4268219993, 4683382508, 4695567377, 4268219995, 424055339, 4412258447, 9288662427, 4695611102, 4412258448, 424055346, 4683436105, 4683436113, 4683436111, 4683436109, 3405484865, 423816747, 4695737210, 4695737204, 7606688922, 4695737212, 423815687, 1762129786, 1762129788, 1762129792, 1762129796, 423816031, 1762129803, 423815689, 1762129807, 1721875820, 1721875822, 4557856608]\n",
      "++++++++++++++++++++++++++\n",
      "[33238927, 4450941429, 443319996, 9512328917, 429412527, 2022634074, 429412533, 4813610983, 429412534, 429412535, 423793648]\n",
      "++++++++++++++++++++++++++\n",
      "[423813728, 8186666625, 8172489033, 4705330062, 8186666624, 4705330064, 4705330063, 4692318251, 4692318259, 8243063383, 423816888, 4698367370, 423816889, 4698367369, 4698367368, 5726748645, 4698367363, 423816890, 423815710, 4698380304, 4698380301, 423815709, 4548912086, 4548912079, 423813731, 3405484875, 423816741, 4695866630, 9766894901, 4683382421, 4683382422, 4683382428, 4683382424, 4683382423, 4695837549, 4695837547, 423816401, 4683382419, 2170381978, 2170382317, 2170381701, 3844136667, 2170381783, 11158587870, 9767680732, 2170381966, 2170382319, 4403803547, 4692533038, 2170382093, 2170381826, 2170381569, 2170381542, 4403839382, 4561610032]\n",
      "++++++++++++++++++++++++++\n",
      "[4695667411, 1721875799, 4482283396, 423832805, 10882786107, 1864300723, 10882786110, 4879764419, 423832591, 2860485036, 423816032, 2813223401, 5289254243, 2860485035, 1864300686, 423816003, 4695975729, 423816008, 1721875823, 4557856614, 1721875825, 4692090681, 4557856611, 423816007, 423815690, 423816016, 423816022, 423816019, 4695998353, 423816025, 4698510542, 4551688588]\n",
      "++++++++++++++++++++++++++\n",
      "[429412527, 443319995, 8932572871, 443319997, 4482283389, 4482283390, 4482283391, 4482283392, 4482283393, 4482283395, 4482283396, 423832805, 4695882300, 4379726030, 4695924448, 423832806, 4429680698, 4695924432, 423832804, 423832807, 4695924426, 423832798, 4695924421, 4429680700, 423832808]\n",
      "++++++++++++++++++++++++++\n",
      "[4695737192, 4695737190, 9645503551, 9645503552, 423815702, 1762129792, 1762129790, 423816037, 423816034, 423815684, 4695666787, 423816032, 2860485036, 423832591, 4879764419, 10882786110, 1864300723, 10882786107, 423832805, 4695882300, 4379726030, 4695924448, 423832806, 4429680698, 4695924432, 423832804, 423832807, 4695924426, 423832798, 4695924421, 4695924420]\n",
      "++++++++++++++++++++++++++\n",
      "[423832817, 423832942, 4482481112, 423832943, 4695969112, 423832944, 2106802326, 423832945, 423832946, 423793591, 4429684144, 423832815, 4429680702, 9339973930, 423832796, 423793593, 423832802, 423793594, 4429680695, 429412485, 4379726029, 30772620, 4379726019, 423793595, 423832793, 423793656, 423832805, 10882786107, 1864300723, 10882786110, 4879764419, 423832591, 4695818011, 4695818010, 806589358, 806589535, 4379726017, 4695666786, 4379726018, 423816039, 1762129779, 1762129788, 1762129786, 423815687, 4695737212, 7606688922, 4695737204, 4695737210, 4683382443, 4695837565, 423816406, 4692533034, 9357300681, 423816405, 4403810838, 423816404, 10286634511, 2170381752, 10286634512, 4403810840, 2170381811, 2170381569, 2170381542, 4403834962]\n",
      "++++++++++++++++++++++++++\n",
      "[4551688568, 4698502266, 4551688567, 4698380185, 4551688566, 4698380184, 4513930725, 4513930724, 423821057, 423821055, 423821054, 423821030, 4548912076, 4705330051, 423821044, 423821050, 4705330047, 423821052, 1725215751, 1725215749, 423821079, 423821081, 1725215765, 1725215767, 1725215776, 4705388831, 4705388830]\n",
      "++++++++++++++++++++++++++\n",
      "[424055331, 424055334, 424055336, 4412258447, 9288662427, 4695611102, 4412258448, 424055346, 4683436105, 4683436113, 4683436111, 4683436109, 3405484865, 423816747, 4695737210, 4695737204, 4695737198, 4695737196, 4695737194, 4695737195, 4695737192, 4695737190, 9645503551, 9645503552, 423816751, 423813741, 987522473, 4695818007, 423815704, 987522495, 423815705, 987522525, 423813731, 4548912079, 4548912086, 423815709, 4698380301, 4698380304, 423815710, 423816890, 4698367363, 5726748645, 4698367368, 4698367367]\n",
      "++++++++++++++++++++++++++\n",
      "[4403803548, 4403803547, 2170382319, 2170381966, 9767680732, 11158587870, 2170381783, 4221838195, 4403803545, 2170381752, 10286634511, 423816404, 4403810838, 423816405, 9357300681, 4692533034, 423816406, 4695837565, 4683382443, 4695737210, 423816747, 3405484865, 4692533035, 3405484852, 4412258440, 3405484850, 4695567367, 5244624163, 1725415355, 5254232803, 5257384708, 4695818020, 423793628, 1864300666]\n",
      "++++++++++++++++++++++++++\n",
      "[423832802, 423793594, 4429680695, 429412485, 4379726029, 30772620, 4379726019, 423793595, 423832793, 423793656, 423832805, 10882786107, 1864300723, 10882786110, 4879764419, 423832591, 2860485036, 423816032, 4695666787, 423815684, 423816031, 1762129803, 423815689, 1762129807, 1721875820, 1721875822, 4557856608, 4557856609, 4557856610, 1721875824, 423816006, 4695998346, 4316456843, 423815715, 4551688585, 7606040476, 4698502278, 9740001182, 7915981207, 4698502277, 4551688575, 3965305168, 423821064, 4698502270, 4698502271]\n",
      "++++++++++++++++++++++++++\n"
     ]
    },
    {
     "name": "stdout",
     "output_type": "stream",
     "text": [
      "[4695818017, 4695818018, 4695818016, 4695818013, 4879764419, 4695882304, 4695882301, 4695924450, 1864300705, 4695924446, 4695924443, 4695924442, 4695924436, 4695924430, 423793625, 4695924423, 4695924416, 4695924415]\n",
      "++++++++++++++++++++++++++\n",
      "[[[35.77418736946496, 51.46358398962238], [35.77498465548881, 51.46383163996753], [35.77482540562245, 51.46390345833578], [35.775282288587086, 51.46358514276695], [35.775493929870656, 51.46365657295441], [35.77623223019798, 51.46349412308807], [35.776498291698815, 51.463706643827116], [35.776967981915696, 51.46340188441027], [35.77718549199423, 51.46386870124209], [35.77759900589916, 51.46410483835041], [35.777821588616135, 51.46434723927251], [35.77818253831961, 51.46521511834161], [35.77887629382046, 51.46520854287828], [35.779338918991634, 51.46492270396085], [35.77960322976586, 51.46502640985126]], [[35.774754587950675, 51.44115530849192], [35.77484183254084, 51.44118071919839], [35.7739246493616, 51.441012677496], [35.773950650905064, 51.441237660677075], [35.77403845301418, 51.44169086112397], [35.7740026095131, 51.44241512929123], [35.77364340479734, 51.4426017877664], [35.77360987524663, 51.4425934162609], [35.772651040790144, 51.4427744649138], [35.772376908404745, 51.44320279056938], [35.77231347413348, 51.443324869181254], [35.77204997382688, 51.444239722149305], [35.77170102139629, 51.444291806118606], [35.77130162828421, 51.444674354648264], [35.77076206943094, 51.44476942365349], [35.7704730523706, 51.44520990383162], [35.77013929651874, 51.44578542770039], [35.76973543934857, 51.44628590421768], [35.76898143183629, 51.44598345795642], [35.769277365389605, 51.44605003434655], [35.768678769535725, 51.44692642722102], [35.76835343223757, 51.447403408038184], [35.76765266251478, 51.44716913515973], [35.76750790591863, 51.44759185296417], [35.7668682627509, 51.448274251236676], [35.76685353862115, 51.448668939183484], [35.766578520559726, 51.44898876266455], [35.76631101692314, 51.44960059830854], [35.76641181060284, 51.44979496319598], [35.7664207155463, 51.45040406345603], [35.76605899572606, 51.45105044942844], [35.765604474737096, 51.451496580889], [35.76547938105162, 51.45204017295857], [35.765385117505474, 51.452197885835986], [35.76499672244353, 51.45254190032744], [35.764860960818375, 51.45311946002551], [35.76451928835444, 51.453143464635026], [35.764289561221936, 51.453649352515974], [35.76420649241057, 51.45370405054367], [35.763953012988985, 51.454492787068766], [35.763550598582256, 51.454963855394595], [35.76308919951315, 51.45530236449215], [35.76363695366297, 51.45549962019407], [35.76350716915567, 51.45611237995318], [35.76369103356995, 51.4564030938447], [35.763190888295334, 51.45693176514134], [35.763028254424974, 51.457212148122444], [35.76255477174229, 51.457966526141576], [35.76275200846133, 51.458524922449136], [35.76224999477937, 51.45853723472829], [35.76223623012304, 51.45922360673015], [35.76198008452943, 51.459712649378645], [35.762697021903016, 51.45980021809691], [35.76273629767309, 51.45975438663951]], [[35.76592049278093, 51.45083770255431], [35.7664937732132, 51.4514715400308], [35.76673737988856, 51.451405862781414], [35.76710280231278, 51.45131912923858], [35.76696976335021, 51.452140437390455], [35.76712101420056, 51.45254802701762], [35.767268678695466, 51.45267583181413], [35.767677372590214, 51.45257299583845], [35.76817001800727, 51.453000283417346], [35.768311801016786, 51.45325549864202], [35.76892184341949, 51.45350306678104], [35.768798975638134, 51.454181105701615], [35.76861342937073, 51.45481255882709], [35.76849449916574, 51.455119294825195], [35.768166608318026, 51.45552252780398], [35.7674853715645, 51.456187883876396], [35.76770730566175, 51.45687125173755], [35.76770460105627, 51.457225868768866], [35.767373759405835, 51.457982474365], [35.767698287727356, 51.45777516742178], [35.768162567425264, 51.45861345464953], [35.76889333826957, 51.4583005091452], [35.76901436984619, 51.45887464216706], [35.76948517323193, 51.45931380175559], [35.76985508663886, 51.45970042345579], [35.770372789475175, 51.46000028877682], [35.770560851136224, 51.46007598053069], [35.77120822107923, 51.460496418762794], [35.7716243347011, 51.460648345823884], [35.77217770616687, 51.46122111911157], [35.771910109015714, 51.46149044038222], [35.77252597965457, 51.46151322381625], [35.77227756753957, 51.46200055269367]], [[35.77111747510602, 51.45320454276803], [35.770348981534944, 51.4530435631221], [35.76985043610212, 51.45272735415355], [35.76935405385761, 51.452281031789916], [35.769352342536095, 51.45255351409451], [35.76877508483075, 51.45211110293113], [35.76856031109205, 51.451771055194115], [35.767747250597054, 51.451717337162336], [35.7672935726372, 51.45129530218838], [35.766531578983965, 51.451022461037816], [35.76639958331836, 51.451242601072316], [35.76589455107172, 51.451115519504754], [35.76566198968861, 51.450882068616636], [35.76530314175317, 51.451304726176595], [35.76477336423942, 51.45115817111319], [35.76433728774826, 51.45087735682748], [35.76427594182624, 51.45114033122928], [35.76380641453293, 51.45063974376289], [35.76330073243316, 51.45003888697272], [35.763381123407314, 51.44953253753155], [35.763575781242864, 51.44938368828698], [35.76387637312245, 51.44858533696556], [35.76393973061374, 51.448432562070664], [35.763700428861, 51.4479548803794], [35.764298483301324, 51.447491839670825], [35.7642933565903, 51.4469965191586], [35.76412148942805, 51.446196851346095], [35.763830604094736, 51.44592956546899], [35.7635304080118, 51.4455735965939], [35.763631202664875, 51.445006080919306], [35.76348040069731, 51.44465592143796], [35.763165856507335, 51.44398336692806], [35.76327845715228, 51.44348744857451], [35.762824362034515, 51.44340333047847], [35.76250223221539, 51.44301804119185], [35.76200571320793, 51.443262258139924], [35.76183892454637, 51.44366191042045]], [[35.76743413559092, 51.46123313766863], [35.767416612045054, 51.46066131795418], [35.76775960716146, 51.460087964988794], [35.76779712098311, 51.4601174614889], [35.768188443639275, 51.45948427932745], [35.76832922355344, 51.45913899809157], [35.76867794904901, 51.45869790008525], [35.76814360870511, 51.45837614888107], [35.768274289559535, 51.45761182835583], [35.767788147498884, 51.45762269958233], [35.76738022242938, 51.457037237769036], [35.76754702667691, 51.45635598095942], [35.76819075296401, 51.456318944934594], [35.768022669672064, 51.45588625577558], [35.768335067480834, 51.45517238894123], [35.76872641449539, 51.45484962387029], [35.76869321814874, 51.45454502802439], [35.768618020455115, 51.4539370860616], [35.76882285104754, 51.45346690467423], [35.76898150672881, 51.45300274051693], [35.76887891374559, 51.45229534884968], [35.769220794664136, 51.45165977341889], [35.7693978495822, 51.451335250126625], [35.769561348232585, 51.45053201297057], [35.76984704700005, 51.450648109454114], [35.76915209057401, 51.45003350655766], [35.76886090610727, 51.449919609564226], [35.76824689415269, 51.44975865917064], [35.768528111232754, 51.449123622890966], [35.76894818469592, 51.448917176365924], [35.76874915514888, 51.44808573481978], [35.76956375122409, 51.447556613135596], [35.768877054055224, 51.447342824666585], [35.76926960159983, 51.4469057432708], [35.769528624396884, 51.44625687780306], [35.7694741818567, 51.44611927410771], [35.770011949681944, 51.44537162363027], [35.76956209680811, 51.44481101842225], [35.76907510997667, 51.44450573962495], [35.769278874664415, 51.4442494794052], [35.76883892892586, 51.443482894096995], [35.76906537197986, 51.4435215362469], [35.76845054095654, 51.442889037795695], [35.76909737143878, 51.442298585750066], [35.768408982211994, 51.44212487921903], [35.768500961800314, 51.44126625181298], [35.76877062700644, 51.441249782253905], [35.768850314401604, 51.44112003930439]], [[35.780226113991844, 51.447229798809566], [35.779591565529124, 51.44667680978383], [35.77954647301646, 51.44665645837708], [35.779389051400685, 51.44785381159725], [35.779278009094355, 51.44813003780059], [35.77936003132561, 51.44839171628216], [35.77917199934925, 51.44910475112778], [35.77879521422405, 51.44931313039036], [35.77907918376074, 51.450098179737715], [35.77902764315475, 51.450611154651455], [35.77935610624352, 51.45115556372813], [35.77920020521587, 51.45134494355203], [35.77956505211559, 51.45191543690807], [35.77963146827458, 51.45238182257819], [35.77941144844636, 51.4530011779112], [35.779455662717744, 51.45384028398777], [35.77915252939359, 51.45410486715639], [35.77846535974931, 51.453629754204215], [35.77889806785769, 51.45438105688339], [35.7786762802805, 51.45479541682896], [35.77801920800964, 51.45541010055723], [35.77844303107411, 51.45609950562731], [35.77799760266737, 51.45649729468939], [35.77781745528239, 51.45697911170242], [35.77790083201923, 51.457253446544016], [35.77742765729296, 51.45758377919328], [35.777661326254176, 51.457978292753864], [35.7773065285721, 51.45892125580785], [35.77661580559799, 51.458989978949106], [35.77699490741528, 51.459589343260795], [35.77765144211778, 51.45961000886662], [35.77768558453376, 51.46001280832966], [35.7775313073143, 51.460150961735074], [35.77791186571725, 51.46063140028329], [35.778291824760004, 51.46109730961399], [35.77887143325463, 51.46107178675368], [35.77858468710071, 51.461052482640476], [35.779622888276236, 51.46162694238806], [35.77917280679753, 51.4618076896969], [35.779246142901705, 51.46250869894748], [35.779037792230234, 51.46252897036925]], [[35.76510072626113, 51.4411764769691], [35.76434996821269, 51.44121620537331], [35.76405688821285, 51.441969215251675], [35.76433016861292, 51.44235022907147], [35.76379696456917, 51.44231119453546], [35.76317531865842, 51.44241634486237], [35.76291097340649, 51.44270055739636], [35.76274965297772, 51.443115634625734], [35.76280786628598, 51.44404713892824], [35.76334217965398, 51.4446526941344], [35.76344554933453, 51.44482877365936], [35.76392252602644, 51.44520608750231], [35.76362311353618, 51.44566480503507], [35.76375937446402, 51.44609780443179], [35.76405236197327, 51.446581178234226], [35.76409885433951, 51.44702886636752], [35.76457403457214, 51.44750402185748], [35.76425539798929, 51.447639129304626], [35.76381773008672, 51.44838008846981], [35.76343957894551, 51.44856449594181], [35.763690554418226, 51.44976387247241], [35.762994690274404, 51.4498743655527], [35.763144211991836, 51.44991300058184], [35.763085686308195, 51.45048907455002], [35.76299502533951, 51.45148832286219], [35.76276284708807, 51.45131470624426], [35.76258352147922, 51.45231731053036], [35.76234659778761, 51.45236059030599], [35.76268886309578, 51.45271466160398], [35.76251522384509, 51.45319032072394], [35.76247260600366, 51.45373994487278], [35.762949886225066, 51.454339643625595], [35.76259192291132, 51.454726891390415], [35.76271413156836, 51.45488521216599], [35.763277250486446, 51.45532244461307], [35.76370649026179, 51.45542102934765], [35.76324145827495, 51.455689730201236], [35.763232887456304, 51.456416877995764], [35.76320863836272, 51.4570543897811], [35.76304479905317, 51.45726577463739], [35.762993771273706, 51.457495392764365], [35.762545857788936, 51.45802925418379], [35.76274880780103, 51.45855324179288], [35.76259687376961, 51.45927615984591], [35.762202484331816, 51.459355570024435], [35.762195661415056, 51.45990840373846]], [[35.76858367664369, 51.44643185359904], [35.76946346357166, 51.44641194410785], [35.770028855787864, 51.44610160046794], [35.769849105782434, 51.445599762760565], [35.77035973285932, 51.44532020285014], [35.77068040637951, 51.44492323746616], [35.77077009423937, 51.444595615584966], [35.77180945209688, 51.44437714386572], [35.772025044503124, 51.44395294508811], [35.77202429652329, 51.443734032299275], [35.77227356022066, 51.44308692398258], [35.77252500136395, 51.44357908664034], [35.77265805175877, 51.444068713534854], [35.77287362487963, 51.44478375038999], [35.7728922796545, 51.44453063243234]], [[35.762925492535665, 51.44882518333378], [35.76306470486716, 51.44842841024962], [35.76345364412194, 51.44842231879562], [35.76396712937525, 51.448599209042015], [35.76419846975396, 51.44809272728736], [35.76437718770005, 51.44769726824675], [35.76466830899038, 51.44819496070723], [35.76533532049801, 51.44785660683887], [35.765444967521844, 51.44831230433767], [35.765357981429986, 51.44795457253255], [35.76540187568605, 51.44745436512928], [35.76603811598375, 51.44706985421933], [35.766555543432474, 51.4473208343503], [35.7664257410446, 51.44742667029719], [35.76705452858517, 51.44707938897642], [35.76720738775389, 51.446306384046224], [35.76778347777731, 51.44589259260459], [35.76778861949569, 51.44641769722248], [35.76857803652874, 51.44694371482971], [35.76812479484487, 51.44700346068222], [35.76886863403767, 51.44720974220144], [35.76928011205897, 51.44761323397666], [35.76981548249221, 51.44770557643393], [35.769667015702154, 51.44780852098029], [35.770951702470846, 51.447996557463675], [35.77075649449701, 51.44843909819719], [35.771654875260715, 51.448837035265754], [35.771830590061136, 51.44864640762181], [35.77237558637991, 51.448573100834864], [35.772698482457464, 51.449349349524475], [35.773219979282544, 51.44952397768632], [35.77362641619706, 51.4491568933804]], [[35.763121425322616, 51.45731647169658], [35.76318774410328, 51.458244156992], [35.76358735097248, 51.45845372522985], [35.763966389657384, 51.45889980276786], [35.7631105350976, 51.45903672978089], [35.7633277425091, 51.45981499784509], [35.76307983072572, 51.460292632403444], [35.76274154828783, 51.46074568325676], [35.762445039887105, 51.461422035635394], [35.76257429755982, 51.4613130010596], [35.762817185198365, 51.4619785709314], [35.76269310902618, 51.462427841789754], [35.76351897167169, 51.46287945228514], [35.76392010644116, 51.46300303084894], [35.76404713089204, 51.46334548045152], [35.764695885362656, 51.46349922016169], [35.764782775155254, 51.46323167860755]], [[35.77681784573221, 51.441645660022466], [35.7765188774472, 51.441084104008986], [35.77632512555692, 51.44052679951019], [35.77658798244164, 51.44004559887813], [35.77567960641122, 51.440204093813854], [35.77584663621229, 51.44010837305609], [35.77519287998472, 51.44085505998703], [35.774539236185824, 51.44062547294484], [35.77418791404883, 51.44118231026659], [35.77406911996904, 51.44164299080192], [35.77431770111132, 51.4421146342383], [35.77438889569841, 51.442343264836914], [35.77394901612196, 51.4428040978696], [35.77296983763387, 51.44300446095986], [35.77263272357823, 51.44298478201959], [35.77234757250202, 51.44307561148887], [35.77214246779784, 51.44254887133114], [35.772135525459575, 51.44234471663663], [35.7718150031715, 51.44305423338492], [35.771110037516614, 51.44284466913529], [35.771162543435764, 51.442699565122815], [35.77108087760457, 51.44210649114938], [35.770744150015844, 51.441299828241476], [35.77054084995734, 51.44098349063954], [35.770011571189, 51.44057811196695], [35.76990447810103, 51.44077785034703], [35.769601765423666, 51.44092216743613], [35.76910632595084, 51.44143348477032], [35.76850883879224, 51.44112810476958], [35.768061606623654, 51.44152113230366], [35.76764499477772, 51.44156164075899], [35.76717537882749, 51.4418074998891], [35.76696099186412, 51.44217013055287], [35.76632493418771, 51.442407720826125], [35.7657803551526, 51.44235316925458], [35.765618452343304, 51.44298175905499], [35.76490139730659, 51.442796689895594], [35.764730480633915, 51.44316088299048]], [[35.76556275800399, 51.455554194895086], [35.76585311489523, 51.45550962579364], [35.76651968506859, 51.4554933917301], [35.76704728897462, 51.45558330739331], [35.76742987892465, 51.455854099627295], [35.767931091055054, 51.45615889164724], [35.7680935630866, 51.45538335430172], [35.76847558292917, 51.454947626344236], [35.7685567089786, 51.454683833837215], [35.768519806355236, 51.45395869069885], [35.76870266836922, 51.453572774482886], [35.768790931663155, 51.45309105139929], [35.768883995120724, 51.45259484198719], [35.76901299981696, 51.45247306967295], [35.7695566337714, 51.45254808179836], [35.770092122159106, 51.45274218576055], [35.77047782342564, 51.45317662297601], [35.771126161246215, 51.453100620966886], [35.77059263519661, 51.452311633954395], [35.77171555400947, 51.452058685695604], [35.77126225882426, 51.45149633896461], [35.77155221262801, 51.451147198016464], [35.771970540917955, 51.45154524036182], [35.772612660570516, 51.45149801355553], [35.77277336133061, 51.45187583952683], [35.77314616946542, 51.45127601080507], [35.77342666565493, 51.45064979862541], [35.77331177907496, 51.45021328860601], [35.77394299217875, 51.44971759335255], [35.77392920328784, 51.44934675914634], [35.77417965011424, 51.44987202313911], [35.77466705335696, 51.44991823019564], [35.77555421755856, 51.450445184198855], [35.77580036083544, 51.45052413708746], [35.77594745002339, 51.45075460337524], [35.7763503223524, 51.45005891952639], [35.77640093889494, 51.44932894067834], [35.77615261900657, 51.44933781921033], [35.77650962276729, 51.44860684962892], [35.77694669298631, 51.44835864570208], [35.777200623985486, 51.44777259363365], [35.77737046593695, 51.44727542078112], [35.77763301960118, 51.44765334830593], [35.77757273345959, 51.44728291915279]], [[35.763436288325735, 51.4590377242175], [35.764063524764914, 51.45893264391583], [35.76466919143739, 51.45860249709173], [35.76418692973542, 51.45821539013007], [35.764561431527476, 51.45770640918217], [35.76481375174808, 51.457045662529296], [35.764785173266944, 51.456673988551074], [35.7655657225737, 51.45596855589262], [35.76549494484283, 51.45591891299022], [35.76605108162865, 51.45567817521437], [35.76652781594698, 51.45604250095034], [35.76724048493737, 51.456328869958355], [35.76759820852677, 51.45605774788259], [35.767694774102004, 51.45604199561571], [35.768513183300044, 51.45636729115833], [35.76858150258974, 51.45639642533656], [35.76878882031545, 51.45642698351913], [35.769327471909676, 51.45724845249654], [35.76973609899661, 51.45663144430581], [35.770379495513794, 51.45698191597603], [35.770803189829635, 51.4570594772452], [35.771066225208834, 51.457528653715926], [35.77154850022424, 51.45733205339066], [35.772299706522794, 51.4577912963005], [35.772727298630535, 51.457783197757394], [35.77290117651721, 51.45824565840924], [35.77369082215826, 51.45885714736999], [35.773661666546374, 51.45941681265723]], [[35.76890882252507, 51.44562289013237], [35.769866721377845, 51.445004814885245], [35.76987768814219, 51.44557413026306], [35.76955418498597, 51.44611793300077], [35.76964032182845, 51.446844944328895], [35.76931663729878, 51.44669143581085], [35.76896739329632, 51.44741739027595], [35.76870424924862, 51.44800354058419], [35.769110846034316, 51.448668872571275], [35.76841500060217, 51.44897304928752], [35.768419240267264, 51.44947483680239], [35.76876996159394, 51.44970176353664], [35.76890167130911, 51.449948835766676], [35.76907853224425, 51.45013617620877], [35.76943721752786, 51.4504740058624], [35.769304446751995, 51.451109502159724], [35.76939881140596, 51.45140550201962], [35.76879037994149, 51.452100102707654], [35.768930073456765, 51.45259921780441], [35.76891202000264, 51.453078585287535], [35.768776757345314, 51.45336498262965], [35.768760967604145, 51.453840417141784], [35.768521548647165, 51.454577074669025], [35.76843215737218, 51.45489264882471], [35.768373469074525, 51.455391655224], [35.767864668514505, 51.4559100448088], [35.76796922283652, 51.456259922793706], [35.76845168916802, 51.45628264517385], [35.76905078273467, 51.45625602172697], [35.769554135547814, 51.45683894439134], [35.77020287328842, 51.457244073133644], [35.770620125649444, 51.45718791848819], [35.771006669342356, 51.4569523767246], [35.771289229778546, 51.45751315815741], [35.77193119286364, 51.45735382840821], [35.77250202110204, 51.457539829947706], [35.77287208955433, 51.45811294747371], [35.772729248689394, 51.458318645852025], [35.77297855476678, 51.45770161438616], [35.773397683253606, 51.45798696532222]], [[35.7774081838097, 51.46429076356578], [35.77648089336005, 51.4640081461839], [35.776786404709966, 51.46381047196166], [35.77582580936285, 51.463540800498414], [35.77532806981864, 51.4629924601614], [35.774873060982316, 51.463136733949575], [35.77469864691315, 51.463109741554945], [35.77409938774815, 51.46280983366229], [35.773872154885716, 51.462540728758825], [35.77328980370953, 51.46262994131171], [35.772972165248476, 51.46214289720591], [35.77281310708001, 51.461865244862224], [35.77229216928966, 51.46166854984414], [35.77188177824632, 51.46146698071369], [35.77144343214516, 51.46071061749393], [35.77079649941521, 51.46061756304502], [35.77070242824991, 51.45976374294469], [35.77029061639565, 51.45979588655156], [35.77005743019765, 51.45946307625409], [35.76944669340837, 51.459132323062526], [35.769162943232395, 51.458949324742335], [35.76829587183376, 51.45871025462975], [35.768283617309564, 51.45828839100327], [35.76817123370892, 51.45806820012087], [35.76742090176781, 51.457454839030085], [35.767539473872795, 51.45698616047539], [35.76759977373072, 51.45671037616377], [35.768249384301264, 51.45630963487501], [35.768217279430914, 51.45571676463462], [35.76822913583364, 51.45510852971668], [35.76865970790827, 51.45441391926371], [35.76860930910348, 51.45432051533364], [35.76866776928785, 51.45370948409793], [35.76838048352721, 51.45331020969234], [35.76794699954167, 51.4530118525511], [35.76773174483813, 51.45273995468412], [35.76775328972528, 51.45263079811088], [35.76800696672042, 51.45192892737056], [35.767772166833566, 51.45175666488103], [35.76738126864527, 51.45118506042023], [35.767942575713015, 51.45072583012561], [35.76744467694438, 51.45031597809733], [35.76819040990389, 51.44976265075646], [35.767751406067084, 51.449010081954356], [35.76774421585576, 51.449238122039375], [35.7678745339257, 51.448789139835185], [35.7680928105601, 51.44822760592381], [35.76834313388272, 51.44766083001148], [35.768381799549275, 51.4470771514396], [35.767804422847924, 51.4471493593571], [35.76784516565791, 51.44657166778407], [35.76805566518703, 51.446380269646625], [35.76722459352665, 51.446219919748145], [35.767479146753566, 51.445722378263596], [35.767368675388006, 51.445410773394414], [35.767665799862925, 51.44469616857346], [35.767593400916304, 51.444248215979954], [35.7674533456069, 51.44351018278118], [35.76696969714185, 51.443039892542224], [35.767270469221586, 51.442704744781466], [35.76677288748798, 51.44235385758041], [35.7669398972296, 51.44217015799758], [35.766242868300445, 51.44293644054824], [35.765804709893416, 51.44260949027658], [35.765133705000395, 51.44279309371739], [35.76493793201097, 51.44252574822551], [35.76495713588438, 51.44195149613631], [35.76485229074924, 51.44127310583898]], [[35.7764420580394, 51.44409971171375], [35.776240662084405, 51.443838446955745], [35.77666349285284, 51.44385557360481], [35.776847101098596, 51.443357624676814], [35.777221911848365, 51.442826426372186], [35.77742687572174, 51.442154255894046], [35.77735519886161, 51.442022255746515], [35.7775057275896, 51.44180729947879], [35.77825475445805, 51.44173633239825], [35.77875649627294, 51.442054771179926], [35.77890396904011, 51.44217861336449], [35.77898846997567, 51.44248146124451], [35.77926952297061, 51.44306094035423], [35.77961355518076, 51.443100680418375], [35.77976583549669, 51.44362689492759], [35.77973805689956, 51.443508400753984]], [[35.76404230774261, 51.44722756026562], [35.76444674239964, 51.44740522592305], [35.76480815212486, 51.44788072994797], [35.76500302032009, 51.44815552616454], [35.76577578365732, 51.448261360481396], [35.766445063476624, 51.44754182047913], [35.765801608147015, 51.446938202859926], [35.766392946675516, 51.44757627086037], [35.76645632016279, 51.447584986233224], [35.766783340696705, 51.44698400970106], [35.76708031954436, 51.44672115695482], [35.76697606730104, 51.446271908234635], [35.7676047277016, 51.44611269115986], [35.768333283621764, 51.446035175117935], [35.7685881735885, 51.445492901438776], [35.76902565435725, 51.44555182899374], [35.77019518181873, 51.44502127459008], [35.76960526347729, 51.44604309490783], [35.77008829935886, 51.4455628409206], [35.770618439848015, 51.44521997161291], [35.77086979244488, 51.44502122129094], [35.771015598584604, 51.44457720603901], [35.771554675892, 51.44416437180618], [35.77219295205038, 51.443953947842736], [35.772450191797, 51.44377048554191], [35.77248851612218, 51.44307596938069], [35.77284342728655, 51.44293133252699], [35.77369919054784, 51.443086817540625], [35.77421775455846, 51.442467943508554], [35.774493288214266, 51.44220948295632], [35.774061792239266, 51.441817918770155], [35.774217811447336, 51.441866395985926], [35.7741260230102, 51.44120569165292], [35.77485524465589, 51.44078365423539], [35.77543127282755, 51.440977684695504], [35.7749060379668, 51.44094541849294], [35.775368360813104, 51.44119559676129]], [[35.76708421187468, 51.440678237087056], [35.76712226872456, 51.44146399566105], [35.76738848763154, 51.44116440695982], [35.76724042648203, 51.44164660973522], [35.76774123285001, 51.44137032563218], [35.767773970535465, 51.44184381931574], [35.76699126641003, 51.44224020582162], [35.76727600209169, 51.441921011826224], [35.76731744267049, 51.442764239843854], [35.767291181501825, 51.443616746281975], [35.76751181802685, 51.44353979009043], [35.76732052382192, 51.44423064223368], [35.76807927790916, 51.44455230517305], [35.76742728698908, 51.44544848861925], [35.767682556404175, 51.446170396071764], [35.7671008153408, 51.44637844401836], [35.766971779724955, 51.44676366818167], [35.7671153709163, 51.447328859063006], [35.76687769576818, 51.44797317218319], [35.76628752688985, 51.44786362277369], [35.76676835412892, 51.44879592904079], [35.76624807777486, 51.448994778655596], [35.7664740820097, 51.44992728334762], [35.76601997165546, 51.44990841468202], [35.76571346508568, 51.45034572869054], [35.765656778390436, 51.450909189297505], [35.765386669962275, 51.45136571145643], [35.765332642688016, 51.45193172135408], [35.765518298983835, 51.45227157278449], [35.765336259067944, 51.45259325917653], [35.76476810190895, 51.45296516645012], [35.76435630000815, 51.45299212341482], [35.76389310627875, 51.453189442287545], [35.76422758243992, 51.45319208798912]], [[35.77002451852615, 51.459626806572594], [35.76966147886771, 51.459572286039844], [35.76984679465262, 51.45937130566703], [35.768800583801095, 51.45847770595618], [35.76886138287112, 51.45865380092185], [35.768659846849054, 51.45811614591611], [35.7678636050288, 51.45753250116044], [35.767674548554034, 51.45749985067794], [35.76766063212051, 51.456779962941994], [35.7675179159769, 51.456862384033876], [35.76825538379564, 51.45611420430031], [35.768008991078005, 51.45562429118758], [35.76823596400799, 51.455149014552994], [35.76847630685457, 51.454816817865584], [35.76821653852702, 51.45419744963776], [35.768726416787175, 51.45418966348095], [35.768613693943905, 51.45320887496059], [35.769448515864354, 51.45279198126035], [35.769025384212576, 51.452414478206755], [35.769254716958415, 51.45152467097], [35.769264503578036, 51.45128563935788], [35.769624553255575, 51.450835087792086], [35.76969872566085, 51.45020228101064], [35.77007106592847, 51.44974065333536], [35.76968270504476, 51.4494836709573], [35.76980834667271, 51.449266457894566], [35.77033076734873, 51.44869061812167], [35.77076538339628, 51.44789575191127], [35.77107897640346, 51.44860444217361], [35.77132430642512, 51.448584135471386], [35.77170277163456, 51.44899743311393], [35.77255711059523, 51.44897883799431], [35.7726678504208, 51.44915704555384], [35.773077534929136, 51.449182771282445], [35.77435802882278, 51.44983673335965], [35.77396313483046, 51.44889351910651], [35.773977059136584, 51.4489160982452], [35.77379031823597, 51.44743658084638], [35.77487828695446, 51.44780222511198], [35.774756583958535, 51.44785285485819], [35.7752896855502, 51.447533596640596], [35.775194954751036, 51.44735082787713], [35.77538446358189, 51.44635954278505], [35.775424620514464, 51.44607220632013], [35.77610566770146, 51.44626119514083], [35.77659059051407, 51.4459935576104], [35.77654408363375, 51.44568144370858], [35.777057630961615, 51.44596229158239], [35.777307871776756, 51.44535121052043]], [[35.76725946736661, 51.454224274673216], [35.76715013548473, 51.4545070770193], [35.76786483293945, 51.45467503194491], [35.768277201948514, 51.45480849988659], [35.76884766428912, 51.45543372745544], [35.769108155770375, 51.4550525756197], [35.76969242999023, 51.45528353907322], [35.77023513945799, 51.455535374357005], [35.770421296785095, 51.455813263290814], [35.77077861648274, 51.455886730444085], [35.771738158854745, 51.45647951033861], [35.77218848447702, 51.45606927268136], [35.77233170587974, 51.456970351171144], [35.77241779089707, 51.456976718062585], [35.77271168205734, 51.45737900081777], [35.77277827115484, 51.45726133817194]]]\n",
      "======================\n",
      "[[[35.77430725097656, 51.4633903503418], [35.77468753322766, 51.46371498153176], [35.77506917409317, 51.46403800192985], [35.775363526232255, 51.46379373122079], [35.77562937862413, 51.463370266339446], [35.77602682615399, 51.463440831309306], [35.77646494786873, 51.46368172617424], [35.77690655041401, 51.463916086973946], [35.77735100971355, 51.46414511957218], [35.777838369367124, 51.46425265486051], [35.77816125382511, 51.464496415693226], [35.77828335605757, 51.46494974752531], [35.77873657660603, 51.46513245537653], [35.779234849429244, 51.4651405994749], [35.77939987182617, 51.465118408203125]], [[35.77473449707031, 51.44159698486328], [35.77459890582645, 51.441115722840465], [35.77430016011546, 51.441145680204784], [35.77407891468112, 51.44152505319884], [35.774191432584246, 51.44201215521351], [35.77424303862182, 51.44245664769457], [35.773779025976495, 51.44264290629163], [35.773315943811944, 51.442831465753486], [35.7728559686736, 51.44302725728972], [35.77242118083579, 51.44325289624806], [35.77224497560887, 51.44372081901734], [35.7720358734389, 51.4441602459026], [35.77161267988183, 51.44442397995713], [35.771201714405855, 51.444707914837096], [35.77078118849052, 51.44497837860603], [35.770375830614825, 51.445268096571425], [35.77003137717327, 51.44563052149689], [35.769681686589415, 51.44598787003152], [35.76930909372016, 51.44631588607378], [35.768841942900245, 51.44647698359828], [35.768454029068934, 51.44679170981296], [35.76807743780368, 51.44712061089392], [35.767699925155526, 51.44744844651331], [35.76732246556607, 51.44777633435625], [35.767000070147695, 51.448135979620446], [35.766927064150394, 51.44862980720249], [35.766816199967074, 51.44911713899111], [35.766580077835414, 51.44955787187235], [35.76634468105333, 51.44999899357323], [35.766113311444755, 51.4504422249428], [35.76588417872636, 51.45088662724271], [35.765665194014716, 51.451336122177125], [35.76545262661357, 51.4517885969554], [35.765252056890716, 51.45224660337991], [35.7650521243216, 51.45270489037275], [35.76485219175249, 51.453163177365596], [35.76443791208652, 51.45304015488693], [35.76420892449018, 51.45342874270207], [35.76400430713455, 51.4538849572679], [35.763839813323266, 51.454356918107855], [35.763655966201064, 51.454821888979765], [35.76347320576629, 51.45528729055204], [35.76365925668899, 51.45556510889048], [35.76348003605145, 51.45603188502856], [35.763300815413906, 51.456498661166634], [35.763121922066055, 51.456965562663726], [35.76294346066702, 51.45743262960652], [35.76276499926798, 51.45789969654932], [35.76264593954901, 51.4583530759512], [35.762473870675386, 51.45882253553703], [35.76230180180177, 51.45929199512287], [35.762129732928145, 51.4597614547087], [35.76239389039425, 51.46000941463825], [35.76242446899414, 51.45993041992188]], [[35.765892028808594, 51.450870513916016], [35.76634093153423, 51.451090707441416], [35.76679072342999, 51.45130906454732], [35.76724573057249, 51.45151635047773], [35.76719536270035, 51.45195081389852], [35.7670484384518, 51.4524287399024], [35.76724876153027, 51.45275451325151], [35.76770022669372, 51.45296940144867], [35.76815154239283, 51.453184601906464], [35.76860341131228, 51.453398645078835], [35.768714790880146, 51.453762249979455], [35.76856671715399, 51.45423982109627], [35.76841864342783, 51.45471739221309], [35.76824608027067, 51.45518542205705], [35.76810059758624, 51.45566378884993], [35.76797590685749, 51.4561468881123], [35.767839405014705, 51.45662789460593], [35.7676772812761, 51.45710087010384], [35.767599316474154, 51.457550279667124], [35.76798115036178, 51.457873045447926], [35.768351759345634, 51.45820866890619], [35.76872551404506, 51.45854054384395], [35.76911120817665, 51.45885871882402], [35.769496108742935, 51.459177860434615], [35.76987598330198, 51.45950295550641], [35.770260002227126, 51.45982309349006], [35.770644112866925, 51.46014318568989], [35.77101959462103, 51.46047324412763], [35.77139229451552, 51.46080655297636], [35.77176836253307, 51.46113604855984], [35.77214341699749, 51.46146670419195], [35.77252223512516, 51.46179303746763], [35.77263641357422, 51.461891174316406]], [[35.77088928222656, 51.45317840576172], [35.77043396804591, 51.45297179260411], [35.76997865933578, 51.45276516746113], [35.76952425740129, 51.45255655566393], [35.76906973116118, 51.45234821597969], [35.768614547922446, 51.45214131450754], [35.76815916006371, 51.45193486465705], [35.767704488754845, 51.45172686480264], [35.767250061817116, 51.451518319225286], [35.76679504322241, 51.45131105829766], [35.76634520837913, 51.45109279172659], [35.765896296517234, 51.45087261684491], [35.76567512782121, 51.45131573173222], [35.765383944958174, 51.45153112981985], [35.76494911437851, 51.45128430602469], [35.76451459974592, 51.45103692629545], [35.76408025087516, 51.45078925502447], [35.76364475520942, 51.45054401827712], [35.76327446750234, 51.450274386624415], [35.76344521770191, 51.44980444580968], [35.76361596790147, 51.44933450499495], [35.76378170941702, 51.44886279577589], [35.76394197346221, 51.44838919775737], [35.76409194092072, 51.447912217924056], [35.764241074770545, 51.44743505460924], [35.764220604884336, 51.44695144032187], [35.76405184594542, 51.44648078103705], [35.763882430406575, 51.44601035742455], [35.76371301486773, 51.44553993381204], [35.76354359932889, 51.445069510199545], [35.76337418379005, 51.44459908658704], [35.76328079950634, 51.4441202000327], [35.763125265742666, 51.4436450066214], [35.76296989631451, 51.44316975895882], [35.762738059259, 51.44290647292339], [35.76232044476887, 51.44318142407838], [35.76224136352539, 51.44323348999024]], [[35.76750183105469, 51.46137619018555], [35.76768046236297, 51.46090918819872], [35.76785909367125, 51.46044218621189], [35.76803772497953, 51.459975184225065], [35.76821635628781, 51.45950818223824], [35.76839498759608, 51.45904118025141], [35.76857361890436, 51.458574178264584], [35.76834570564256, 51.458203119678366], [35.76797504183531, 51.457867556627036], [35.767593027136336, 51.457544998996696], [35.767679949960176, 51.45709310354889], [35.76784164699255, 51.45661999430304], [35.76797814883534, 51.45613898780941], [35.768102987070144, 51.455655931902875], [35.768248469754575, 51.45517756510999], [35.76842107546835, 51.454709548334634], [35.76856914919451, 51.454231977217816], [35.76871722292068, 51.453754406101], [35.76886525817198, 51.45327682305861], [35.7690130905598, 51.45279917724074], [35.769160575682385, 51.45232142402193], [35.76930800225218, 51.451843652730915], [35.76945507668282, 51.451365772975066], [35.76960201935447, 51.45088785263521], [35.76971655291806, 51.45042455884432], [35.7692609556308, 51.450218570709126], [35.768805464120724, 51.45001234895249], [35.76842735837071, 51.449769847820775], [35.768561962360124, 51.44928830678822], [35.76869748738378, 51.44880703123902], [35.768839842787834, 51.448327724511614], [35.768982198191885, 51.44784841778421], [35.76912470848145, 51.44736915719586], [35.76926784633778, 51.44689008355425], [35.76941098419412, 51.446411009912644], [35.76967099531447, 51.44599924011757], [35.769605868621575, 51.4455274771172], [35.76948678337694, 51.445041865753744], [35.7693674120494, 51.444556324377], [35.76924860159563, 51.44407097948954], [35.76914729879361, 51.44358134927978], [35.76887931260717, 51.4433239846409], [35.76868019889493, 51.443011633986984], [35.768670706934905, 51.442511724092405], [35.76858921123445, 51.442020048261725], [35.76847434236832, 51.44153342197432], [35.76873829559007, 51.44126781982767], [35.76898193359375, 51.441200256347656]], [[35.77973175048828, 51.446998596191406], [35.77951505121184, 51.44666265189523], [35.77937417687175, 51.44714216210627], [35.77926486281695, 51.44762999871018], [35.779167195117104, 51.4481203612531], [35.7790706107846, 51.448610943130504], [35.77897356175033, 51.449101434195605], [35.77887651271605, 51.44959192526071], [35.77903638210399, 51.45000236569374], [35.77909159786703, 51.45049930756108], [35.77914512799048, 51.45099642933039], [35.77919603477918, 51.45149383107834], [35.779246941567884, 51.45199123282629], [35.77929784835659, 51.45248863457424], [35.77934391940076, 51.45298650137128], [35.7793887382505, 51.453484488590696], [35.77917684306073, 51.45381651524385], [35.77869125448077, 51.453929563307675], [35.77850248166306, 51.454342731666884], [35.77838038129013, 51.45482759401738], [35.778246561540854, 51.4553092435941], [35.77812148150154, 51.455793340351235], [35.77799487894823, 51.456277045770385], [35.77786671886981, 51.45676034128804], [35.77773595998005, 51.457242936353694], [35.777597512465846, 51.457723337947044], [35.77744626871233, 51.4581999005563], [35.77729286918917, 51.4586757877134], [35.77713614164416, 51.459150578029075], [35.77699010256669, 51.45961870952456], [35.777419001233504, 51.45974922811721], [35.777570238694956, 51.46006308707675], [35.77743953095709, 51.460545700262706], [35.77770078601527, 51.46081627749474], [35.77817625287, 51.46097097484461], [35.77865084014851, 51.46112834913671], [35.779124118136906, 51.46128945926367], [35.77935426330271, 51.4615586860185], [35.779134749801024, 51.462007922952175], [35.778990766695905, 51.46240778675958], [35.77912139892578, 51.46240234375]], [[35.76487350463867, 51.440826416015625], [35.76453778759736, 51.44119694815752], [35.764180104648, 51.441544675230446], [35.764172755726335, 51.44197911633869], [35.763869904155115, 51.442271631716785], [35.76343133323583, 51.4425117470859], [35.762993267171105, 51.44275277765961], [35.762964663318776, 51.44315375214833], [35.76312003274693, 51.44362899981092], [35.76327547407466, 51.44410422373765], [35.76336847770744, 51.44458324225533], [35.76353789324628, 51.44505366586783], [35.76370730878512, 51.44552408948034], [35.763876724323964, 51.44599451309284], [35.764046139862806, 51.44646493670535], [35.764214932647604, 51.44693558384191], [35.76424579010877, 51.44741888773534], [35.764096991972785, 51.44789615277235], [35.76394702451427, 51.44837313260567], [35.76378717119874, 51.4488468655792], [35.763621718936776, 51.44931867692434], [35.76345096873721, 51.449788617739074], [35.763280218537645, 51.450258558553806], [35.76311465630156, 51.4507303464946], [35.762870777022755, 51.45112575157962], [35.762544210542515, 51.45129785831081], [35.762527097287354, 51.45179756536149], [35.76250992714863, 51.452297270439146], [35.762492375988195, 51.452796962300965], [35.762474824827756, 51.453296654162784], [35.76245727366732, 51.4537963460246], [35.76243723472577, 51.45429570809452], [35.76239150877955, 51.45479361284228], [35.76270642665056, 51.45508179007276], [35.76317039964266, 51.45526776273816], [35.7636468502996, 51.455416647701206], [35.76355418130442, 51.45583877537715], [35.76337496066688, 51.45630555151523], [35.763195753214966, 51.456772332703686], [35.76301729181593, 51.45723939964648], [35.76283883041689, 51.45770646658928], [35.762717126050404, 51.45815885613237], [35.76254505717678, 51.4586283157182], [35.762372988303156, 51.45909777530404], [35.76220091942954, 51.459567234889874], [35.76205825805664, 51.4599494934082]], [[35.76890563964844, 51.44643020629883], [35.76937565656691, 51.446273285851866], [35.76973661407478, 51.445931063694594], [35.77008581996124, 51.44557323821563], [35.770430273402795, 51.44521081329017], [35.77084733234878, 51.44493513069871], [35.77126834731494, 51.44466542428638], [35.77167523079519, 51.44437568115061], [35.772096620601026, 51.44411478398262], [35.77227282582795, 51.443646861213345], [35.77244455262978, 51.4432589300209], [35.77256742596487, 51.44374359706489], [35.77269118057643, 51.44422803859174], [35.772891677298965, 51.44457070571279], [35.7730712890625, 51.44450759887695]], [[35.763023376464844, 51.44880294799805], [35.76300240134722, 51.4484074344625], [35.763467416101065, 51.448585541788994], [35.763860661683346, 51.4486323976698], [35.76401502270174, 51.44815686059276], [35.764164990160246, 51.447679880759445], [35.764549870993996, 51.447773213651416], [35.76499286387405, 51.448005063235975], [35.765435825174414, 51.448236970915886], [35.76562118674893, 51.44778594594692], [35.765799700367445, 51.44731889975166], [35.76610505850506, 51.44721306147161], [35.76653694901096, 51.447464981413276], [35.76686159249186, 51.44735002302636], [35.767068524672894, 51.446896217741674], [35.76724018809927, 51.44642660974766], [35.76756450597223, 51.446105811690906], [35.76772550692736, 51.44652084833797], [35.768056847966356, 51.446863827993944], [35.76835930976931, 51.44713262341422], [35.768815180775704, 51.44733799985661], [35.76927089990472, 51.447543710733626], [35.76972572893238, 51.44775138916993], [35.770181775837685, 51.4479563799506], [35.77063744406697, 51.4481622075977], [35.771092463992694, 51.448369467982715], [35.771548141123326, 51.448575277564615], [35.772003981671496, 51.44878072659645], [35.77245939511573, 51.44898712086675], [35.77291510157604, 51.44919286532359], [35.77337129273775, 51.44939753487182], [35.77353286743164, 51.44937515258789]], [[35.76271057128906, 51.45804214477539], [35.763139723068086, 51.458297717445554], [35.76357246856659, 51.45854815320084], [35.76356055657128, 51.458956273330585], [35.76338064655244, 51.4594227841934], [35.76320269159151, 51.459890043812635], [35.763024950791724, 51.46035738545222], [35.76284720999194, 51.460824727091804], [35.762669469192154, 51.46129206873139], [35.762491728392376, 51.46175941037098], [35.762516674319734, 51.46216274381199], [35.76293296598741, 51.46243957635601], [35.76335733658559, 51.46270398056716], [35.76378158126637, 51.462968586785586], [35.764201246440706, 51.463240193155514], [35.764613639191964, 51.46352291602107], [35.7647819519043, 51.46363830566406]], [[35.77677154541016, 51.44158554077149], [35.77656345970945, 51.441133566715], [35.776393051429274, 51.4406646973238], [35.77630803264096, 51.44017301854237], [35.77582761996667, 51.44014622714856], [35.77539036198178, 51.44037918874277], [35.77498725949109, 51.44067219747757], [35.77456330643612, 51.440937265112076], [35.77417671329802, 51.441252884019924], [35.77411438249567, 51.441684658364316], [35.774233657382126, 51.44217010723521], [35.77409130783566, 51.44251755371436], [35.77362757523706, 51.44270450480251], [35.773164529057176, 51.44289315324617], [35.77270702898919, 51.443094701675115], [35.77238559653321, 51.44302367885746], [35.772264328720695, 51.44253860760738], [35.77193546431992, 51.44249605858558], [35.77148839438355, 51.44271987687185], [35.77108760834379, 51.442849023841646], [35.77095268503607, 51.4423675725223], [35.77081823280977, 51.44188598909356], [35.77068378058347, 51.44140440566481], [35.77054968225556, 51.440922723738346], [35.77038976684812, 51.44050490704207], [35.769957864201096, 51.440756789893], [35.76951711651939, 51.4409906409074], [35.769052131159, 51.441174136323376], [35.768572292490084, 51.44131385430077], [35.76809430540518, 51.44146049720537], [35.767706919430374, 51.44156997823217], [35.767272925311936, 51.44181825076678], [35.76683711268701, 51.44206333569797], [35.766403513689525, 51.442312275896654], [35.76596856891029, 51.44255886089573], [35.76553201353372, 51.44280262173751], [35.76509757360625, 51.44305010272145], [35.76466751098633, 51.44329452514648]], [[35.765560150146484, 51.45534896850586], [35.766050266780155, 51.45544789112917], [35.766535484207196, 51.455565108484635], [35.76700944532342, 51.45572435941968], [35.767482524971854, 51.45588615552667], [35.767953458202925, 51.456054149252374], [35.76811018875899, 51.45563225177343], [35.76825567144343, 51.455153884980554], [35.76842840541904, 51.454685907592776], [35.7685764791452, 51.45420833647596], [35.76872455287136, 51.45373076535914], [35.76887258387978, 51.453253181001635], [35.76902039178739, 51.45277552761224], [35.76922143409842, 51.45241753223853], [35.76967583603291, 51.452626144035726], [35.77013053680241, 51.452834101115464], [35.77058585098307, 51.45304071427307], [35.770938659791355, 51.453019093241345], [35.771086683696325, 51.45254150668002], [35.77123586281711, 51.45206427975172], [35.77138508046609, 51.451587064817716], [35.771613143283865, 51.45128638444787], [35.772068148389074, 51.45149367673103], [35.77252407904135, 51.451698918541275], [35.77294034698476, 51.451822279072374], [35.77308470581138, 51.45134357192894], [35.773229064637995, 51.4508648647855], [35.77337342346461, 51.450386157642065], [35.77351778229123, 51.44990745049863], [35.773800962422904, 51.4495968795085], [35.774257769518165, 51.449800170624194], [35.774714802803096, 51.45000295159808], [35.775172165190845, 51.45020499032276], [35.77562948589806, 51.45040712336301], [35.77605516288196, 51.450538641264544], [35.776209048041665, 51.45006291092326], [35.77636293320137, 51.44958718058197], [35.776516818361074, 51.449111450240686], [35.776671177357855, 51.44863587994913], [35.776837277084496, 51.44816427536814], [35.776983228592805, 51.44768620525681], [35.777191812779826, 51.447356957483926], [35.77765046078386, 51.447556060493426], [35.77767562866211, 51.447566986083984]], [[35.76369094848633, 51.4586181640625], [35.76412305246716, 51.4588697314486], [35.764374914234004, 51.45861033503755], [35.764553542883036, 51.45814333203355], [35.76473217153207, 51.45767632902955], [35.7649108001811, 51.45720932602555], [35.76508942883013, 51.456742323021544], [35.765268057479155, 51.45627532001754], [35.765494064329125, 51.455909609158155], [35.765960155276595, 51.455878620233555], [35.76644607508135, 51.45599590638131], [35.76692073909092, 51.456151928345705], [35.76727346695106, 51.45609723974819], [35.76756227891603, 51.455914605764065], [35.76803289125387, 51.45608346534854], [35.76849956405697, 51.456262954888196], [35.7689653355866, 51.456444531862374], [35.769415994651375, 51.456661110733315], [35.769871676030405, 51.45686586234827], [35.77034151254699, 51.4570368993258], [35.77081096636445, 51.457208978247564], [35.771279812029995, 51.45738271293581], [35.77174793519173, 51.45755838155997], [35.77221598850127, 51.45773423973986], [35.772587006557245, 51.45806244457969], [35.77294774859567, 51.45840866009308], [35.773310359922625, 51.4587529044087], [35.773616790771484, 51.45903015136719]], [[35.76895523071289, 51.445579528808594], [35.769425106914476, 51.44540891618476], [35.76964887238893, 51.44570401889899], [35.76954652348503, 51.446131614920304], [35.76935896676691, 51.44658510905678], [35.769215828910575, 51.447064182698384], [35.76907282051807, 51.447543294906154], [35.76893046511402, 51.44802260163356], [35.768788109709966, 51.44850190836097], [35.768647650196954, 51.44898176156915], [35.76851304620754, 51.44946330260171], [35.76851557486646, 51.44988090848316], [35.76897095163354, 51.45008738366327], [35.76942652328239, 51.45029342842394], [35.769695561898985, 51.45058361232053], [35.76954861922733, 51.45106153266038], [35.769401676555674, 51.45153945300024], [35.76925442627263, 51.45201727859057], [35.769106983748024, 51.45249504495716], [35.76895946617361, 51.452972788144265], [35.76881147815893, 51.453450385828], [35.7686634117594, 51.45392795921576], [35.76851533803323, 51.45440553033258], [35.76836375502914, 51.45488174346182], [35.76819560019832, 51.45535140737972], [35.76804917394699, 51.455829478081625], [35.76823431840725, 51.456160937330615], [35.76870099121035, 51.45634042687027], [35.76915985082717, 51.4565380124877], [35.76961050989195, 51.45675459135864], [35.77007446871826, 51.45693968600219], [35.77054430523485, 51.457110722979714], [35.77101333137728, 51.45728396629801], [35.77148196268929, 51.4574582744302], [35.77194995820474, 51.457634286160236], [35.772383949409075, 51.45786363557524], [35.772742711456736, 51.45821187948323], [35.7730931751043, 51.45851939508617], [35.7732345911141, 51.45803981035729], [35.77326202392578, 51.45794677734375]], [[35.777374267578125, 51.46415710449219], [35.77692980827859, 51.46392807189395], [35.77648780182024, 51.46369446444229], [35.77604991747053, 51.463453134059925], [35.77560340472224, 51.46322959034897], [35.7751356181558, 51.463053023850854], [35.77466742873485, 51.46287753163708], [35.77419145283863, 51.46272516303325], [35.77372340059664, 51.462551108268165], [35.77326015077156, 51.46243971401637], [35.77288565249032, 51.46210842707527], [35.77250797161247, 51.46178077791953], [35.772129318356214, 51.46145425539168], [35.77175418933712, 51.461123684708056], [35.77137827496792, 51.46079401516956], [35.77100557507343, 51.46046070632083], [35.770629664090634, 51.46013114504298], [35.770245553450835, 51.45981105284315], [35.76986171887878, 51.45949069701772], [35.769481619095885, 51.459165869002575], [35.76909673931928, 51.458846702315356], [35.7687109374225, 51.45852865829017], [35.76833789488296, 51.4581959598154], [35.767967160340106, 51.457860474703814], [35.767584912350216, 51.45753818563853], [35.76768339321623, 51.45708308279089], [35.76784453969306, 51.456609800977425], [35.76798104153585, 51.456128794483796], [35.76810607008959, 51.4556457945169], [35.76825155277402, 51.455167427724014], [35.76842421339627, 51.45469942781035], [35.76857228712244, 51.45422185669353], [35.7687203608486, 51.45374428557671], [35.7685864137281, 51.4533905935916], [35.76813457414362, 51.45317648889948], [35.76768321321507, 51.45296138360241], [35.767627924685755, 51.45257485573555], [35.7677789722245, 51.4520982168355], [35.76769744503542, 51.451723571635114], [35.76768139677665, 51.45131427840906], [35.767822761830864, 51.450834681862986], [35.767966567700185, 51.45035580831814], [35.768110373569506, 51.4498769347733], [35.76785301513478, 51.449580878726735], [35.76797743599878, 51.44910409666539], [35.768112039988196, 51.44862255563283], [35.768246472815136, 51.44814096678943], [35.76838090045751, 51.447659376497825], [35.7684871910182, 51.4471908804276], [35.768167166283, 51.446950876040674], [35.76777464641723, 51.446641153334085], [35.76763488676559, 51.446172983846026], [35.76733225012114, 51.44610246065844], [35.76737411134765, 51.44560431239923], [35.76740162558697, 51.445105070497455], [35.76742848162879, 51.444605792265385], [35.76745533767062, 51.444106514033315], [35.767451678629065, 51.443608338213686], [35.76729992543204, 51.443132638203], [35.76712030800551, 51.442666085101514], [35.76693891324734, 51.442200149546196], [35.766542593084615, 51.44235137222161], [35.7661073679623, 51.442597460403974], [35.76567018139882, 51.44284008750203], [35.765296091894356, 51.44291819026879], [35.765137591477476, 51.44244397763943], [35.764979091060596, 51.441969765010064], [35.76483154296875, 51.4415283203125]], [[35.77632141113281, 51.444114685058594], [35.7764778531338, 51.44364605833739], [35.776838794813145, 51.44344329833984], [35.77715866835939, 51.44317838813849], [35.77743647878645, 51.442776095301426], [35.77730561319247, 51.44237649006362], [35.77704380613703, 51.44196701049805], [35.77754185340418, 51.44193728611506], [35.778039223018304, 51.441913018419896], [35.77853829656172, 51.44194307050822], [35.77875656346665, 51.44219923942448], [35.77887341117111, 51.442657286039804], [35.77928708253222, 51.44285894430823], [35.77971939491231, 51.44311005178351], [35.77960849570698, 51.44356587741365], [35.779571533203125, 51.44367599487305]], [[35.76428985595703, 51.447227478027344], [35.76430821804091, 51.44764595262878], [35.764750620354455, 51.447878933728816], [35.76519428689506, 51.44810949237957], [35.76552314436539, 51.44804085614413], [35.7657025521067, 51.44757415204459], [35.76588040474522, 51.447106852955166], [35.766300619089996, 51.44732809371691], [35.76673054630596, 51.44758329087133], [35.766968777085324, 51.44715005176989], [35.767146420565396, 51.44668312323114], [35.76731808399178, 51.446213515237126], [35.76777662722787, 51.44602531981274], [35.768243893050546, 51.4458474629546], [35.76871187253237, 51.445671408937976], [35.769179343946895, 51.44549401191667], [35.76958730869028, 51.44545128371503], [35.769705643398545, 51.44593707883318], [35.770046139375616, 51.445614989092675], [35.77039059281717, 51.44525256416721], [35.77079912344676, 51.444966651903876], [35.77121978196859, 51.44469639349275], [35.77162964060839, 51.44441088369991], [35.772054644927294, 51.4441499110382], [35.77225252721643, 51.443700765303916], [35.77242873244336, 51.44323284253464], [35.77287548900395, 51.44301841789484], [35.77333578852992, 51.44282338086838], [35.773798912114174, 51.44263492382792], [35.7742629247595, 51.44244866523085], [35.77418589851851, 51.44199145370837], [35.77407426619902, 51.44150413502939], [35.774316339300114, 51.441131629860216], [35.774720362215156, 51.44083963584403], [35.77507312868557, 51.44073902888426], [35.77517373103751, 51.44122880349241], [35.77519607543945, 51.44133758544922]], [[35.766868591308594, 51.44063949584961], [35.76703083172997, 51.44111244198362], [35.76719307215134, 51.44158538811762], [35.76749384364087, 51.44169320278513], [35.76791130454141, 51.44148388000086], [35.76755598393419, 51.44176365284856], [35.7671221853083, 51.44201216965974], [35.76700744980989, 51.44237619444216], [35.76719019687516, 51.44284159631389], [35.76736401794071, 51.44331034924974], [35.76747057669334, 51.44379587878776], [35.76744519062553, 51.444295156826115], [35.76741833458371, 51.444794435058185], [35.76739147854188, 51.445293713290255], [35.76736265676322, 51.445792865757284], [35.76729178643134, 51.44628545568982], [35.76712012300496, 51.44675506368383], [35.76693259169436, 51.44721756182766], [35.766716200348306, 51.44766576058449], [35.76671611848208, 51.44816368222002], [35.76666545227947, 51.44865253065021], [35.766494164055466, 51.44912227562816], [35.76629263979525, 51.4495797240661], [35.766077474607286, 51.45003084294824], [35.76584643948725, 51.4504742646136], [35.76561540436721, 51.450917686278956], [35.76538436924718, 51.451361107944315], [35.765486929164155, 51.45171141621658], [35.76528582959455, 51.45216918932501], [35.765085897025436, 51.45262747631785], [35.764885964456326, 51.453085763310696], [35.76451383139954, 51.45307716555203], [35.76424345574215, 51.453351664014626], [35.76417922973633, 51.453495025634766]], [[35.77021026611328, 51.45978164672852], [35.769826881775174, 51.45946075888181], [35.76944623194223, 51.45913658308231], [35.76906140293896, 51.458817355152036], [35.76867533785402, 51.45849963094972], [35.768304034577774, 51.45816492120232], [35.76793265765261, 51.4578301604679], [35.767549734064275, 51.45750864915317], [35.7676983200232, 51.45703964195523], [35.767857079795064, 51.45656561204656], [35.76799358163785, 51.45608460555293], [35.76811943524031, 51.45560184808911], [35.76826491792474, 51.455123481296226], [35.768437816579876, 51.454655554479444], [35.76858589030604, 51.45417798336263], [35.7687339640322, 51.45370041224581], [35.76888198959303, 51.453222826199784], [35.769029766069714, 51.45274516308906], [35.769177243626864, 51.452267407535196], [35.76932467019666, 51.45178963624418], [35.76947168991811, 51.45131173963697], [35.76961863258977, 51.45083381929712], [35.76976576463349, 51.450355957428414], [35.76991384231094, 51.449878387536735], [35.77006191998839, 51.449400817645056], [35.770209997665845, 51.44892324775338], [35.770358075343296, 51.4484456778617], [35.77058178598213, 51.44813685548576], [35.771036805907855, 51.44834411587077], [35.771492378291654, 51.448550156685], [35.77194825455107, 51.44875552668306], [35.772403688895665, 51.44896187469805], [35.772859300225484, 51.44916783012307], [35.7733154913872, 51.449372499671306], [35.77370178816222, 51.44930342428561], [35.77384939164147, 51.448825707619676], [35.77399699512072, 51.44834799095374], [35.77414459859997, 51.4478702742878], [35.774412931614236, 51.44765657047654], [35.774868097153735, 51.44786350076019], [35.77502262875439, 51.447412603860755], [35.775164076542346, 51.4469330285035], [35.775267623401525, 51.446454115321764], [35.77543794790263, 51.44622423668317], [35.775909183805, 51.446174891353344], [35.77631815873932, 51.44596537855938], [35.77662520329279, 51.445661773783364], [35.77701447956732, 51.445868005383886], [35.77724838256836, 51.4458122253418]], [[35.76737594604492, 51.45397567749024], [35.76735447075162, 51.454398465272206], [35.76780992946863, 51.45460475636664], [35.7682665366923, 51.454808490320275], [35.7687204144943, 51.455018200310185], [35.769173345221986, 51.45522998736341], [35.769627605141096, 51.455438899197915], [35.77008220826931, 51.45564706299609], [35.770537155608785, 51.45585448154101], [35.77099181130443, 51.45606253903213], [35.77144699375981, 51.45626942353545], [35.771901730997605, 51.45647730341559], [35.772356475031074, 51.456685168303665], [35.77281115115084, 51.45689310865592], [35.77293805797138, 51.457249290831555], [35.772884368896484, 51.45742416381836]]]\n"
     ]
    }
   ],
   "source": [
    "#TODO: create and store 20 noisy_rides as a dataset for our HMM to train on it and experiment with it\n",
    "noisy_rides = []\n",
    "original_rides = []\n",
    "for i in range(20):\n",
    "    start_node = random.choice(list(nodes))\n",
    "    end_node = random.choice(list(nodes))\n",
    "    trip_tmp = find_shortest_path(start_node, end_node, pasdaran_streets)\n",
    "    print(trip_tmp)\n",
    "    ride_tmp = visualize_a_ride(0.0005, 1, trip_tmp)\n",
    "#     print(ride_tmp)\n",
    "    print(\"++++++++++++++++++++++++++\")\n",
    "    noisy_ride_tmp = put_noise_normal(ride_tmp, 0.0002)\n",
    "    original_rides.append(ride_tmp)\n",
    "    noisy_rides.append(noisy_ride_tmp)\n",
    "print(noisy_rides)\n",
    "print(\"======================\")\n",
    "print(original_rides)"
   ]
  },
  {
   "cell_type": "markdown",
   "metadata": {
    "id": "labjTZ3hivDJ"
   },
   "source": [
    "# HMM"
   ]
  },
  {
   "cell_type": "markdown",
   "metadata": {},
   "source": [
    "In this section, we want to use the dataset that we created in the previous section to train an HMM model. We want to use HMM models to  **denoise** the gps locations of the rides. We assume that the gps locations of the rides are noisy and we want to denoise them using HMM models. The observations in each _timestamp_ are the observed noisy points in the dataset."
   ]
  },
  {
   "cell_type": "markdown",
   "metadata": {},
   "source": [
    "You should implement a class (or function) named HMM which gets the noisy observations and the `streets` of the map (of course, this is not noisy. we saw that as `pasdaran_streets` in the previous section). You should calculate the transition matrix and emission matrix of the HMM model. You should also implement the `viterbi` algorithm to find the most probable sequence of hidden states (which are the points in the streets) given the noisy observations. Finally, your implementation should be capable of returning the denoised gps locations of the rides. Note that how you define your features, and your states. Be creative!"
   ]
  },
  {
   "cell_type": "code",
   "execution_count": 331,
   "metadata": {
    "colab": {
     "base_uri": "https://localhost:8080/"
    },
    "id": "eljM3-Z6SV8k",
    "outputId": "7947e14a-11af-482c-b872-50ae5e11d988"
   },
   "outputs": [],
   "source": [
    "#TODO: Implement helper functions for your calculations\n",
    "from scipy.stats import norm\n",
    "\n",
    "def calculate_distance(lat1, lon1, lat2, lon2):\n",
    "    return ((lat1 - lat2)**2 + (lon1 - lon2)**2)**0.5\n",
    "\n",
    "def find_near_streets(loc, threshold): \n",
    "    near_streets = []\n",
    "    min_dis = float('inf')\n",
    "    nearest_street = None\n",
    "    for _, row in pasdaran_streets.iterrows():\n",
    "        dis = calculate_distance(loc[0], loc[1], (row['u_lat']+row['v_lat'])/2, (row['u_lon']+row['v_lon'])/2)\n",
    "        if dis < threshold:\n",
    "            near_streets.append(row)\n",
    "            if dis < min_dis:\n",
    "                min_dis = dis\n",
    "                nearest_street = row['street_id']\n",
    "    return near_streets, nearest_street\n",
    "    \n",
    "def create_adjacent_table():\n",
    "    adjacent_table = np.zeros((len(pasdaran_streets), len(pasdaran_streets)))\n",
    "    for i in range(len(pasdaran_streets)):\n",
    "        print(i)\n",
    "        for j in range(i+1, len(pasdaran_streets)):\n",
    "#             if pasdaran_streets.iloc[i]['u'] == pasdaran_streets.iloc[j]['u'] | pasdaran_streets.iloc[i]['u'] == pasdaran_streets.iloc[j]['v'] | pasdaran_streets.iloc[i]['v'] == pasdaran_streets.iloc[j]['u'] | pasdaran_streets.iloc[i]['v'] == pasdaran_streets.iloc[j]['v']:\n",
    "              if abs(pasdaran_streets.iloc[i]['v_lat'] + pasdaran_streets.iloc[i]['u_lat'] - pasdaran_streets.iloc[j]['v_lat'] - pasdaran_streets.iloc[j]['u_lat']) < 0.006:\n",
    "                if abs(pasdaran_streets.iloc[i]['v_lon'] + pasdaran_streets.iloc[i]['u_lon'] - pasdaran_streets.iloc[j]['v_lon'] - pasdaran_streets.iloc[j]['u_lon']) < 0.006:\n",
    "    \n",
    "                    adjacent_table[i,j] = 1\n",
    "                    adjacent_table[j,i] = 1\n",
    "                    \n",
    "    return adjacent_table\n",
    "\n",
    "def emission (noisy_point, observed_street, standard_deviation):\n",
    "    dis = calculate_distance(noisy_point[0], noisy_point[1], (observed_street['u_lat']+observed_street['v_lat'])/2, (observed_street['u_lon']+observed_street['v_lon'])/2)\n",
    "    z_score = dis / standard_deviation\n",
    "\n",
    "    prob = norm.cdf(z_score)\n",
    "    return prob\n",
    "\n",
    "\n",
    "\n",
    "def transition(next_street, observed_street, standard_deviation):\n",
    "    distance = calculate_distance((observed_street['u_lat']+observed_street['v_lat'])/2, (observed_street['u_lon']+observed_street['v_lon'])/2, (next_street['u_lat']+next_street['v_lat'])/2, (next_street['u_lon']+next_street['v_lon'])/2)\n",
    "    z_score = distance / standard_deviation\n",
    "    prob = norm.cdf(z_score)\n",
    "    return prob\n",
    "        \n",
    "        \n",
    "        "
   ]
  },
  {
   "cell_type": "code",
   "execution_count": 332,
   "metadata": {
    "colab": {
     "base_uri": "https://localhost:8080/"
    },
    "id": "2uPqUJzZZh7Q",
    "outputId": "52638369-e8d8-4501-970c-f1b427f85313"
   },
   "outputs": [],
   "source": [
    "# Define your HMM model\n",
    "# Hint: You can assume states of your HMM model to be streets of the map. You may use other designs as well (based on your creativity)!\n",
    "\n",
    "def HMM(noisy_ride):\n",
    "    transition_matrix = np.zeros((len(pasdaran_streets), len(pasdaran_streets)))\n",
    "    emission_matrix = np.zeros((len(noisy_ride), len(pasdaran_streets)))\n",
    "    for t in range(len(noisy_ride)):\n",
    "        for s in range(len(pasdaran_streets)):\n",
    "            emission_matrix[t, s] = emission(noisy_ride[t], pasdaran_streets.iloc[s], 0.002)\n",
    "        print(t)\n",
    "    print(\"emission finished\")\n",
    "    adjacent_table = create_adjacent_table()\n",
    "    for t in range(len(pasdaran_streets)):\n",
    "        for s in range(len(pasdaran_streets)):\n",
    "            if adjacent_table[s,t] == 0:\n",
    "                transition_matrix[s,t] = 0\n",
    "                continue\n",
    "            transition_matrix[s,t] = transition(pasdaran_streets.iloc[s], pasdaran_streets.iloc[t], 0.002) \n",
    "        print(t)\n",
    "        print(transition_matrix[t,:])\n",
    "    return emission_matrix, transition_matrix"
   ]
  },
  {
   "cell_type": "code",
   "execution_count": 335,
   "metadata": {},
   "outputs": [],
   "source": [
    "# Use Viterbi Algorithm to find the most probable set of points (denoised points)\n",
    "\n",
    "def viterbi(noisy_ride):\n",
    "    viterbi_matrix = np.zeros((len(noisy_ride), len(pasdaran_streets)))\n",
    "    backpointer_matrix = np.zeros((len(noisy_ride), len(pasdaran_streets)), dtype=int)\n",
    "    emission_matrix, transition_matrix = HMM(noisy_ride)\n",
    "#     print(emission_matrix)\n",
    "#     print(transition_matrix)\n",
    "    for i in range(len(pasdaran_streets)):\n",
    "#         print(i)\n",
    "#         print(pasdaran_streets.iloc[i])\n",
    "#         print(pasdaran_streets.iloc[i]['u_lat'])\n",
    "        viterbi_matrix[0, i] = emission_matrix[0, i]\n",
    "        if viterbi_matrix[0,i] != 0:\n",
    "                print(0)\n",
    "                print(i)\n",
    "                print(viterbi_matrix[t, s])\n",
    "                print(backpointer_matrix[t, s])\n",
    "                print(\"=======================\")\n",
    "    \n",
    "    for t in range(1, len(noisy_ride)):\n",
    "        for s in range(len(pasdaran_streets)):\n",
    "            max_prob = 0\n",
    "            index = -1\n",
    "            for k in range(len(pasdaran_streets)):\n",
    "                tmp = viterbi_matrix[t-1, k] * transition_matrix[s, k]\n",
    "                if tmp > max_prob:\n",
    "                    max_prob = tmp\n",
    "                    index = k\n",
    "            viterbi_matrix[t, s] = max_prob * emission_matrix[t, s]\n",
    "            backpointer_matrix[t, s] = index\n",
    "            if viterbi_matrix[t,s] != 0:\n",
    "                print(t)\n",
    "                print(s)\n",
    "                print(viterbi_matrix[t, s])\n",
    "                print(backpointer_matrix[t, s])\n",
    "                print(\"=======================\")\n",
    "            \n",
    "    best_path_prob = np.max(viterbi_matrix[-1, :])\n",
    "    best_last_state = np.argmax(viterbi_matrix[-1, :])\n",
    "    best_path = [best_last_state]\n",
    "    for t in range(len(noisy_ride) - 1, 0, -1):\n",
    "        best_last_state = backpointer_matrix[t, best_last_state]\n",
    "        best_path.insert(0, best_last_state)\n",
    "\n",
    "    return best_path"
   ]
  },
  {
   "cell_type": "markdown",
   "metadata": {},
   "source": [
    "Visualize a sample denoised _ride_ using your HMM model. Put `original_points` and `denoised_points` on the map. Use different colors for each of them to make them distinct from eachother. You should use `kepler` library for this purpose."
   ]
  },
  {
   "cell_type": "code",
   "execution_count": 336,
   "metadata": {},
   "outputs": [
    {
     "name": "stdout",
     "output_type": "stream",
     "text": [
      "0\n",
      "1\n",
      "2\n",
      "3\n",
      "4\n",
      "5\n",
      "6\n",
      "7\n",
      "8\n",
      "9\n",
      "10\n",
      "11\n",
      "12\n",
      "13\n",
      "14\n",
      "emission finished\n",
      "0\n",
      "1\n",
      "2\n",
      "3\n",
      "4\n",
      "5\n",
      "6\n",
      "7\n",
      "8\n",
      "9\n",
      "10\n",
      "11\n",
      "12\n",
      "13\n",
      "14\n",
      "15\n",
      "16\n",
      "17\n",
      "18\n",
      "19\n",
      "20\n",
      "21\n",
      "22\n",
      "23\n",
      "24\n",
      "25\n",
      "26\n",
      "27\n",
      "28\n",
      "29\n",
      "30\n",
      "31\n",
      "32\n",
      "33\n",
      "34\n",
      "35\n",
      "36\n",
      "37\n",
      "38\n",
      "39\n",
      "40\n",
      "41\n",
      "42\n",
      "43\n",
      "44\n",
      "45\n",
      "46\n",
      "47\n",
      "48\n",
      "49\n",
      "50\n",
      "51\n",
      "52\n",
      "53\n",
      "54\n",
      "55\n",
      "56\n",
      "57\n",
      "58\n",
      "59\n",
      "60\n",
      "61\n",
      "62\n",
      "63\n",
      "64\n",
      "65\n",
      "66\n",
      "67\n",
      "68\n",
      "69\n",
      "70\n",
      "71\n",
      "72\n",
      "73\n",
      "74\n",
      "75\n",
      "76\n",
      "77\n",
      "78\n",
      "79\n",
      "80\n",
      "81\n",
      "82\n",
      "83\n",
      "84\n",
      "85\n",
      "86\n",
      "87\n",
      "88\n",
      "89\n",
      "90\n",
      "91\n",
      "92\n",
      "93\n",
      "94\n",
      "95\n",
      "96\n",
      "97\n",
      "98\n",
      "99\n",
      "100\n",
      "101\n",
      "102\n",
      "103\n",
      "104\n",
      "105\n",
      "106\n",
      "107\n",
      "108\n",
      "109\n",
      "110\n",
      "111\n",
      "112\n",
      "113\n",
      "114\n",
      "115\n",
      "116\n",
      "117\n",
      "118\n",
      "119\n",
      "120\n",
      "121\n",
      "122\n",
      "123\n",
      "124\n",
      "125\n",
      "126\n",
      "127\n",
      "128\n",
      "129\n",
      "130\n",
      "131\n",
      "132\n",
      "133\n",
      "134\n",
      "135\n",
      "136\n",
      "137\n",
      "138\n",
      "139\n",
      "140\n",
      "141\n",
      "142\n",
      "143\n",
      "144\n",
      "145\n",
      "146\n",
      "147\n",
      "148\n",
      "149\n",
      "150\n",
      "151\n",
      "152\n",
      "153\n",
      "154\n",
      "155\n",
      "156\n",
      "157\n",
      "158\n",
      "159\n",
      "160\n",
      "161\n",
      "162\n",
      "163\n",
      "164\n",
      "165\n",
      "166\n",
      "167\n",
      "168\n",
      "169\n",
      "170\n",
      "171\n",
      "172\n",
      "173\n",
      "174\n",
      "175\n",
      "176\n",
      "177\n",
      "178\n",
      "179\n",
      "180\n",
      "181\n",
      "182\n",
      "183\n",
      "184\n",
      "185\n",
      "186\n",
      "187\n",
      "188\n",
      "189\n",
      "190\n",
      "191\n",
      "192\n",
      "193\n",
      "194\n",
      "195\n",
      "196\n",
      "197\n",
      "198\n",
      "199\n",
      "200\n",
      "201\n",
      "202\n",
      "203\n",
      "204\n",
      "205\n",
      "206\n",
      "207\n",
      "208\n",
      "209\n",
      "210\n",
      "211\n",
      "212\n",
      "213\n",
      "214\n",
      "215\n",
      "216\n",
      "217\n",
      "218\n",
      "219\n",
      "220\n",
      "221\n",
      "222\n",
      "223\n",
      "224\n",
      "225\n",
      "226\n",
      "227\n",
      "228\n",
      "229\n",
      "230\n",
      "231\n",
      "232\n",
      "233\n",
      "234\n",
      "235\n",
      "236\n",
      "237\n",
      "238\n",
      "239\n",
      "240\n",
      "241\n",
      "242\n",
      "243\n",
      "244\n",
      "245\n",
      "246\n",
      "247\n",
      "248\n",
      "249\n",
      "250\n",
      "251\n",
      "252\n",
      "253\n",
      "254\n",
      "255\n",
      "256\n",
      "257\n",
      "258\n",
      "259\n",
      "260\n",
      "261\n",
      "262\n",
      "263\n",
      "264\n",
      "265\n",
      "266\n",
      "267\n",
      "268\n",
      "269\n",
      "270\n",
      "271\n",
      "272\n",
      "273\n",
      "274\n",
      "275\n",
      "276\n",
      "277\n",
      "278\n",
      "279\n",
      "280\n",
      "281\n",
      "282\n",
      "283\n",
      "284\n",
      "285\n",
      "286\n",
      "287\n",
      "288\n",
      "289\n",
      "290\n",
      "291\n",
      "292\n",
      "293\n",
      "294\n",
      "295\n",
      "296\n",
      "297\n",
      "298\n",
      "299\n",
      "300\n",
      "301\n",
      "302\n",
      "303\n",
      "304\n",
      "305\n",
      "306\n",
      "307\n",
      "308\n",
      "309\n",
      "310\n",
      "311\n",
      "312\n",
      "313\n",
      "314\n",
      "315\n",
      "316\n",
      "317\n",
      "318\n",
      "319\n",
      "320\n",
      "321\n",
      "322\n",
      "323\n",
      "324\n",
      "325\n",
      "326\n",
      "327\n",
      "328\n",
      "329\n",
      "330\n",
      "331\n",
      "332\n",
      "333\n",
      "334\n",
      "335\n",
      "336\n",
      "337\n",
      "338\n",
      "339\n",
      "340\n",
      "341\n",
      "342\n",
      "343\n",
      "344\n",
      "345\n",
      "346\n",
      "347\n",
      "348\n",
      "349\n",
      "350\n",
      "351\n",
      "352\n",
      "353\n",
      "354\n",
      "355\n",
      "356\n",
      "357\n",
      "358\n",
      "359\n",
      "360\n",
      "361\n",
      "362\n",
      "363\n",
      "364\n",
      "365\n",
      "366\n",
      "367\n",
      "368\n",
      "369\n",
      "370\n",
      "371\n",
      "372\n",
      "373\n",
      "374\n",
      "375\n",
      "376\n",
      "377\n",
      "378\n",
      "379\n",
      "380\n",
      "381\n",
      "382\n",
      "383\n",
      "384\n",
      "385\n",
      "386\n",
      "387\n",
      "388\n",
      "389\n",
      "390\n",
      "391\n",
      "392\n",
      "393\n",
      "394\n",
      "395\n",
      "396\n",
      "397\n",
      "398\n",
      "399\n",
      "400\n",
      "401\n",
      "402\n",
      "403\n",
      "404\n",
      "405\n",
      "406\n",
      "407\n",
      "408\n",
      "409\n",
      "410\n",
      "411\n",
      "412\n",
      "413\n",
      "414\n",
      "415\n",
      "416\n",
      "417\n",
      "418\n",
      "419\n",
      "420\n",
      "421\n",
      "422\n",
      "423\n",
      "424\n",
      "425\n",
      "426\n",
      "427\n",
      "428\n",
      "429\n",
      "430\n",
      "431\n",
      "432\n",
      "433\n",
      "434\n",
      "435\n",
      "436\n",
      "437\n",
      "438\n",
      "439\n",
      "440\n",
      "441\n",
      "442\n",
      "443\n",
      "444\n",
      "445\n",
      "446\n",
      "447\n",
      "448\n",
      "449\n",
      "450\n",
      "451\n",
      "452\n",
      "453\n",
      "454\n",
      "455\n",
      "456\n",
      "457\n",
      "458\n",
      "459\n",
      "460\n",
      "461\n",
      "462\n",
      "463\n",
      "464\n",
      "465\n",
      "466\n",
      "467\n",
      "468\n",
      "469\n",
      "470\n",
      "471\n",
      "472\n",
      "473\n",
      "474\n",
      "475\n",
      "476\n",
      "477\n",
      "478\n",
      "479\n",
      "480\n",
      "481\n",
      "482\n",
      "483\n",
      "484\n",
      "485\n",
      "486\n",
      "487\n",
      "488\n",
      "489\n",
      "490\n",
      "491\n",
      "492\n",
      "493\n",
      "494\n",
      "495\n",
      "496\n",
      "497\n",
      "498\n",
      "499\n",
      "500\n",
      "501\n",
      "502\n",
      "503\n",
      "504\n",
      "505\n",
      "506\n",
      "507\n",
      "508\n",
      "509\n",
      "510\n",
      "511\n",
      "512\n",
      "513\n",
      "514\n",
      "515\n",
      "516\n",
      "517\n",
      "518\n",
      "519\n",
      "520\n",
      "521\n",
      "522\n",
      "523\n",
      "524\n",
      "525\n",
      "526\n",
      "527\n",
      "528\n",
      "529\n",
      "530\n",
      "531\n",
      "532\n",
      "533\n",
      "534\n",
      "535\n",
      "536\n",
      "537\n",
      "538\n",
      "539\n",
      "540\n",
      "541\n",
      "542\n",
      "543\n",
      "544\n",
      "545\n",
      "546\n",
      "547\n",
      "548\n",
      "549\n",
      "550\n",
      "551\n",
      "552\n",
      "553\n",
      "554\n",
      "555\n",
      "556\n",
      "557\n",
      "558\n",
      "559\n",
      "560\n",
      "561\n",
      "562\n",
      "563\n",
      "564\n",
      "565\n",
      "566\n",
      "567\n",
      "568\n",
      "569\n",
      "570\n",
      "571\n",
      "572\n",
      "573\n",
      "574\n",
      "575\n",
      "576\n",
      "577\n",
      "578\n",
      "579\n",
      "580\n",
      "581\n",
      "582\n",
      "583\n",
      "584\n",
      "585\n",
      "586\n",
      "587\n",
      "588\n",
      "589\n",
      "590\n",
      "591\n",
      "592\n",
      "593\n",
      "594\n",
      "595\n",
      "596\n",
      "597\n",
      "598\n",
      "599\n",
      "600\n",
      "601\n",
      "602\n",
      "603\n",
      "604\n",
      "605\n",
      "606\n",
      "607\n",
      "608\n",
      "609\n",
      "610\n",
      "611\n",
      "612\n",
      "613\n",
      "614\n",
      "615\n",
      "616\n",
      "617\n",
      "618\n",
      "619\n",
      "620\n",
      "621\n",
      "622\n",
      "623\n",
      "624\n",
      "625\n",
      "626\n",
      "627\n",
      "628\n",
      "629\n",
      "630\n",
      "631\n",
      "632\n",
      "633\n",
      "634\n",
      "635\n",
      "636\n",
      "637\n",
      "638\n",
      "639\n",
      "640\n",
      "641\n",
      "642\n",
      "643\n",
      "644\n",
      "645\n",
      "646\n",
      "647\n",
      "648\n",
      "649\n",
      "650\n",
      "651\n",
      "652\n",
      "653\n",
      "654\n",
      "655\n",
      "656\n",
      "657\n",
      "658\n",
      "659\n",
      "660\n",
      "661\n",
      "662\n",
      "663\n",
      "664\n",
      "665\n",
      "666\n",
      "667\n",
      "668\n",
      "669\n",
      "670\n",
      "671\n",
      "672\n",
      "673\n",
      "674\n",
      "675\n",
      "676\n",
      "677\n",
      "678\n",
      "679\n",
      "680\n",
      "681\n",
      "682\n",
      "683\n",
      "684\n",
      "685\n",
      "686\n",
      "687\n",
      "688\n",
      "689\n",
      "690\n",
      "691\n",
      "692\n",
      "693\n",
      "694\n",
      "695\n",
      "696\n",
      "697\n",
      "698\n",
      "699\n",
      "700\n",
      "701\n",
      "702\n",
      "703\n",
      "704\n",
      "705\n",
      "706\n",
      "707\n",
      "708\n",
      "709\n",
      "710\n",
      "711\n",
      "712\n",
      "713\n",
      "714\n",
      "715\n",
      "716\n",
      "717\n",
      "718\n",
      "719\n",
      "720\n",
      "721\n",
      "722\n",
      "723\n",
      "724\n",
      "725\n",
      "726\n",
      "727\n",
      "728\n",
      "729\n",
      "730\n",
      "731\n",
      "732\n",
      "733\n",
      "734\n",
      "735\n",
      "736\n",
      "737\n",
      "738\n",
      "739\n",
      "740\n",
      "741\n",
      "742\n",
      "743\n",
      "744\n",
      "745\n",
      "746\n",
      "747\n",
      "748\n",
      "749\n",
      "750\n",
      "751\n",
      "752\n",
      "753\n",
      "754\n",
      "755\n",
      "756\n",
      "757\n",
      "758\n",
      "759\n",
      "760\n",
      "761\n",
      "762\n",
      "763\n",
      "764\n",
      "765\n",
      "766\n",
      "767\n",
      "768\n",
      "769\n",
      "770\n",
      "771\n",
      "772\n",
      "773\n",
      "774\n",
      "775\n",
      "776\n",
      "777\n",
      "778\n",
      "779\n",
      "780\n",
      "781\n",
      "782\n",
      "783\n",
      "784\n",
      "785\n",
      "786\n",
      "787\n",
      "788\n",
      "789\n",
      "790\n",
      "791\n",
      "792\n",
      "793\n",
      "794\n",
      "795\n",
      "796\n",
      "797\n",
      "798\n",
      "799\n",
      "800\n",
      "801\n"
     ]
    },
    {
     "ename": "KeyboardInterrupt",
     "evalue": "",
     "output_type": "error",
     "traceback": [
      "\u001b[0;31m---------------------------------------------------------------------------\u001b[0m",
      "\u001b[0;31mKeyboardInterrupt\u001b[0m                         Traceback (most recent call last)",
      "\u001b[0;32m/var/folders/w_/ktm169bx72l270xpfjd5sljh0000gn/T/ipykernel_27174/1287366277.py\u001b[0m in \u001b[0;36m<module>\u001b[0;34m\u001b[0m\n\u001b[1;32m      2\u001b[0m \u001b[0mnoisy_ride\u001b[0m \u001b[0;34m=\u001b[0m \u001b[0mnoisy_rides\u001b[0m\u001b[0;34m[\u001b[0m\u001b[0;36m0\u001b[0m\u001b[0;34m]\u001b[0m\u001b[0;34m\u001b[0m\u001b[0;34m\u001b[0m\u001b[0m\n\u001b[1;32m      3\u001b[0m \u001b[0moriginal_ride\u001b[0m \u001b[0;34m=\u001b[0m \u001b[0moriginal_rides\u001b[0m\u001b[0;34m[\u001b[0m\u001b[0;36m0\u001b[0m\u001b[0;34m]\u001b[0m\u001b[0;34m\u001b[0m\u001b[0;34m\u001b[0m\u001b[0m\n\u001b[0;32m----> 4\u001b[0;31m \u001b[0mdenoised_trip\u001b[0m \u001b[0;34m=\u001b[0m \u001b[0mviterbi\u001b[0m\u001b[0;34m(\u001b[0m\u001b[0mnoisy_ride\u001b[0m\u001b[0;34m)\u001b[0m\u001b[0;34m\u001b[0m\u001b[0;34m\u001b[0m\u001b[0m\n\u001b[0m",
      "\u001b[0;32m/var/folders/w_/ktm169bx72l270xpfjd5sljh0000gn/T/ipykernel_27174/431236200.py\u001b[0m in \u001b[0;36mviterbi\u001b[0;34m(noisy_ride)\u001b[0m\n\u001b[1;32m      4\u001b[0m     \u001b[0mviterbi_matrix\u001b[0m \u001b[0;34m=\u001b[0m \u001b[0mnp\u001b[0m\u001b[0;34m.\u001b[0m\u001b[0mzeros\u001b[0m\u001b[0;34m(\u001b[0m\u001b[0;34m(\u001b[0m\u001b[0mlen\u001b[0m\u001b[0;34m(\u001b[0m\u001b[0mnoisy_ride\u001b[0m\u001b[0;34m)\u001b[0m\u001b[0;34m,\u001b[0m \u001b[0mlen\u001b[0m\u001b[0;34m(\u001b[0m\u001b[0mpasdaran_streets\u001b[0m\u001b[0;34m)\u001b[0m\u001b[0;34m)\u001b[0m\u001b[0;34m)\u001b[0m\u001b[0;34m\u001b[0m\u001b[0;34m\u001b[0m\u001b[0m\n\u001b[1;32m      5\u001b[0m     \u001b[0mbackpointer_matrix\u001b[0m \u001b[0;34m=\u001b[0m \u001b[0mnp\u001b[0m\u001b[0;34m.\u001b[0m\u001b[0mzeros\u001b[0m\u001b[0;34m(\u001b[0m\u001b[0;34m(\u001b[0m\u001b[0mlen\u001b[0m\u001b[0;34m(\u001b[0m\u001b[0mnoisy_ride\u001b[0m\u001b[0;34m)\u001b[0m\u001b[0;34m,\u001b[0m \u001b[0mlen\u001b[0m\u001b[0;34m(\u001b[0m\u001b[0mpasdaran_streets\u001b[0m\u001b[0;34m)\u001b[0m\u001b[0;34m)\u001b[0m\u001b[0;34m,\u001b[0m \u001b[0mdtype\u001b[0m\u001b[0;34m=\u001b[0m\u001b[0mint\u001b[0m\u001b[0;34m)\u001b[0m\u001b[0;34m\u001b[0m\u001b[0;34m\u001b[0m\u001b[0m\n\u001b[0;32m----> 6\u001b[0;31m     \u001b[0memission_matrix\u001b[0m\u001b[0;34m,\u001b[0m \u001b[0mtransition_matrix\u001b[0m \u001b[0;34m=\u001b[0m \u001b[0mHMM\u001b[0m\u001b[0;34m(\u001b[0m\u001b[0mnoisy_ride\u001b[0m\u001b[0;34m)\u001b[0m\u001b[0;34m\u001b[0m\u001b[0;34m\u001b[0m\u001b[0m\n\u001b[0m\u001b[1;32m      7\u001b[0m \u001b[0;31m#     print(emission_matrix)\u001b[0m\u001b[0;34m\u001b[0m\u001b[0;34m\u001b[0m\u001b[0m\n\u001b[1;32m      8\u001b[0m \u001b[0;31m#     print(transition_matrix)\u001b[0m\u001b[0;34m\u001b[0m\u001b[0;34m\u001b[0m\u001b[0m\n",
      "\u001b[0;32m/var/folders/w_/ktm169bx72l270xpfjd5sljh0000gn/T/ipykernel_27174/3526095226.py\u001b[0m in \u001b[0;36mHMM\u001b[0;34m(noisy_ride)\u001b[0m\n\u001b[1;32m     10\u001b[0m         \u001b[0mprint\u001b[0m\u001b[0;34m(\u001b[0m\u001b[0mt\u001b[0m\u001b[0;34m)\u001b[0m\u001b[0;34m\u001b[0m\u001b[0;34m\u001b[0m\u001b[0m\n\u001b[1;32m     11\u001b[0m     \u001b[0mprint\u001b[0m\u001b[0;34m(\u001b[0m\u001b[0;34m\"emission finished\"\u001b[0m\u001b[0;34m)\u001b[0m\u001b[0;34m\u001b[0m\u001b[0;34m\u001b[0m\u001b[0m\n\u001b[0;32m---> 12\u001b[0;31m     \u001b[0madjacent_table\u001b[0m \u001b[0;34m=\u001b[0m \u001b[0mcreate_adjacent_table\u001b[0m\u001b[0;34m(\u001b[0m\u001b[0;34m)\u001b[0m\u001b[0;34m\u001b[0m\u001b[0;34m\u001b[0m\u001b[0m\n\u001b[0m\u001b[1;32m     13\u001b[0m     \u001b[0;32mfor\u001b[0m \u001b[0mt\u001b[0m \u001b[0;32min\u001b[0m \u001b[0mrange\u001b[0m\u001b[0;34m(\u001b[0m\u001b[0mlen\u001b[0m\u001b[0;34m(\u001b[0m\u001b[0mpasdaran_streets\u001b[0m\u001b[0;34m)\u001b[0m\u001b[0;34m)\u001b[0m\u001b[0;34m:\u001b[0m\u001b[0;34m\u001b[0m\u001b[0;34m\u001b[0m\u001b[0m\n\u001b[1;32m     14\u001b[0m         \u001b[0;32mfor\u001b[0m \u001b[0ms\u001b[0m \u001b[0;32min\u001b[0m \u001b[0mrange\u001b[0m\u001b[0;34m(\u001b[0m\u001b[0mlen\u001b[0m\u001b[0;34m(\u001b[0m\u001b[0mpasdaran_streets\u001b[0m\u001b[0;34m)\u001b[0m\u001b[0;34m)\u001b[0m\u001b[0;34m:\u001b[0m\u001b[0;34m\u001b[0m\u001b[0;34m\u001b[0m\u001b[0m\n",
      "\u001b[0;32m/var/folders/w_/ktm169bx72l270xpfjd5sljh0000gn/T/ipykernel_27174/2896770194.py\u001b[0m in \u001b[0;36mcreate_adjacent_table\u001b[0;34m()\u001b[0m\n\u001b[1;32m     25\u001b[0m \u001b[0;31m#             if pasdaran_streets.iloc[i]['u'] == pasdaran_streets.iloc[j]['u'] | pasdaran_streets.iloc[i]['u'] == pasdaran_streets.iloc[j]['v'] | pasdaran_streets.iloc[i]['v'] == pasdaran_streets.iloc[j]['u'] | pasdaran_streets.iloc[i]['v'] == pasdaran_streets.iloc[j]['v']:\u001b[0m\u001b[0;34m\u001b[0m\u001b[0;34m\u001b[0m\u001b[0m\n\u001b[1;32m     26\u001b[0m               \u001b[0;32mif\u001b[0m \u001b[0mabs\u001b[0m\u001b[0;34m(\u001b[0m\u001b[0mpasdaran_streets\u001b[0m\u001b[0;34m.\u001b[0m\u001b[0miloc\u001b[0m\u001b[0;34m[\u001b[0m\u001b[0mi\u001b[0m\u001b[0;34m]\u001b[0m\u001b[0;34m[\u001b[0m\u001b[0;34m'v_lat'\u001b[0m\u001b[0;34m]\u001b[0m \u001b[0;34m+\u001b[0m \u001b[0mpasdaran_streets\u001b[0m\u001b[0;34m.\u001b[0m\u001b[0miloc\u001b[0m\u001b[0;34m[\u001b[0m\u001b[0mi\u001b[0m\u001b[0;34m]\u001b[0m\u001b[0;34m[\u001b[0m\u001b[0;34m'u_lat'\u001b[0m\u001b[0;34m]\u001b[0m \u001b[0;34m-\u001b[0m \u001b[0mpasdaran_streets\u001b[0m\u001b[0;34m.\u001b[0m\u001b[0miloc\u001b[0m\u001b[0;34m[\u001b[0m\u001b[0mj\u001b[0m\u001b[0;34m]\u001b[0m\u001b[0;34m[\u001b[0m\u001b[0;34m'v_lat'\u001b[0m\u001b[0;34m]\u001b[0m \u001b[0;34m-\u001b[0m \u001b[0mpasdaran_streets\u001b[0m\u001b[0;34m.\u001b[0m\u001b[0miloc\u001b[0m\u001b[0;34m[\u001b[0m\u001b[0mj\u001b[0m\u001b[0;34m]\u001b[0m\u001b[0;34m[\u001b[0m\u001b[0;34m'u_lat'\u001b[0m\u001b[0;34m]\u001b[0m\u001b[0;34m)\u001b[0m \u001b[0;34m<\u001b[0m \u001b[0;36m0.006\u001b[0m\u001b[0;34m:\u001b[0m\u001b[0;34m\u001b[0m\u001b[0;34m\u001b[0m\u001b[0m\n\u001b[0;32m---> 27\u001b[0;31m                 \u001b[0;32mif\u001b[0m \u001b[0mabs\u001b[0m\u001b[0;34m(\u001b[0m\u001b[0mpasdaran_streets\u001b[0m\u001b[0;34m.\u001b[0m\u001b[0miloc\u001b[0m\u001b[0;34m[\u001b[0m\u001b[0mi\u001b[0m\u001b[0;34m]\u001b[0m\u001b[0;34m[\u001b[0m\u001b[0;34m'v_lon'\u001b[0m\u001b[0;34m]\u001b[0m \u001b[0;34m+\u001b[0m \u001b[0mpasdaran_streets\u001b[0m\u001b[0;34m.\u001b[0m\u001b[0miloc\u001b[0m\u001b[0;34m[\u001b[0m\u001b[0mi\u001b[0m\u001b[0;34m]\u001b[0m\u001b[0;34m[\u001b[0m\u001b[0;34m'u_lon'\u001b[0m\u001b[0;34m]\u001b[0m \u001b[0;34m-\u001b[0m \u001b[0mpasdaran_streets\u001b[0m\u001b[0;34m.\u001b[0m\u001b[0miloc\u001b[0m\u001b[0;34m[\u001b[0m\u001b[0mj\u001b[0m\u001b[0;34m]\u001b[0m\u001b[0;34m[\u001b[0m\u001b[0;34m'v_lon'\u001b[0m\u001b[0;34m]\u001b[0m \u001b[0;34m-\u001b[0m \u001b[0mpasdaran_streets\u001b[0m\u001b[0;34m.\u001b[0m\u001b[0miloc\u001b[0m\u001b[0;34m[\u001b[0m\u001b[0mj\u001b[0m\u001b[0;34m]\u001b[0m\u001b[0;34m[\u001b[0m\u001b[0;34m'u_lon'\u001b[0m\u001b[0;34m]\u001b[0m\u001b[0;34m)\u001b[0m \u001b[0;34m<\u001b[0m \u001b[0;36m0.006\u001b[0m\u001b[0;34m:\u001b[0m\u001b[0;34m\u001b[0m\u001b[0;34m\u001b[0m\u001b[0m\n\u001b[0m\u001b[1;32m     28\u001b[0m \u001b[0;34m\u001b[0m\u001b[0m\n\u001b[1;32m     29\u001b[0m                     \u001b[0madjacent_table\u001b[0m\u001b[0;34m[\u001b[0m\u001b[0mi\u001b[0m\u001b[0;34m,\u001b[0m\u001b[0mj\u001b[0m\u001b[0;34m]\u001b[0m \u001b[0;34m=\u001b[0m \u001b[0;36m1\u001b[0m\u001b[0;34m\u001b[0m\u001b[0;34m\u001b[0m\u001b[0m\n",
      "\u001b[0;32m~/opt/anaconda3/lib/python3.9/site-packages/pandas/core/indexing.py\u001b[0m in \u001b[0;36m__getitem__\u001b[0;34m(self, key)\u001b[0m\n\u001b[1;32m    965\u001b[0m \u001b[0;34m\u001b[0m\u001b[0m\n\u001b[1;32m    966\u001b[0m             \u001b[0mmaybe_callable\u001b[0m \u001b[0;34m=\u001b[0m \u001b[0mcom\u001b[0m\u001b[0;34m.\u001b[0m\u001b[0mapply_if_callable\u001b[0m\u001b[0;34m(\u001b[0m\u001b[0mkey\u001b[0m\u001b[0;34m,\u001b[0m \u001b[0mself\u001b[0m\u001b[0;34m.\u001b[0m\u001b[0mobj\u001b[0m\u001b[0;34m)\u001b[0m\u001b[0;34m\u001b[0m\u001b[0;34m\u001b[0m\u001b[0m\n\u001b[0;32m--> 967\u001b[0;31m             \u001b[0;32mreturn\u001b[0m \u001b[0mself\u001b[0m\u001b[0;34m.\u001b[0m\u001b[0m_getitem_axis\u001b[0m\u001b[0;34m(\u001b[0m\u001b[0mmaybe_callable\u001b[0m\u001b[0;34m,\u001b[0m \u001b[0maxis\u001b[0m\u001b[0;34m=\u001b[0m\u001b[0maxis\u001b[0m\u001b[0;34m)\u001b[0m\u001b[0;34m\u001b[0m\u001b[0;34m\u001b[0m\u001b[0m\n\u001b[0m\u001b[1;32m    968\u001b[0m \u001b[0;34m\u001b[0m\u001b[0m\n\u001b[1;32m    969\u001b[0m     \u001b[0;32mdef\u001b[0m \u001b[0m_is_scalar_access\u001b[0m\u001b[0;34m(\u001b[0m\u001b[0mself\u001b[0m\u001b[0;34m,\u001b[0m \u001b[0mkey\u001b[0m\u001b[0;34m:\u001b[0m \u001b[0mtuple\u001b[0m\u001b[0;34m)\u001b[0m\u001b[0;34m:\u001b[0m\u001b[0;34m\u001b[0m\u001b[0;34m\u001b[0m\u001b[0m\n",
      "\u001b[0;32m~/opt/anaconda3/lib/python3.9/site-packages/pandas/core/indexing.py\u001b[0m in \u001b[0;36m_getitem_axis\u001b[0;34m(self, key, axis)\u001b[0m\n\u001b[1;32m   1523\u001b[0m             \u001b[0mself\u001b[0m\u001b[0;34m.\u001b[0m\u001b[0m_validate_integer\u001b[0m\u001b[0;34m(\u001b[0m\u001b[0mkey\u001b[0m\u001b[0;34m,\u001b[0m \u001b[0maxis\u001b[0m\u001b[0;34m)\u001b[0m\u001b[0;34m\u001b[0m\u001b[0;34m\u001b[0m\u001b[0m\n\u001b[1;32m   1524\u001b[0m \u001b[0;34m\u001b[0m\u001b[0m\n\u001b[0;32m-> 1525\u001b[0;31m             \u001b[0;32mreturn\u001b[0m \u001b[0mself\u001b[0m\u001b[0;34m.\u001b[0m\u001b[0mobj\u001b[0m\u001b[0;34m.\u001b[0m\u001b[0m_ixs\u001b[0m\u001b[0;34m(\u001b[0m\u001b[0mkey\u001b[0m\u001b[0;34m,\u001b[0m \u001b[0maxis\u001b[0m\u001b[0;34m=\u001b[0m\u001b[0maxis\u001b[0m\u001b[0;34m)\u001b[0m\u001b[0;34m\u001b[0m\u001b[0;34m\u001b[0m\u001b[0m\n\u001b[0m\u001b[1;32m   1526\u001b[0m \u001b[0;34m\u001b[0m\u001b[0m\n\u001b[1;32m   1527\u001b[0m     \u001b[0;32mdef\u001b[0m \u001b[0m_get_slice_axis\u001b[0m\u001b[0;34m(\u001b[0m\u001b[0mself\u001b[0m\u001b[0;34m,\u001b[0m \u001b[0mslice_obj\u001b[0m\u001b[0;34m:\u001b[0m \u001b[0mslice\u001b[0m\u001b[0;34m,\u001b[0m \u001b[0maxis\u001b[0m\u001b[0;34m:\u001b[0m \u001b[0mint\u001b[0m\u001b[0;34m)\u001b[0m\u001b[0;34m:\u001b[0m\u001b[0;34m\u001b[0m\u001b[0;34m\u001b[0m\u001b[0m\n",
      "\u001b[0;32m~/opt/anaconda3/lib/python3.9/site-packages/pandas/core/frame.py\u001b[0m in \u001b[0;36m_ixs\u001b[0;34m(self, i, axis)\u001b[0m\n\u001b[1;32m   3422\u001b[0m         \u001b[0;31m# irow\u001b[0m\u001b[0;34m\u001b[0m\u001b[0;34m\u001b[0m\u001b[0m\n\u001b[1;32m   3423\u001b[0m         \u001b[0;32mif\u001b[0m \u001b[0maxis\u001b[0m \u001b[0;34m==\u001b[0m \u001b[0;36m0\u001b[0m\u001b[0;34m:\u001b[0m\u001b[0;34m\u001b[0m\u001b[0;34m\u001b[0m\u001b[0m\n\u001b[0;32m-> 3424\u001b[0;31m             \u001b[0mnew_values\u001b[0m \u001b[0;34m=\u001b[0m \u001b[0mself\u001b[0m\u001b[0;34m.\u001b[0m\u001b[0m_mgr\u001b[0m\u001b[0;34m.\u001b[0m\u001b[0mfast_xs\u001b[0m\u001b[0;34m(\u001b[0m\u001b[0mi\u001b[0m\u001b[0;34m)\u001b[0m\u001b[0;34m\u001b[0m\u001b[0;34m\u001b[0m\u001b[0m\n\u001b[0m\u001b[1;32m   3425\u001b[0m \u001b[0;34m\u001b[0m\u001b[0m\n\u001b[1;32m   3426\u001b[0m             \u001b[0;31m# if we are a copy, mark as such\u001b[0m\u001b[0;34m\u001b[0m\u001b[0;34m\u001b[0m\u001b[0m\n",
      "\u001b[0;32m~/opt/anaconda3/lib/python3.9/site-packages/pandas/core/internals/managers.py\u001b[0m in \u001b[0;36mfast_xs\u001b[0;34m(self, loc)\u001b[0m\n\u001b[1;32m   1016\u001b[0m             \u001b[0;31m# result[blk.mgr_locs] = blk._slice((slice(None), loc))\u001b[0m\u001b[0;34m\u001b[0m\u001b[0;34m\u001b[0m\u001b[0m\n\u001b[1;32m   1017\u001b[0m             \u001b[0;32mfor\u001b[0m \u001b[0mi\u001b[0m\u001b[0;34m,\u001b[0m \u001b[0mrl\u001b[0m \u001b[0;32min\u001b[0m \u001b[0menumerate\u001b[0m\u001b[0;34m(\u001b[0m\u001b[0mblk\u001b[0m\u001b[0;34m.\u001b[0m\u001b[0mmgr_locs\u001b[0m\u001b[0;34m)\u001b[0m\u001b[0;34m:\u001b[0m\u001b[0;34m\u001b[0m\u001b[0;34m\u001b[0m\u001b[0m\n\u001b[0;32m-> 1018\u001b[0;31m                 \u001b[0mresult\u001b[0m\u001b[0;34m[\u001b[0m\u001b[0mrl\u001b[0m\u001b[0;34m]\u001b[0m \u001b[0;34m=\u001b[0m \u001b[0mblk\u001b[0m\u001b[0;34m.\u001b[0m\u001b[0miget\u001b[0m\u001b[0;34m(\u001b[0m\u001b[0;34m(\u001b[0m\u001b[0mi\u001b[0m\u001b[0;34m,\u001b[0m \u001b[0mloc\u001b[0m\u001b[0;34m)\u001b[0m\u001b[0;34m)\u001b[0m\u001b[0;34m\u001b[0m\u001b[0;34m\u001b[0m\u001b[0m\n\u001b[0m\u001b[1;32m   1019\u001b[0m \u001b[0;34m\u001b[0m\u001b[0m\n\u001b[1;32m   1020\u001b[0m         \u001b[0;32mif\u001b[0m \u001b[0mimmutable_ea\u001b[0m\u001b[0;34m:\u001b[0m\u001b[0;34m\u001b[0m\u001b[0;34m\u001b[0m\u001b[0m\n",
      "\u001b[0;32m~/opt/anaconda3/lib/python3.9/site-packages/pandas/core/internals/blocks.py\u001b[0m in \u001b[0;36miget\u001b[0;34m(self, i)\u001b[0m\n\u001b[1;32m    356\u001b[0m         \u001b[0;32mreturn\u001b[0m \u001b[0mself\u001b[0m\u001b[0;34m.\u001b[0m\u001b[0mvalues\u001b[0m\u001b[0;34m.\u001b[0m\u001b[0mdtype\u001b[0m\u001b[0;34m\u001b[0m\u001b[0;34m\u001b[0m\u001b[0m\n\u001b[1;32m    357\u001b[0m \u001b[0;34m\u001b[0m\u001b[0m\n\u001b[0;32m--> 358\u001b[0;31m     \u001b[0;32mdef\u001b[0m \u001b[0miget\u001b[0m\u001b[0;34m(\u001b[0m\u001b[0mself\u001b[0m\u001b[0;34m,\u001b[0m \u001b[0mi\u001b[0m\u001b[0;34m:\u001b[0m \u001b[0mint\u001b[0m \u001b[0;34m|\u001b[0m \u001b[0mtuple\u001b[0m\u001b[0;34m[\u001b[0m\u001b[0mint\u001b[0m\u001b[0;34m,\u001b[0m \u001b[0mint\u001b[0m\u001b[0;34m]\u001b[0m \u001b[0;34m|\u001b[0m \u001b[0mtuple\u001b[0m\u001b[0;34m[\u001b[0m\u001b[0mslice\u001b[0m\u001b[0;34m,\u001b[0m \u001b[0mint\u001b[0m\u001b[0;34m]\u001b[0m\u001b[0;34m)\u001b[0m\u001b[0;34m:\u001b[0m\u001b[0;34m\u001b[0m\u001b[0;34m\u001b[0m\u001b[0m\n\u001b[0m\u001b[1;32m    359\u001b[0m         \u001b[0;31m# In the case where we have a tuple[slice, int], the slice will always\u001b[0m\u001b[0;34m\u001b[0m\u001b[0;34m\u001b[0m\u001b[0m\n\u001b[1;32m    360\u001b[0m         \u001b[0;31m#  be slice(None)\u001b[0m\u001b[0;34m\u001b[0m\u001b[0;34m\u001b[0m\u001b[0m\n",
      "\u001b[0;31mKeyboardInterrupt\u001b[0m: "
     ]
    }
   ],
   "source": [
    "#TODO: Visualize a sample noisy_ride alongside its denoised version\n",
    "noisy_ride = noisy_rides[0]\n",
    "original_ride = original_rides[0]\n",
    "denoised_trip = viterbi(noisy_ride)"
   ]
  },
  {
   "cell_type": "code",
   "execution_count": null,
   "metadata": {},
   "outputs": [],
   "source": [
    "#convert trip to df\n",
    "trip_df = []\n",
    "for i in range(len(denoised_trip)):\n",
    "    street = pasdaran_streets.iloc[denoised_trip[i]]\n",
    "    trip_df.append([(street['u_lat']+street['v_lat'])/2, (street['u_lon']+street['v_lon'])/2])\n",
    "\n",
    "print(trip_df)\n",
    "print(noisy_ride)\n",
    "denoised_trip_df = pd.DataFrame(trip_df, columns=['lat', 'lon'])\n",
    "original_ride_df = pd.DataFrame(original_ride, columns=['lat', 'lon'])\n",
    "noisy_ride_df = pd.DataFrame(noisy_ride, columns=['lat', 'lon'])\n",
    "\n",
    "map_denoised_ride = KeplerGl()\n",
    "map_denoised_ride.add_data(data=denoised_trip_df , name='denoised')\n",
    "map_denoised_ride.add_data(data=original_ride_df , name='original')\n",
    "map_denoised_ride.add_data(data=noisy_ride_df , name='noisy')\n",
    "map_denoised_ride.save_to_html(file_name='ride_denoised_map.html')"
   ]
  },
  {
   "cell_type": "markdown",
   "metadata": {},
   "source": [
    "# Testing your model"
   ]
  },
  {
   "cell_type": "markdown",
   "metadata": {},
   "source": [
    "In this section, you should test your model. You could use your dataset (which you generated, step-by-step) until now, to implement, debug and train your model. Now, you should load `test_dataset` that we provided to you as `noisy_test_dataset.csv` and `original_test_dataset.csv`. Run your model on `noisy_test_dataset` and use `original_test_dataset` to evaluate how good you did. run your model on `noisy_test_dataset` to denoise the points. You should put the denoised points in a csv file named `denoised_test_dataset.csv` and submit it with your notebook. Also, You should report the **Mean haversine distance (MHD)** as the measaure of the loss of your model. Go through each trip in the `noisy_test_dataset` and calculate the MHD for each trip. Finally, report the average of the MHDs of all the trips in the `test_dataset` as the MHD of your model."
   ]
  },
  {
   "cell_type": "code",
   "execution_count": null,
   "metadata": {},
   "outputs": [],
   "source": [
    "from haversine import haversine\n",
    "from tqdm import tqdm\n",
    "\n",
    "def mean_haversine_distance(denoised_points, original_points):\n",
    "    mean_haversine = 0\n",
    "    for i in range(len(denoised_points)):\n",
    "        mean_haversine += haversine(denoised_points[i], original_points[i])\n",
    "    return mean_haversine / len(denoised_points)\n",
    "\n",
    "test_dataset_noisy = pd.read_csv(\"noisy_test_dataset.csv\")\n",
    "test_dataset_original = pd.read_csv(\"original_test_dataset.csv\")\n",
    "\n",
    "test_dataset_original"
   ]
  },
  {
   "cell_type": "code",
   "execution_count": null,
   "metadata": {},
   "outputs": [],
   "source": [
    "test_dataset_noisy"
   ]
  },
  {
   "cell_type": "code",
   "execution_count": null,
   "metadata": {},
   "outputs": [],
   "source": [
    "# Iterate through each noisy ride and denoise it, then calculate the mean haversine distance between the denoised ride and the original ride\n",
    "# Report the Average Mean Haversine Distance for all the rides in the test dataset\n",
    "# This should be of order 10^-3\n",
    "def calculate_mean_haversine(test_dataset_original, test_dataset_noisy):\n",
    "    mean_haversine = 0\n",
    "    for i in range(20):\n",
    "        noisy_ride = []\n",
    "        original_ride = []\n",
    "        for j in range(len(test_dataset_noisy)):\n",
    "            if test_dataset_noisy.iloc[j]['trip_id'] == i:\n",
    "                noisy_ride.append([test_dataset_noisy.iloc[j]['lat'], test_dataset_noisy.iloc[j]['lon']])\n",
    "                original_ride.append([test_dataset_original.iloc[j]['lat'], test_dataset_original.iloc[j]['lon']])\n",
    "        denoised_trip = viterbi(noisy_ride)\n",
    "        trip = []\n",
    "        for i in range(len(denoised_trip)):\n",
    "            street = pasdaran_streets.iloc[denoised_trip[i]]\n",
    "            trip.append([(street['u_lat']+street['v_lat'])/2, (street['u_lon']+street['v_lon'])/2])\n",
    "\n",
    "        mean_haversine += mean_haversine_distance(trip, original_ride)\n",
    "    return mean_haversine / 20\n",
    "\n",
    "print(calculate_mean_haversine(test_dataset_original, test_dataset_noisy))     \n",
    "            "
   ]
  },
  {
   "cell_type": "markdown",
   "metadata": {},
   "source": [
    "**How to submit**: You should submit your notebook and the `denoised_test_dataset.csv` file. Your codes are verified based on the \"Mean haversine distance\" value that your code gets and the `denoised_test_dataset.csv`. Also, note that for the **shortest path** section, you should have submitted the `.py` file, containing the `def find_shotest_path(start_node, end_node, graph)` function (and all of necessary imports) on quera. Your code will be verified based on the correctness of the shortest path that you find. So, you should submit these in total:\n",
    "1. `STUDENT_NUMBER_Phase1.ipynb` or `.zip` file containing your notebook and the `denoised_test_dataset.csv` file.\n",
    "2. `STUDENT_NUMBER_Phase1.py` file containing the `find_shortest_path` function. (Also submit this to the related section in quera)\n",
    "3. Printed out Average Haversine Distance in the last cell of notebook. (This should be of order $10^{-3}$)"
   ]
  },
  {
   "cell_type": "code",
   "execution_count": null,
   "metadata": {},
   "outputs": [],
   "source": []
  }
 ],
 "metadata": {
  "colab": {
   "provenance": []
  },
  "kernelspec": {
   "display_name": "Python 3 (ipykernel)",
   "language": "python",
   "name": "python3"
  },
  "language_info": {
   "codemirror_mode": {
    "name": "ipython",
    "version": 3
   },
   "file_extension": ".py",
   "mimetype": "text/x-python",
   "name": "python",
   "nbconvert_exporter": "python",
   "pygments_lexer": "ipython3",
   "version": "3.9.13"
  },
  "widgets": {
   "application/vnd.jupyter.widget-state+json": {
    "77b588a25f604d019680da94df72f8d6": {
     "model_module": "keplergl-jupyter",
     "model_module_version": "^0.3.2",
     "model_name": "KeplerGlModal",
     "state": {
      "_dom_classes": [],
      "_model_module": "keplergl-jupyter",
      "_model_module_version": "^0.3.2",
      "_model_name": "KeplerGlModal",
      "_view_count": null,
      "_view_module": "keplergl-jupyter",
      "_view_module_version": "^0.3.2",
      "_view_name": "KeplerGlView",
      "config": {
       "config": {
        "mapState": {
         "bearing": 0,
         "dragRotate": false,
         "isSplit": false,
         "latitude": 35.741495361297474,
         "longitude": 51.41731369359277,
         "pitch": 0,
         "zoom": 12.133728990493546
        },
        "mapStyle": {
         "mapStyles": {},
         "styleType": "dark",
         "threeDBuildingColor": [
          9.665468314072013,
          17.18305478057247,
          31.1442867897876
         ],
         "topLayerGroups": {},
         "visibleLayerGroups": {
          "3d building": false,
          "border": false,
          "building": true,
          "label": true,
          "land": true,
          "road": true,
          "water": true
         }
        },
        "visState": {
         "animationConfig": {
          "currentTime": null,
          "speed": 1
         },
         "filters": [],
         "interactionConfig": {
          "brush": {
           "enabled": false,
           "size": 0.5
          },
          "coordinate": {
           "enabled": false
          },
          "geocoder": {
           "enabled": false
          },
          "tooltip": {
           "compareMode": false,
           "compareType": "absolute",
           "enabled": true,
           "fieldsToShow": {
            "all_data": [
             {
              "format": null,
              "name": "type"
             }
            ]
           }
          }
         },
         "layerBlending": "normal",
         "layers": [
          {
           "config": {
            "color": [
             18,
             147,
             154
            ],
            "columns": {
             "altitude": null,
             "lat": "lat",
             "lng": "lon"
            },
            "dataId": "all_data",
            "hidden": false,
            "highlightColor": [
             252,
             242,
             26,
             255
            ],
            "isVisible": true,
            "label": "locations",
            "textLabel": [
             {
              "alignment": "center",
              "anchor": "start",
              "color": [
               255,
               255,
               255
              ],
              "field": null,
              "offset": [
               0,
               0
              ],
              "size": 18
             }
            ],
            "visConfig": {
             "colorRange": {
              "category": "ColorBrewer",
              "colors": [
               "#e41a1c",
               "#377eb8",
               "#4daf4a",
               "#984ea3",
               "#ff7f00",
               "#ffff33"
              ],
              "name": "ColorBrewer Set1-6",
              "type": "qualitative"
             },
             "filled": true,
             "fixedRadius": false,
             "opacity": 0.8,
             "outline": false,
             "radius": 10,
             "radiusRange": [
              0,
              50
             ],
             "strokeColor": null,
             "strokeColorRange": {
              "category": "Uber",
              "colors": [
               "#5A1846",
               "#900C3F",
               "#C70039",
               "#E3611C",
               "#F1920E",
               "#FFC300"
              ],
              "name": "Global Warming",
              "type": "sequential"
             },
             "thickness": 2
            }
           },
           "id": "ivbjosj",
           "type": "point",
           "visualChannels": {
            "colorField": {
             "name": "type",
             "type": "string"
            },
            "colorScale": "ordinal",
            "sizeField": null,
            "sizeScale": "linear",
            "strokeColorField": null,
            "strokeColorScale": "quantile"
           }
          }
         ],
         "splitMaps": []
        }
       },
       "version": "v1"
      },
      "data": {
       "all_data": {
        "columns": [
         "lat",
         "lon",
         "type"
        ],
        "data": [
         [
          35.76289749145508,
          51.41752243041992,
          "university"
         ],
         [
          35.78015899658203,
          51.31702423095703,
          "university"
         ],
         [
          35.75886917114258,
          51.400691986083984,
          "university"
         ],
         [
          35.80634689331055,
          51.43412780761719,
          "university"
         ],
         [
          35.70586395263672,
          51.39415740966797,
          "university"
         ],
         [
          35.71175765991211,
          51.41083908081055,
          "university"
         ],
         [
          35.703773498535156,
          51.399173736572266,
          "university"
         ],
         [
          35.6207160949707,
          51.391910552978516,
          "university"
         ],
         [
          35.70736312866211,
          51.39768600463867,
          "university"
         ],
         [
          35.70258331298828,
          51.41768264770508,
          "university"
         ],
         [
          35.70863342285156,
          51.38536071777344,
          "university"
         ],
         [
          35.77996826171875,
          51.380184173583984,
          "university"
         ],
         [
          35.72111511230469,
          51.38161849975586,
          "university"
         ],
         [
          35.79006576538086,
          51.312965393066406,
          "university"
         ],
         [
          35.72325134277344,
          51.385257720947266,
          "university"
         ],
         [
          35.72307205200195,
          51.38475036621094,
          "university"
         ],
         [
          35.800254821777344,
          51.462608337402344,
          "university"
         ],
         [
          35.8005485534668,
          51.46290588378906,
          "university"
         ],
         [
          35.80044937133789,
          51.46282958984375,
          "university"
         ],
         [
          35.8001708984375,
          51.4626350402832,
          "university"
         ],
         [
          35.80037307739258,
          51.46287155151367,
          "university"
         ],
         [
          35.809818267822266,
          51.46974182128906,
          "university"
         ],
         [
          35.80210876464844,
          51.49042510986328,
          "university"
         ],
         [
          35.802467346191406,
          51.49069595336914,
          "university"
         ],
         [
          35.802852630615234,
          51.491119384765625,
          "university"
         ],
         [
          35.805320739746094,
          51.49176025390625,
          "university"
         ],
         [
          35.69378662109375,
          51.411800384521484,
          "university"
         ],
         [
          35.70403289794922,
          51.35809326171875,
          "high_school"
         ],
         [
          35.75897979736328,
          51.350746154785156,
          "high_school"
         ],
         [
          35.71183395385742,
          51.49424743652344,
          "high_school"
         ],
         [
          35.66155242919922,
          51.351497650146484,
          "high_school"
         ],
         [
          35.662174224853516,
          51.35105895996094,
          "high_school"
         ],
         [
          35.66262435913086,
          51.351051330566406,
          "high_school"
         ],
         [
          35.77766036987305,
          51.33124923706055,
          "high_school"
         ],
         [
          35.71391677856445,
          51.459285736083984,
          "high_school"
         ],
         [
          35.69200897216797,
          51.39494705200195,
          "high_school"
         ],
         [
          35.71049880981445,
          51.47433090209961,
          "high_school"
         ],
         [
          35.631343841552734,
          51.409542083740234,
          "high_school"
         ],
         [
          35.629573822021484,
          51.410064697265625,
          "high_school"
         ],
         [
          35.75343704223633,
          51.527591705322266,
          "high_school"
         ],
         [
          35.690223693847656,
          51.392024993896484,
          "high_school"
         ],
         [
          35.73594665527344,
          51.29774475097656,
          "high_school"
         ],
         [
          35.724422454833984,
          51.406089782714844,
          "cafe"
         ],
         [
          35.774654388427734,
          51.37675857543945,
          "cafe"
         ],
         [
          35.767845153808594,
          51.44182586669922,
          "cafe"
         ],
         [
          35.75910568237305,
          51.453399658203125,
          "cafe"
         ],
         [
          35.790802001953125,
          51.41978073120117,
          "cafe"
         ],
         [
          35.697750091552734,
          51.407203674316406,
          "cafe"
         ],
         [
          35.75694274902344,
          51.34369659423828,
          "cafe"
         ],
         [
          35.79023361206055,
          51.49240493774414,
          "cafe"
         ],
         [
          35.76307678222656,
          51.33781814575195,
          "cafe"
         ],
         [
          35.77212905883789,
          51.38304138183594,
          "cafe"
         ],
         [
          35.70368576049805,
          51.4019775390625,
          "cafe"
         ],
         [
          35.722991943359375,
          51.40835189819336,
          "cafe"
         ],
         [
          35.727569580078125,
          51.407840728759766,
          "cafe"
         ],
         [
          35.63152313232422,
          51.41822052001953,
          "cafe"
         ],
         [
          35.709388732910156,
          51.42061996459961,
          "cafe"
         ],
         [
          35.725318908691406,
          51.41109848022461,
          "cafe"
         ],
         [
          35.70684051513672,
          51.414459228515625,
          "cafe"
         ],
         [
          35.6965446472168,
          51.42274856567383,
          "cafe"
         ],
         [
          35.725250244140625,
          51.33550262451172,
          "cafe"
         ],
         [
          35.753082275390625,
          51.333251953125,
          "cafe"
         ],
         [
          35.69471740722656,
          51.41681671142578,
          "cafe"
         ],
         [
          35.71518325805664,
          51.419681549072266,
          "cafe"
         ],
         [
          35.76353073120117,
          51.4109992980957,
          "cafe"
         ],
         [
          35.71308898925781,
          51.41477584838867,
          "cafe"
         ],
         [
          35.76559066772461,
          51.45576858520508,
          "cafe"
         ],
         [
          35.76375961303711,
          51.3369140625,
          "cafe"
         ],
         [
          35.75556182861328,
          51.45295715332031,
          "cafe"
         ],
         [
          35.72909927368164,
          51.41273880004883,
          "cafe"
         ],
         [
          35.73232650756836,
          51.48518371582031,
          "cafe"
         ],
         [
          35.723331451416016,
          51.42930221557617,
          "cafe"
         ],
         [
          35.76866149902344,
          51.458248138427734,
          "cafe"
         ],
         [
          35.76603317260742,
          51.354736328125,
          "cafe"
         ],
         [
          35.71354675292969,
          51.39773178100586,
          "cafe"
         ],
         [
          35.707435607910156,
          51.39046096801758,
          "cafe"
         ],
         [
          35.7591438293457,
          51.404632568359375,
          "cafe"
         ],
         [
          35.7248649597168,
          51.404911041259766,
          "cafe"
         ],
         [
          35.729496002197266,
          51.3992805480957,
          "cafe"
         ],
         [
          35.726768493652344,
          51.40500259399414,
          "cafe"
         ],
         [
          35.71022033691406,
          51.44589614868164,
          "cafe"
         ],
         [
          35.76286697387695,
          51.444618225097656,
          "cafe"
         ],
         [
          35.75719451904297,
          51.41733169555664,
          "cafe"
         ],
         [
          35.77216720581055,
          51.43892288208008,
          "cafe"
         ],
         [
          35.70035934448242,
          51.38949966430664,
          "cafe"
         ],
         [
          35.762081146240234,
          51.381324768066406,
          "cafe"
         ],
         [
          35.785369873046875,
          51.4234504699707,
          "cafe"
         ],
         [
          35.776527404785156,
          51.36223220825195,
          "cafe"
         ],
         [
          35.77958679199219,
          51.367088317871094,
          "cafe"
         ],
         [
          35.700286865234375,
          51.40456771850586,
          "cafe"
         ],
         [
          35.771156311035156,
          51.37647247314453,
          "cafe"
         ],
         [
          35.777076721191406,
          51.413604736328125,
          "cafe"
         ],
         [
          35.786170959472656,
          51.371952056884766,
          "cafe"
         ],
         [
          35.70206069946289,
          51.398681640625,
          "cafe"
         ],
         [
          35.71193313598633,
          51.42136001586914,
          "cafe"
         ],
         [
          35.70170974731445,
          51.40547180175781,
          "cafe"
         ],
         [
          35.68861770629883,
          51.41917419433594,
          "cafe"
         ],
         [
          35.70580291748047,
          51.425819396972656,
          "cafe"
         ],
         [
          35.70561218261719,
          51.423526763916016,
          "cafe"
         ],
         [
          35.70561599731445,
          51.42327117919922,
          "cafe"
         ],
         [
          35.70555114746094,
          51.42277908325195,
          "cafe"
         ],
         [
          35.71506881713867,
          51.421897888183594,
          "cafe"
         ],
         [
          35.73873519897461,
          51.313541412353516,
          "cafe"
         ],
         [
          35.7122688293457,
          51.416194915771484,
          "cafe"
         ],
         [
          35.745811462402344,
          51.40472412109375,
          "cafe"
         ],
         [
          35.708072662353516,
          51.39726638793945,
          "cafe"
         ],
         [
          35.79587936401367,
          51.443939208984375,
          "cafe"
         ],
         [
          35.76286315917969,
          51.45756912231445,
          "cafe"
         ],
         [
          35.71192169189453,
          51.421627044677734,
          "cafe"
         ],
         [
          35.794410705566406,
          51.4733772277832,
          "cafe"
         ],
         [
          35.71864700317383,
          51.428504943847656,
          "cafe"
         ],
         [
          35.72669982910156,
          51.30411911010742,
          "cafe"
         ],
         [
          35.676116943359375,
          51.42127227783203,
          "cafe"
         ],
         [
          35.754127502441406,
          51.41910934448242,
          "cafe"
         ],
         [
          35.71757125854492,
          51.426536560058594,
          "cafe"
         ],
         [
          35.72337341308594,
          51.429283142089844,
          "cafe"
         ],
         [
          35.705440521240234,
          51.406158447265625,
          "cafe"
         ],
         [
          35.69971466064453,
          51.402793884277344,
          "cafe"
         ],
         [
          35.72304153442383,
          51.322532653808594,
          "cafe"
         ],
         [
          35.78276062011719,
          51.436344146728516,
          "cafe"
         ],
         [
          35.774322509765625,
          51.42145538330078,
          "cafe"
         ],
         [
          35.776405334472656,
          51.41335678100586,
          "cafe"
         ],
         [
          35.73759460449219,
          51.41489028930664,
          "cafe"
         ],
         [
          35.79175567626953,
          51.43525695800781,
          "cafe"
         ],
         [
          35.72116470336914,
          51.33324432373047,
          "cafe"
         ],
         [
          35.80258560180664,
          51.457584381103516,
          "cafe"
         ],
         [
          35.764713287353516,
          51.45895004272461,
          "cafe"
         ],
         [
          35.738582611083984,
          51.313663482666016,
          "cafe"
         ],
         [
          35.80086898803711,
          51.48409652709961,
          "cafe"
         ],
         [
          35.78458023071289,
          51.37349319458008,
          "cafe"
         ],
         [
          35.79568099975586,
          51.39535903930664,
          "cafe"
         ],
         [
          35.749855041503906,
          51.39814758300781,
          "cafe"
         ],
         [
          35.74991226196289,
          51.398136138916016,
          "cafe"
         ],
         [
          35.70216369628906,
          51.40282440185547,
          "cafe"
         ],
         [
          35.70133972167969,
          51.43513870239258,
          "cafe"
         ],
         [
          35.697845458984375,
          51.378562927246094,
          "cafe"
         ],
         [
          35.7081413269043,
          51.41559982299805,
          "cafe"
         ],
         [
          35.724266052246094,
          51.43381881713867,
          "cafe"
         ],
         [
          35.70137405395508,
          51.41690444946289,
          "cafe"
         ],
         [
          35.77505111694336,
          51.436336517333984,
          "cafe"
         ],
         [
          35.7017936706543,
          51.39128112792969,
          "cafe"
         ],
         [
          35.744571685791016,
          51.398643493652344,
          "cafe"
         ],
         [
          35.715763092041016,
          51.41240692138672,
          "cafe"
         ],
         [
          35.69470977783203,
          51.41780090332031,
          "cafe"
         ],
         [
          35.6952018737793,
          51.43265914916992,
          "cafe"
         ],
         [
          35.68989944458008,
          51.42830276489258,
          "cafe"
         ],
         [
          35.699588775634766,
          51.4194450378418,
          "cafe"
         ],
         [
          35.768795013427734,
          51.462345123291016,
          "cafe"
         ],
         [
          35.76981735229492,
          51.45973205566406,
          "cafe"
         ],
         [
          35.80223083496094,
          51.45801544189453,
          "cafe"
         ],
         [
          35.760799407958984,
          51.40492630004883,
          "cafe"
         ],
         [
          35.78624725341797,
          51.42687225341797,
          "cafe"
         ],
         [
          35.78534698486328,
          51.42979049682617,
          "cafe"
         ],
         [
          35.711185455322266,
          51.41284942626953,
          "cafe"
         ],
         [
          35.75334548950195,
          51.4124641418457,
          "cafe"
         ],
         [
          35.69802474975586,
          51.40579605102539,
          "cafe"
         ],
         [
          35.72294998168945,
          51.44863510131836,
          "cafe"
         ],
         [
          35.69292068481445,
          51.41434860229492,
          "cafe"
         ],
         [
          35.78012466430664,
          51.36083221435547,
          "cafe"
         ],
         [
          35.78132629394531,
          51.335052490234375,
          "cafe"
         ],
         [
          35.70237731933594,
          51.402347564697266,
          "cafe"
         ],
         [
          35.723018646240234,
          51.43146896362305,
          "cafe"
         ],
         [
          35.701480865478516,
          51.41166687011719,
          "cafe"
         ],
         [
          35.70283508300781,
          51.42124938964844,
          "cafe"
         ],
         [
          35.68946838378906,
          51.40704345703125,
          "cafe"
         ],
         [
          35.721275329589844,
          51.433589935302734,
          "cafe"
         ],
         [
          35.77017593383789,
          51.49202346801758,
          "cafe"
         ],
         [
          35.79787826538086,
          51.44856262207031,
          "cafe"
         ],
         [
          35.7652587890625,
          51.35844039916992,
          "cafe"
         ],
         [
          35.76520919799805,
          51.358177185058594,
          "cafe"
         ],
         [
          35.76002502441406,
          51.33375930786133,
          "cafe"
         ],
         [
          35.75056076049805,
          51.39841842651367,
          "cafe"
         ],
         [
          35.80780029296875,
          51.42704772949219,
          "cafe"
         ],
         [
          35.764312744140625,
          51.350582122802734,
          "cafe"
         ],
         [
          35.7015495300293,
          51.40038299560547,
          "cafe"
         ],
         [
          35.70505142211914,
          51.41578674316406,
          "cafe"
         ],
         [
          35.72111511230469,
          51.320438385009766,
          "cafe"
         ],
         [
          35.70899200439453,
          51.41307830810547,
          "cafe"
         ],
         [
          35.757083892822266,
          51.45296096801758,
          "cafe"
         ],
         [
          35.761966705322266,
          51.459712982177734,
          "cafe"
         ],
         [
          35.703556060791016,
          51.41585159301758,
          "cafe"
         ],
         [
          35.707763671875,
          51.434471130371094,
          "cafe"
         ],
         [
          35.76963806152344,
          51.44078826904297,
          "cafe"
         ],
         [
          35.80937957763672,
          51.454627990722656,
          "cafe"
         ],
         [
          35.71023941040039,
          51.414215087890625,
          "cafe"
         ],
         [
          35.71392822265625,
          51.41915512084961,
          "cafe"
         ],
         [
          35.726234436035156,
          51.526702880859375,
          "cafe"
         ],
         [
          35.71406555175781,
          51.418296813964844,
          "cafe"
         ],
         [
          35.77045822143555,
          51.46163558959961,
          "cafe"
         ],
         [
          35.70259094238281,
          51.40258026123047,
          "cafe"
         ],
         [
          35.698856353759766,
          51.406341552734375,
          "cafe"
         ],
         [
          35.77899169921875,
          51.376319885253906,
          "cafe"
         ],
         [
          35.729434967041016,
          51.49258804321289,
          "cafe"
         ],
         [
          35.76433181762695,
          51.4845085144043,
          "cafe"
         ],
         [
          35.77115249633789,
          51.35517120361328,
          "cafe"
         ],
         [
          35.76969528198242,
          51.4264030456543,
          "cafe"
         ],
         [
          35.7047119140625,
          51.390804290771484,
          "cafe"
         ],
         [
          35.7903938293457,
          51.461238861083984,
          "cafe"
         ],
         [
          35.755149841308594,
          51.45304870605469,
          "cafe"
         ],
         [
          35.74198532104492,
          51.44419860839844,
          "cafe"
         ],
         [
          35.7099609375,
          51.41895294189453,
          "cafe"
         ],
         [
          35.78750228881836,
          51.423526763916016,
          "cafe"
         ],
         [
          35.70117950439453,
          51.41415786743164,
          "cafe"
         ],
         [
          35.70115280151367,
          51.41484451293945,
          "cafe"
         ],
         [
          35.77179718017578,
          51.42901611328125,
          "cafe"
         ],
         [
          35.71628952026367,
          51.417999267578125,
          "cafe"
         ],
         [
          35.69702911376953,
          51.40525817871094,
          "cafe"
         ],
         [
          35.70446014404297,
          51.40089416503906,
          "cafe"
         ],
         [
          35.63487243652344,
          51.381256103515625,
          "cafe"
         ],
         [
          35.697288513183594,
          51.40028381347656,
          "cafe"
         ],
         [
          35.79673385620117,
          51.44426345825195,
          "cafe"
         ],
         [
          35.72031021118164,
          51.405006408691406,
          "cafe"
         ],
         [
          35.76267623901367,
          51.4416389465332,
          "cafe"
         ],
         [
          35.70962905883789,
          51.38954162597656,
          "cafe"
         ],
         [
          35.721492767333984,
          51.43083953857422,
          "cafe"
         ],
         [
          35.745323181152344,
          51.5163688659668,
          "cafe"
         ],
         [
          35.768775939941406,
          51.466094970703125,
          "cafe"
         ],
         [
          35.76815414428711,
          51.4650993347168,
          "cafe"
         ],
         [
          35.790218353271484,
          51.46113204956055,
          "cafe"
         ],
         [
          35.76251220703125,
          51.41444778442383,
          "cafe"
         ],
         [
          35.77495574951172,
          51.436492919921875,
          "cafe"
         ],
         [
          35.79266357421875,
          51.452789306640625,
          "cafe"
         ],
         [
          35.73377990722656,
          51.34520721435547,
          "cafe"
         ],
         [
          35.72542190551758,
          51.4110221862793,
          "cafe"
         ],
         [
          35.7710075378418,
          51.420745849609375,
          "cafe"
         ],
         [
          35.702369689941406,
          51.40862274169922,
          "cafe"
         ],
         [
          35.80111312866211,
          51.415992736816406,
          "cafe"
         ],
         [
          35.71823501586914,
          51.420616149902344,
          "cafe"
         ],
         [
          35.702415466308594,
          51.39781951904297,
          "cafe"
         ],
         [
          35.64780044555664,
          51.39326477050781,
          "cafe"
         ],
         [
          35.79930114746094,
          51.46697998046875,
          "cafe"
         ],
         [
          35.76483917236328,
          51.440834045410156,
          "cafe"
         ],
         [
          35.736289978027344,
          51.33262634277344,
          "cafe"
         ],
         [
          35.79326629638672,
          51.42427444458008,
          "cafe"
         ],
         [
          35.6976203918457,
          51.394691467285156,
          "cafe"
         ],
         [
          35.79032516479492,
          51.42139434814453,
          "cafe"
         ],
         [
          35.72048568725586,
          51.41410827636719,
          "cafe"
         ],
         [
          35.7376708984375,
          51.43244934082031,
          "cafe"
         ],
         [
          35.63514709472656,
          51.40928649902344,
          "cafe"
         ],
         [
          35.78006362915039,
          51.44975280761719,
          "cafe"
         ],
         [
          35.700767517089844,
          51.39577102661133,
          "cafe"
         ]
        ],
        "index": [
         782,
         928,
         1191,
         3344,
         3867,
         4643,
         5146,
         5866,
         7953,
         9300,
         9645,
         9696,
         14937,
         17874,
         18031,
         18032,
         18141,
         18142,
         18143,
         18144,
         18145,
         18146,
         18147,
         18148,
         18149,
         18150,
         19239,
         99,
         2080,
         2285,
         3217,
         3218,
         3219,
         3367,
         6083,
         6269,
         6775,
         7019,
         7020,
         8802,
         11068,
         17658,
         191,
         604,
         684,
         698,
         945,
         1447,
         1678,
         1817,
         1904,
         1948,
         1975,
         2084,
         2086,
         2087,
         2114,
         2160,
         2184,
         2239,
         2276,
         2388,
         2407,
         2416,
         2419,
         2420,
         2433,
         2577,
         2614,
         2802,
         2886,
         3098,
         3181,
         3228,
         3270,
         3271,
         3337,
         3407,
         3408,
         3409,
         3516,
         3563,
         3570,
         3967,
         4079,
         4087,
         4204,
         4230,
         4241,
         4243,
         4266,
         4330,
         4386,
         4526,
         4559,
         4644,
         4646,
         4699,
         4700,
         4702,
         4703,
         4774,
         4913,
         4956,
         4957,
         4958,
         5076,
         5157,
         5299,
         5349,
         5518,
         5625,
         5641,
         5737,
         5922,
         6087,
         6118,
         6126,
         6133,
         6174,
         6223,
         6226,
         6238,
         6240,
         6262,
         6334,
         6398,
         6401,
         6483,
         6536,
         6540,
         6563,
         6575,
         6721,
         6728,
         6739,
         6801,
         6816,
         6818,
         6884,
         6889,
         7242,
         7526,
         7730,
         7758,
         7807,
         7860,
         7926,
         7944,
         8135,
         8195,
         8225,
         8226,
         8365,
         8374,
         8416,
         8450,
         8509,
         8587,
         8724,
         8749,
         8774,
         8775,
         8797,
         8859,
         8953,
         8962,
         8969,
         9083,
         9084,
         9098,
         9385,
         9617,
         9761,
         9966,
         9992,
         10126,
         10275,
         10431,
         10432,
         10464,
         10624,
         10754,
         10770,
         10950,
         11014,
         11088,
         11174,
         11307,
         11616,
         11685,
         11704,
         11894,
         12040,
         12092,
         12229,
         12230,
         12308,
         12384,
         12394,
         12397,
         12672,
         12956,
         12960,
         13004,
         13134,
         13160,
         13199,
         13212,
         13324,
         13978,
         14044,
         14082,
         14171,
         14437,
         14532,
         14755,
         14756,
         15075,
         15184,
         15326,
         15549,
         15868,
         16009,
         16187,
         16316,
         16354,
         17152,
         17227,
         17677,
         17794,
         18034,
         18216,
         18254,
         18263,
         18488,
         18642,
         18663,
         18932,
         19069,
         19083
        ]
       }
      },
      "height": 800,
      "layout": "IPY_MODEL_7f0e0643151c4b4c8166724f7b2e8ab5",
      "value": "Hello World!"
     }
    },
    "7f0e0643151c4b4c8166724f7b2e8ab5": {
     "model_module": "@jupyter-widgets/base",
     "model_module_version": "1.2.0",
     "model_name": "LayoutModel",
     "state": {
      "_model_module": "@jupyter-widgets/base",
      "_model_module_version": "1.2.0",
      "_model_name": "LayoutModel",
      "_view_count": null,
      "_view_module": "@jupyter-widgets/base",
      "_view_module_version": "1.2.0",
      "_view_name": "LayoutView",
      "align_content": null,
      "align_items": null,
      "align_self": null,
      "border": null,
      "bottom": null,
      "display": null,
      "flex": null,
      "flex_flow": null,
      "grid_area": null,
      "grid_auto_columns": null,
      "grid_auto_flow": null,
      "grid_auto_rows": null,
      "grid_column": null,
      "grid_gap": null,
      "grid_row": null,
      "grid_template_areas": null,
      "grid_template_columns": null,
      "grid_template_rows": null,
      "height": null,
      "justify_content": null,
      "justify_items": null,
      "left": null,
      "margin": null,
      "max_height": null,
      "max_width": null,
      "min_height": null,
      "min_width": null,
      "object_fit": null,
      "object_position": null,
      "order": null,
      "overflow": null,
      "overflow_x": null,
      "overflow_y": null,
      "padding": null,
      "right": null,
      "top": null,
      "visibility": null,
      "width": null
     }
    }
   }
  }
 },
 "nbformat": 4,
 "nbformat_minor": 1
}
